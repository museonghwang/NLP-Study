{
  "cells": [
    {
      "attachments": {},
      "cell_type": "markdown",
      "metadata": {
        "id": "fDYxor6YZvMU"
      },
      "source": [
        "2021년 12월 26일에 마지막으로 테스트 되었습니다."
      ]
    },
    {
      "attachments": {},
      "cell_type": "markdown",
      "metadata": {
        "id": "LduI7woEajSi"
      },
      "source": [
        "이 자료는 위키독스 '딥 러닝을 이용한 자연어 처리 입문'의 단어 레벨 번역기의 튜토리얼 자료로서 만들어졌습니다."
      ]
    },
    {
      "attachments": {},
      "cell_type": "markdown",
      "metadata": {
        "id": "5h-69nkkagSz"
      },
      "source": [
        "원문 자료 : https://wikidocs.net/86900"
      ]
    },
    {
      "cell_type": "code",
      "execution_count": 1,
      "metadata": {
        "id": "rlz9NZ8DJYzt"
      },
      "outputs": [
        {
          "data": {
            "text/plain": [
              "'2.9.3'"
            ]
          },
          "execution_count": 1,
          "metadata": {},
          "output_type": "execute_result"
        }
      ],
      "source": [
        "import re\n",
        "import os\n",
        "import unicodedata\n",
        "import urllib3\n",
        "import zipfile\n",
        "import shutil\n",
        "import numpy as np\n",
        "import pandas as pd\n",
        "import tensorflow as tf\n",
        "from tensorflow.keras.layers import Embedding, GRU, Dense\n",
        "from tensorflow.keras.preprocessing.text import Tokenizer\n",
        "from tensorflow.keras.preprocessing.sequence import pad_sequences\n",
        "\n",
        "tf.__version__"
      ]
    },
    {
      "cell_type": "code",
      "execution_count": 2,
      "metadata": {
        "id": "7sCVBRpxJsSs"
      },
      "outputs": [],
      "source": [
        "# http = urllib3.PoolManager()\n",
        "# url ='http://www.manythings.org/anki/fra-eng.zip'\n",
        "# filename = 'fra-eng.zip'\n",
        "# path = os.getcwd()\n",
        "# zipfilename = os.path.join(path, filename)\n",
        "# with http.request('GET', url, preload_content=False) as r, open(zipfilename, 'wb') as out_file:       \n",
        "#     shutil.copyfileobj(r, out_file)\n",
        "\n",
        "# with zipfile.ZipFile(zipfilename, 'r') as zip_ref:\n",
        "#     zip_ref.extractall(path)"
      ]
    },
    {
      "cell_type": "code",
      "execution_count": 3,
      "metadata": {
        "id": "i14IPvoBJNLm"
      },
      "outputs": [],
      "source": [
        "num_samples = 33000"
      ]
    },
    {
      "cell_type": "code",
      "execution_count": 4,
      "metadata": {
        "id": "6b99xrUsJVnD"
      },
      "outputs": [],
      "source": [
        "def unicode_to_ascii(s):\n",
        "    # 프랑스어 악센트(accent) 삭제\n",
        "    # 예시 : 'déjà diné' -> deja dine\n",
        "    return ''.join(c for c in unicodedata.normalize('NFD', s) if unicodedata.category(c) != 'Mn')"
      ]
    },
    {
      "cell_type": "code",
      "execution_count": 5,
      "metadata": {
        "id": "8R1ZUFQPJaHL"
      },
      "outputs": [],
      "source": [
        "def preprocess_sentence(sent):\n",
        "    # 악센트 삭제 함수 호출\n",
        "    sent = unicode_to_ascii(sent.lower())\n",
        "\n",
        "    # 단어와 구두점 사이에 공백을 만듭니다.\n",
        "    # Ex) \"he is a boy.\" => \"he is a boy .\"\n",
        "    sent = re.sub(r\"([?.!,¿])\", r\" \\1\", sent)\n",
        "\n",
        "    # (a-z, A-Z, \".\", \"?\", \"!\", \",\") 이들을 제외하고는 전부 공백으로 변환합니다.\n",
        "    sent = re.sub(r\"[^a-zA-Z!.?]+\", r\" \", sent)\n",
        "\n",
        "    # 다수 개의 공백을 하나의 공백으로 치환\n",
        "    sent = re.sub(r\"\\s+\", \" \", sent)\n",
        "    \n",
        "    return sent"
      ]
    },
    {
      "cell_type": "code",
      "execution_count": 6,
      "metadata": {
        "colab": {
          "base_uri": "https://localhost:8080/"
        },
        "id": "H9g2Vp16Jcrb",
        "outputId": "aad57f15-deaa-4ee5-95fa-4043e6358bf8"
      },
      "outputs": [
        {
          "name": "stdout",
          "output_type": "stream",
          "text": [
            "전처리 전 영어 문장 : Have you had dinner?\n",
            "전처리 후 영어 문장 : have you had dinner ?\n",
            "전처리 전 프랑스어 문장 : Avez-vous déjà diné?\n",
            "전처리 후 프랑스어 문장 : avez vous deja dine ?\n"
          ]
        }
      ],
      "source": [
        "# 전처리 테스트\n",
        "en_sent = u\"Have you had dinner?\"\n",
        "fr_sent = u\"Avez-vous déjà diné?\"\n",
        "\n",
        "print('전처리 전 영어 문장 :', en_sent)\n",
        "print('전처리 후 영어 문장 :', preprocess_sentence(en_sent))\n",
        "print('전처리 전 프랑스어 문장 :', fr_sent)\n",
        "print('전처리 후 프랑스어 문장 :', preprocess_sentence(fr_sent))"
      ]
    },
    {
      "cell_type": "code",
      "execution_count": 7,
      "metadata": {
        "id": "uR-_LHGZJbQr"
      },
      "outputs": [],
      "source": [
        "def load_preprocessed_data():\n",
        "    encoder_input, decoder_input, decoder_target = [], [], []\n",
        "\n",
        "    with open(\"fra.txt\", \"r\") as lines:\n",
        "        for i, line in enumerate(lines):\n",
        "            # source 데이터와 target 데이터 분리\n",
        "            src_line, tar_line, _ = line.strip().split('\\t')\n",
        "\n",
        "            # source 데이터 전처리\n",
        "            src_line = [w for w in preprocess_sentence(src_line).split()]\n",
        "\n",
        "            # target 데이터 전처리\n",
        "            tar_line = preprocess_sentence(tar_line)\n",
        "            tar_line_in = [w for w in (\"<sos> \" + tar_line).split()]\n",
        "            tar_line_out = [w for w in (tar_line + \" <eos>\").split()]\n",
        "\n",
        "            encoder_input.append(src_line)\n",
        "            decoder_input.append(tar_line_in)\n",
        "            decoder_target.append(tar_line_out)\n",
        "\n",
        "            if i == num_samples - 1:\n",
        "                break\n",
        "                \n",
        "    return encoder_input, decoder_input, decoder_target"
      ]
    },
    {
      "cell_type": "code",
      "execution_count": 8,
      "metadata": {
        "id": "BcP4_sXeJdh7"
      },
      "outputs": [
        {
          "name": "stdout",
          "output_type": "stream",
          "text": [
            "인코더의 입력 : [['go', '.'], ['go', '.'], ['go', '.'], ['go', '.'], ['hi', '.']]\n",
            "디코더의 입력 : [['<sos>', 'va', '!'], ['<sos>', 'marche', '.'], ['<sos>', 'en', 'route', '!'], ['<sos>', 'bouge', '!'], ['<sos>', 'salut', '!']]\n",
            "디코더의 레이블 : [['va', '!', '<eos>'], ['marche', '.', '<eos>'], ['en', 'route', '!', '<eos>'], ['bouge', '!', '<eos>'], ['salut', '!', '<eos>']]\n"
          ]
        }
      ],
      "source": [
        "sents_en_in, sents_fra_in, sents_fra_out = load_preprocessed_data()\n",
        "\n",
        "print('인코더의 입력 :', sents_en_in[:5])\n",
        "print('디코더의 입력 :', sents_fra_in[:5])\n",
        "print('디코더의 레이블 :', sents_fra_out[:5])"
      ]
    },
    {
      "cell_type": "code",
      "execution_count": 9,
      "metadata": {
        "id": "mBNqle5oJg9r"
      },
      "outputs": [],
      "source": [
        "tokenizer_en = Tokenizer(filters=\"\", lower=False)\n",
        "tokenizer_en.fit_on_texts(sents_en_in)\n",
        "encoder_input = tokenizer_en.texts_to_sequences(sents_en_in)\n",
        "encoder_input = pad_sequences(encoder_input, padding=\"post\")\n",
        "\n",
        "\n",
        "tokenizer_fra = Tokenizer(filters=\"\", lower=False)\n",
        "tokenizer_fra.fit_on_texts(sents_fra_in)\n",
        "tokenizer_fra.fit_on_texts(sents_fra_out)\n",
        "\n",
        "\n",
        "decoder_input = tokenizer_fra.texts_to_sequences(sents_fra_in)\n",
        "decoder_input = pad_sequences(decoder_input, padding=\"post\")\n",
        "\n",
        "decoder_target = tokenizer_fra.texts_to_sequences(sents_fra_out)\n",
        "decoder_target = pad_sequences(decoder_target, padding=\"post\")"
      ]
    },
    {
      "cell_type": "code",
      "execution_count": 10,
      "metadata": {
        "colab": {
          "base_uri": "https://localhost:8080/"
        },
        "id": "8xo3ITQZJh0T",
        "outputId": "49524acf-7a1a-4719-93c9-2172519c765f"
      },
      "outputs": [
        {
          "name": "stdout",
          "output_type": "stream",
          "text": [
            "인코더의 입력의 크기(shape) : (33000, 7)\n",
            "디코더의 입력의 크기(shape) : (33000, 16)\n",
            "디코더의 레이블의 크기(shape) : (33000, 16)\n"
          ]
        }
      ],
      "source": [
        "print('인코더의 입력의 크기(shape) :', encoder_input.shape)\n",
        "print('디코더의 입력의 크기(shape) :', decoder_input.shape)\n",
        "print('디코더의 레이블의 크기(shape) :', decoder_target.shape)"
      ]
    },
    {
      "cell_type": "code",
      "execution_count": 11,
      "metadata": {
        "colab": {
          "base_uri": "https://localhost:8080/"
        },
        "id": "AATBjTo8JkMy",
        "outputId": "55028023-671c-4f89-bc49-27482884eb05"
      },
      "outputs": [],
      "source": [
        "# max_src_len = encoder_input.shape[1]\n",
        "# max_tar_len = decoder_input.shape[1]\n",
        "# print('source 문장의 최대 길이 :', max_src_len)\n",
        "# print('target 문장의 최대 길이 :', max_tar_len)"
      ]
    },
    {
      "cell_type": "code",
      "execution_count": 12,
      "metadata": {
        "colab": {
          "base_uri": "https://localhost:8080/"
        },
        "id": "v_NTWBaUJk4i",
        "outputId": "ec721feb-0220-4dad-87e3-c12eb4ff23a2"
      },
      "outputs": [
        {
          "name": "stdout",
          "output_type": "stream",
          "text": [
            "영어 단어 집합의 크기 : 4516, 프랑스어 단어 집합의 크기 : 7907\n"
          ]
        }
      ],
      "source": [
        "src_vocab_size = len(tokenizer_en.word_index) + 1\n",
        "tar_vocab_size = len(tokenizer_fra.word_index) + 1\n",
        "print(\"영어 단어 집합의 크기 : {:d}, 프랑스어 단어 집합의 크기 : {:d}\".format(src_vocab_size, tar_vocab_size))"
      ]
    },
    {
      "cell_type": "code",
      "execution_count": 13,
      "metadata": {
        "id": "lxm9W_PoJjf7"
      },
      "outputs": [],
      "source": [
        "src_to_index = tokenizer_en.word_index\n",
        "index_to_src = tokenizer_en.index_word\n",
        "tar_to_index = tokenizer_fra.word_index\n",
        "index_to_tar = tokenizer_fra.index_word"
      ]
    },
    {
      "cell_type": "code",
      "execution_count": 14,
      "metadata": {
        "colab": {
          "base_uri": "https://localhost:8080/"
        },
        "id": "xt0pr-cdJmkD",
        "outputId": "5f693bb6-ab60-42df-cedf-0b18299fe715"
      },
      "outputs": [
        {
          "name": "stdout",
          "output_type": "stream",
          "text": [
            "랜덤 시퀀스 : [17899 32756 30805 ... 19837  6604 22405]\n"
          ]
        }
      ],
      "source": [
        "indices = np.arange(encoder_input.shape[0]) # 33000\n",
        "np.random.shuffle(indices)\n",
        "print('랜덤 시퀀스 :', indices)"
      ]
    },
    {
      "cell_type": "code",
      "execution_count": 15,
      "metadata": {
        "id": "QkzmSVY9J29z"
      },
      "outputs": [],
      "source": [
        "encoder_input = encoder_input[indices]\n",
        "decoder_input = decoder_input[indices]\n",
        "decoder_target = decoder_target[indices]"
      ]
    },
    {
      "cell_type": "code",
      "execution_count": 16,
      "metadata": {
        "colab": {
          "base_uri": "https://localhost:8080/"
        },
        "id": "W34Y6qmJJ4Bj",
        "outputId": "9d27757c-49e0-4d4c-9ed3-84b40c157b53"
      },
      "outputs": [
        {
          "data": {
            "text/plain": [
              "array([   2,   13,   16, 2672,    1,    0,    0], dtype=int32)"
            ]
          },
          "execution_count": 16,
          "metadata": {},
          "output_type": "execute_result"
        }
      ],
      "source": [
        "encoder_input[30997]"
      ]
    },
    {
      "cell_type": "code",
      "execution_count": 17,
      "metadata": {
        "colab": {
          "base_uri": "https://localhost:8080/"
        },
        "id": "-_SoeJOIJ45D",
        "outputId": "1f93e489-0f29-470e-ac16-80e270c901e6"
      },
      "outputs": [
        {
          "data": {
            "text/plain": [
              "array([   2,    4,   21,   16, 5691,    1,    0,    0,    0,    0,    0,\n",
              "          0,    0,    0,    0,    0], dtype=int32)"
            ]
          },
          "execution_count": 17,
          "metadata": {},
          "output_type": "execute_result"
        }
      ],
      "source": [
        "decoder_input[30997]"
      ]
    },
    {
      "cell_type": "code",
      "execution_count": 18,
      "metadata": {
        "colab": {
          "base_uri": "https://localhost:8080/"
        },
        "id": "lscvHdOXJ5yD",
        "outputId": "e8cf0b1b-3efb-4c9c-c903-3370cd573cee"
      },
      "outputs": [
        {
          "data": {
            "text/plain": [
              "array([   4,   21,   16, 5691,    1,    3,    0,    0,    0,    0,    0,\n",
              "          0,    0,    0,    0,    0], dtype=int32)"
            ]
          },
          "execution_count": 18,
          "metadata": {},
          "output_type": "execute_result"
        }
      ],
      "source": [
        "decoder_target[30997]"
      ]
    },
    {
      "cell_type": "code",
      "execution_count": 19,
      "metadata": {
        "colab": {
          "base_uri": "https://localhost:8080/"
        },
        "id": "_RZNFshbJ6g7",
        "outputId": "419d429f-8f53-4df2-d586-fc31eeaf6db2"
      },
      "outputs": [
        {
          "name": "stdout",
          "output_type": "stream",
          "text": [
            "검증 데이터의 개수 : 3300\n"
          ]
        }
      ],
      "source": [
        "n_of_val = int(33000 * 0.1)\n",
        "print('검증 데이터의 개수 :', n_of_val)"
      ]
    },
    {
      "cell_type": "code",
      "execution_count": 20,
      "metadata": {
        "id": "14voLCWTJ7PU"
      },
      "outputs": [],
      "source": [
        "encoder_input_train = encoder_input[:-n_of_val]\n",
        "decoder_input_train = decoder_input[:-n_of_val]\n",
        "decoder_target_train = decoder_target[:-n_of_val]\n",
        "\n",
        "encoder_input_test = encoder_input[-n_of_val:]\n",
        "decoder_input_test = decoder_input[-n_of_val:]\n",
        "decoder_target_test = decoder_target[-n_of_val:]"
      ]
    },
    {
      "cell_type": "code",
      "execution_count": 21,
      "metadata": {
        "colab": {
          "base_uri": "https://localhost:8080/"
        },
        "id": "e_39d-h9J8Eb",
        "outputId": "7f93c2eb-8680-4d03-b058-1f5023ed4ed7"
      },
      "outputs": [
        {
          "name": "stdout",
          "output_type": "stream",
          "text": [
            "훈련 source 데이터의 크기 : (29700, 7)\n",
            "훈련 target 데이터의 크기 : (29700, 16)\n",
            "훈련 target 레이블의 크기 : (29700, 16)\n",
            "\n",
            "테스트 source 데이터의 크기 : (3300, 7)\n",
            "테스트 target 데이터의 크기 : (3300, 16)\n",
            "테스트 target 레이블의 크기 : (3300, 16)\n"
          ]
        }
      ],
      "source": [
        "print('훈련 source 데이터의 크기 :', encoder_input_train.shape)\n",
        "print('훈련 target 데이터의 크기 :', decoder_input_train.shape)\n",
        "print('훈련 target 레이블의 크기 :', decoder_target_train.shape)\n",
        "\n",
        "print('\\n테스트 source 데이터의 크기 :', encoder_input_test.shape)\n",
        "print('테스트 target 데이터의 크기 :', decoder_input_test.shape)\n",
        "print('테스트 target 레이블의 크기 :', decoder_target_test.shape)"
      ]
    },
    {
      "cell_type": "code",
      "execution_count": 22,
      "metadata": {
        "id": "moB2bzsLJ9oC"
      },
      "outputs": [],
      "source": [
        "from tensorflow.keras.layers import Input, LSTM, Embedding, Dense, Masking\n",
        "from tensorflow.keras.models import Model"
      ]
    },
    {
      "cell_type": "code",
      "execution_count": 23,
      "metadata": {
        "id": "RmmwQfMRJ82S"
      },
      "outputs": [],
      "source": [
        "embedding_dim = 64\n",
        "hidden_units = 64"
      ]
    },
    {
      "cell_type": "code",
      "execution_count": 24,
      "metadata": {
        "id": "kmhABadkJ-Tc"
      },
      "outputs": [],
      "source": [
        "# 인코더\n",
        "encoder_inputs = Input(shape=(None,))\n",
        "enc_emb = Embedding(src_vocab_size, embedding_dim)(encoder_inputs) # 임베딩 층\n",
        "enc_masking = Masking(mask_value=0.0)(enc_emb) # 패딩 0은 연산에서 제외\n",
        "\n",
        "# 상태값 리턴을 위해 return_state는 True\n",
        "encoder_lstm = LSTM(hidden_units, return_state=True)\n",
        "\n",
        "encoder_outputs, state_h, state_c = encoder_lstm(enc_masking) # 은닉 상태와 셀 상태를 리턴\n",
        "\n",
        "# 인코더의 은닉 상태와 셀 상태를 저장\n",
        "encoder_states = [state_h, state_c]"
      ]
    },
    {
      "cell_type": "code",
      "execution_count": 25,
      "metadata": {
        "id": "OaEi3nv4J_FS"
      },
      "outputs": [],
      "source": [
        "# 디코더\n",
        "decoder_inputs = Input(shape=(None,))\n",
        "dec_emb_layer = Embedding(tar_vocab_size, hidden_units) # 임베딩 층\n",
        "dec_emb = dec_emb_layer(decoder_inputs)\n",
        "dec_masking = Masking(mask_value=0.0)(dec_emb) # 패딩 0은 연산에서 제외\n",
        "\n",
        "# 상태값 리턴을 위해 return_state는 True, 모든 시점에 대해서 단어를 예측하기 위해 return_sequences는 True\n",
        "decoder_lstm = LSTM(hidden_units, return_sequences=True, return_state=True) \n",
        "\n",
        "# 인코더의 은닉 상태를 초기 은닉 상태(initial_state)로 사용\n",
        "decoder_outputs, _, _ = decoder_lstm(dec_masking, initial_state=encoder_states)\n",
        "\n",
        "# 모든 시점의 결과에 대해서 소프트맥스 함수를 사용한 출력층을 통해 단어 예측\n",
        "decoder_dense = Dense(tar_vocab_size, activation='softmax')\n",
        "decoder_outputs = decoder_dense(decoder_outputs)"
      ]
    },
    {
      "cell_type": "code",
      "execution_count": 26,
      "metadata": {
        "id": "UzdqwXyLZ_xi"
      },
      "outputs": [],
      "source": [
        "# 모델의 입력과 출력을 정의.\n",
        "model = Model([encoder_inputs, decoder_inputs], decoder_outputs)"
      ]
    },
    {
      "cell_type": "code",
      "execution_count": 27,
      "metadata": {
        "colab": {
          "base_uri": "https://localhost:8080/"
        },
        "id": "dtLKFJqXKAr7",
        "outputId": "c4c87705-860f-45e7-9d03-1dd6e96f8598"
      },
      "outputs": [
        {
          "name": "stdout",
          "output_type": "stream",
          "text": [
            "Model: \"model\"\n",
            "__________________________________________________________________________________________________\n",
            " Layer (type)                   Output Shape         Param #     Connected to                     \n",
            "==================================================================================================\n",
            " input_1 (InputLayer)           [(None, None)]       0           []                               \n",
            "                                                                                                  \n",
            " input_2 (InputLayer)           [(None, None)]       0           []                               \n",
            "                                                                                                  \n",
            " embedding (Embedding)          (None, None, 64)     289024      ['input_1[0][0]']                \n",
            "                                                                                                  \n",
            " embedding_1 (Embedding)        (None, None, 64)     506048      ['input_2[0][0]']                \n",
            "                                                                                                  \n",
            " masking (Masking)              (None, None, 64)     0           ['embedding[0][0]']              \n",
            "                                                                                                  \n",
            " masking_1 (Masking)            (None, None, 64)     0           ['embedding_1[0][0]']            \n",
            "                                                                                                  \n",
            " lstm (LSTM)                    [(None, 64),         33024       ['masking[0][0]']                \n",
            "                                 (None, 64),                                                      \n",
            "                                 (None, 64)]                                                      \n",
            "                                                                                                  \n",
            " lstm_1 (LSTM)                  [(None, None, 64),   33024       ['masking_1[0][0]',              \n",
            "                                 (None, 64),                      'lstm[0][1]',                   \n",
            "                                 (None, 64)]                      'lstm[0][2]']                   \n",
            "                                                                                                  \n",
            " dense (Dense)                  (None, None, 7907)   513955      ['lstm_1[0][0]']                 \n",
            "                                                                                                  \n",
            "==================================================================================================\n",
            "Total params: 1,375,075\n",
            "Trainable params: 1,375,075\n",
            "Non-trainable params: 0\n",
            "__________________________________________________________________________________________________\n"
          ]
        }
      ],
      "source": [
        "model.summary()"
      ]
    },
    {
      "cell_type": "code",
      "execution_count": 28,
      "metadata": {
        "id": "5N5zH1kZJ_6b"
      },
      "outputs": [
        {
          "name": "stdout",
          "output_type": "stream",
          "text": [
            "Epoch 1/50\n",
            "233/233 [==============================] - 12s 33ms/step - loss: 3.4443 - acc: 0.6133 - val_loss: 2.1003 - val_acc: 0.6172\n",
            "Epoch 2/50\n",
            "233/233 [==============================] - 7s 29ms/step - loss: 1.9005 - acc: 0.6512 - val_loss: 1.7903 - val_acc: 0.7075\n",
            "Epoch 3/50\n",
            "233/233 [==============================] - 7s 29ms/step - loss: 1.6843 - acc: 0.7355 - val_loss: 1.6207 - val_acc: 0.7490\n",
            "Epoch 4/50\n",
            "233/233 [==============================] - 7s 29ms/step - loss: 1.5351 - acc: 0.7559 - val_loss: 1.4994 - val_acc: 0.7611\n",
            "Epoch 5/50\n",
            "233/233 [==============================] - 7s 30ms/step - loss: 1.4267 - acc: 0.7673 - val_loss: 1.4190 - val_acc: 0.7730\n",
            "Epoch 6/50\n",
            "233/233 [==============================] - 7s 29ms/step - loss: 1.3445 - acc: 0.7787 - val_loss: 1.3471 - val_acc: 0.7818\n",
            "Epoch 7/50\n",
            "233/233 [==============================] - 7s 28ms/step - loss: 1.2696 - acc: 0.7920 - val_loss: 1.2841 - val_acc: 0.7946\n",
            "Epoch 8/50\n",
            "233/233 [==============================] - 7s 29ms/step - loss: 1.2029 - acc: 0.8039 - val_loss: 1.2304 - val_acc: 0.8047\n",
            "Epoch 9/50\n",
            "233/233 [==============================] - 7s 28ms/step - loss: 1.1411 - acc: 0.8149 - val_loss: 1.1749 - val_acc: 0.8146\n",
            "Epoch 10/50\n",
            "233/233 [==============================] - 7s 29ms/step - loss: 1.0853 - acc: 0.8221 - val_loss: 1.1327 - val_acc: 0.8184\n",
            "Epoch 11/50\n",
            "233/233 [==============================] - 7s 29ms/step - loss: 1.0373 - acc: 0.8275 - val_loss: 1.0980 - val_acc: 0.8234\n",
            "Epoch 12/50\n",
            "233/233 [==============================] - 7s 29ms/step - loss: 0.9942 - acc: 0.8322 - val_loss: 1.0672 - val_acc: 0.8265\n",
            "Epoch 13/50\n",
            "233/233 [==============================] - 7s 29ms/step - loss: 0.9557 - acc: 0.8360 - val_loss: 1.0410 - val_acc: 0.8280\n",
            "Epoch 14/50\n",
            "233/233 [==============================] - 7s 29ms/step - loss: 0.9197 - acc: 0.8398 - val_loss: 1.0163 - val_acc: 0.8315\n",
            "Epoch 15/50\n",
            "233/233 [==============================] - 7s 29ms/step - loss: 0.8864 - acc: 0.8439 - val_loss: 0.9945 - val_acc: 0.8345\n",
            "Epoch 16/50\n",
            "233/233 [==============================] - 7s 28ms/step - loss: 0.8552 - acc: 0.8476 - val_loss: 0.9758 - val_acc: 0.8359\n",
            "Epoch 17/50\n",
            "233/233 [==============================] - 7s 28ms/step - loss: 0.8264 - acc: 0.8509 - val_loss: 0.9579 - val_acc: 0.8381\n",
            "Epoch 18/50\n",
            "233/233 [==============================] - 7s 29ms/step - loss: 0.7985 - acc: 0.8541 - val_loss: 0.9407 - val_acc: 0.8405\n",
            "Epoch 19/50\n",
            "233/233 [==============================] - 7s 28ms/step - loss: 0.7723 - acc: 0.8571 - val_loss: 0.9239 - val_acc: 0.8429\n",
            "Epoch 20/50\n",
            "233/233 [==============================] - 7s 29ms/step - loss: 0.7468 - acc: 0.8595 - val_loss: 0.9087 - val_acc: 0.8441\n",
            "Epoch 21/50\n",
            "233/233 [==============================] - 7s 29ms/step - loss: 0.7229 - acc: 0.8619 - val_loss: 0.8967 - val_acc: 0.8457\n",
            "Epoch 22/50\n",
            "233/233 [==============================] - 7s 29ms/step - loss: 0.7009 - acc: 0.8643 - val_loss: 0.8836 - val_acc: 0.8470\n",
            "Epoch 23/50\n",
            "233/233 [==============================] - 7s 29ms/step - loss: 0.6791 - acc: 0.8669 - val_loss: 0.8718 - val_acc: 0.8481\n",
            "Epoch 24/50\n",
            "233/233 [==============================] - 7s 29ms/step - loss: 0.6595 - acc: 0.8691 - val_loss: 0.8611 - val_acc: 0.8502\n",
            "Epoch 25/50\n",
            "233/233 [==============================] - 7s 29ms/step - loss: 0.6399 - acc: 0.8713 - val_loss: 0.8512 - val_acc: 0.8504\n",
            "Epoch 26/50\n",
            "233/233 [==============================] - 7s 28ms/step - loss: 0.6213 - acc: 0.8737 - val_loss: 0.8439 - val_acc: 0.8521\n",
            "Epoch 27/50\n",
            "233/233 [==============================] - 7s 29ms/step - loss: 0.6039 - acc: 0.8755 - val_loss: 0.8333 - val_acc: 0.8534\n",
            "Epoch 28/50\n",
            "233/233 [==============================] - 7s 28ms/step - loss: 0.5857 - acc: 0.8779 - val_loss: 0.8245 - val_acc: 0.8553\n",
            "Epoch 29/50\n",
            "233/233 [==============================] - 7s 29ms/step - loss: 0.5695 - acc: 0.8800 - val_loss: 0.8195 - val_acc: 0.8555\n",
            "Epoch 30/50\n",
            "233/233 [==============================] - 7s 29ms/step - loss: 0.5544 - acc: 0.8819 - val_loss: 0.8118 - val_acc: 0.8562\n",
            "Epoch 31/50\n",
            "233/233 [==============================] - 7s 29ms/step - loss: 0.5390 - acc: 0.8841 - val_loss: 0.8061 - val_acc: 0.8573\n",
            "Epoch 32/50\n",
            "233/233 [==============================] - 7s 29ms/step - loss: 0.5250 - acc: 0.8860 - val_loss: 0.8017 - val_acc: 0.8579\n",
            "Epoch 33/50\n",
            "233/233 [==============================] - 7s 29ms/step - loss: 0.5103 - acc: 0.8882 - val_loss: 0.7993 - val_acc: 0.8572\n",
            "Epoch 34/50\n",
            "233/233 [==============================] - 7s 29ms/step - loss: 0.4974 - acc: 0.8901 - val_loss: 0.7912 - val_acc: 0.8586\n",
            "Epoch 35/50\n",
            "233/233 [==============================] - 7s 29ms/step - loss: 0.4840 - acc: 0.8923 - val_loss: 0.7889 - val_acc: 0.8589\n",
            "Epoch 36/50\n",
            "233/233 [==============================] - 7s 28ms/step - loss: 0.4724 - acc: 0.8938 - val_loss: 0.7842 - val_acc: 0.8599\n",
            "Epoch 37/50\n",
            "233/233 [==============================] - 7s 29ms/step - loss: 0.4610 - acc: 0.8957 - val_loss: 0.7819 - val_acc: 0.8615\n",
            "Epoch 38/50\n",
            "233/233 [==============================] - 7s 29ms/step - loss: 0.4497 - acc: 0.8976 - val_loss: 0.7795 - val_acc: 0.8620\n",
            "Epoch 39/50\n",
            "233/233 [==============================] - 7s 29ms/step - loss: 0.4390 - acc: 0.8994 - val_loss: 0.7755 - val_acc: 0.8618\n",
            "Epoch 40/50\n",
            "233/233 [==============================] - 7s 29ms/step - loss: 0.4278 - acc: 0.9013 - val_loss: 0.7729 - val_acc: 0.8622\n",
            "Epoch 41/50\n",
            "233/233 [==============================] - 7s 28ms/step - loss: 0.4182 - acc: 0.9031 - val_loss: 0.7688 - val_acc: 0.8630\n",
            "Epoch 42/50\n",
            "233/233 [==============================] - 7s 29ms/step - loss: 0.4077 - acc: 0.9052 - val_loss: 0.7715 - val_acc: 0.8632\n",
            "Epoch 43/50\n",
            "233/233 [==============================] - 7s 28ms/step - loss: 0.3985 - acc: 0.9064 - val_loss: 0.7655 - val_acc: 0.8637\n",
            "Epoch 44/50\n",
            "233/233 [==============================] - 7s 29ms/step - loss: 0.3887 - acc: 0.9084 - val_loss: 0.7640 - val_acc: 0.8646\n",
            "Epoch 45/50\n",
            "233/233 [==============================] - 7s 29ms/step - loss: 0.3799 - acc: 0.9101 - val_loss: 0.7626 - val_acc: 0.8648\n",
            "Epoch 46/50\n",
            "233/233 [==============================] - 7s 29ms/step - loss: 0.3713 - acc: 0.9116 - val_loss: 0.7621 - val_acc: 0.8646\n",
            "Epoch 47/50\n",
            "233/233 [==============================] - 7s 29ms/step - loss: 0.3635 - acc: 0.9133 - val_loss: 0.7616 - val_acc: 0.8651\n",
            "Epoch 48/50\n",
            "233/233 [==============================] - 7s 29ms/step - loss: 0.3559 - acc: 0.9147 - val_loss: 0.7601 - val_acc: 0.8660\n",
            "Epoch 49/50\n",
            "233/233 [==============================] - 7s 29ms/step - loss: 0.3485 - acc: 0.9158 - val_loss: 0.7568 - val_acc: 0.8660\n",
            "Epoch 50/50\n",
            "233/233 [==============================] - 7s 29ms/step - loss: 0.3403 - acc: 0.9176 - val_loss: 0.7584 - val_acc: 0.8671\n"
          ]
        },
        {
          "data": {
            "text/plain": [
              "<keras.callbacks.History at 0x7fb180564520>"
            ]
          },
          "execution_count": 28,
          "metadata": {},
          "output_type": "execute_result"
        }
      ],
      "source": [
        "model.compile(\n",
        "    optimizer='adam',\n",
        "    loss='sparse_categorical_crossentropy',\n",
        "    metrics=['acc']\n",
        ")\n",
        "\n",
        "model.fit(\n",
        "    x=[encoder_input_train, decoder_input_train],\n",
        "    y=decoder_target_train,\n",
        "    validation_data=(\n",
        "        [encoder_input_test, decoder_input_test],\n",
        "        decoder_target_test\n",
        "    ),\n",
        "    batch_size=128,\n",
        "    epochs=50\n",
        ")"
      ]
    },
    {
      "cell_type": "code",
      "execution_count": 29,
      "metadata": {
        "id": "WCeLHL7Eaw0g"
      },
      "outputs": [
        {
          "name": "stdout",
          "output_type": "stream",
          "text": [
            "Model: \"model_1\"\n",
            "_________________________________________________________________\n",
            " Layer (type)                Output Shape              Param #   \n",
            "=================================================================\n",
            " input_1 (InputLayer)        [(None, None)]            0         \n",
            "                                                                 \n",
            " embedding (Embedding)       (None, None, 64)          289024    \n",
            "                                                                 \n",
            " masking (Masking)           (None, None, 64)          0         \n",
            "                                                                 \n",
            " lstm (LSTM)                 [(None, 64),              33024     \n",
            "                              (None, 64),                        \n",
            "                              (None, 64)]                        \n",
            "                                                                 \n",
            "=================================================================\n",
            "Total params: 322,048\n",
            "Trainable params: 322,048\n",
            "Non-trainable params: 0\n",
            "_________________________________________________________________\n"
          ]
        }
      ],
      "source": [
        "# 인코더\n",
        "encoder_model = Model(encoder_inputs, encoder_states)\n",
        "encoder_model.summary()"
      ]
    },
    {
      "cell_type": "code",
      "execution_count": 30,
      "metadata": {
        "id": "9COCiea6ayBE"
      },
      "outputs": [],
      "source": [
        "# 디코더 설계 시작\n",
        "# 이전 시점의 상태를 보관할 텐서\n",
        "decoder_state_input_h = Input(shape=(hidden_units,))\n",
        "decoder_state_input_c = Input(shape=(hidden_units,))\n",
        "decoder_states_inputs = [decoder_state_input_h, decoder_state_input_c]\n",
        "\n",
        "# 훈련 때 사용했던 임베딩 층을 재사용\n",
        "dec_emb2 = dec_emb_layer(decoder_inputs)\n",
        "\n",
        "# 다음 단어 예측을 위해 이전 시점의 상태를 현 시점의 초기 상태로 사용\n",
        "decoder_outputs2, state_h2, state_c2 = decoder_lstm(dec_emb2, initial_state=decoder_states_inputs)\n",
        "decoder_states2 = [state_h2, state_c2]\n",
        "\n",
        "# 모든 시점에 대해서 단어 예측\n",
        "decoder_outputs2 = decoder_dense(decoder_outputs2)"
      ]
    },
    {
      "cell_type": "code",
      "execution_count": 31,
      "metadata": {
        "id": "CO3gY6QVa2yE"
      },
      "outputs": [],
      "source": [
        "# 수정된 디코더\n",
        "decoder_model = Model(\n",
        "    [decoder_inputs] + decoder_states_inputs,\n",
        "    [decoder_outputs2] + decoder_states2\n",
        ")"
      ]
    },
    {
      "cell_type": "code",
      "execution_count": 32,
      "metadata": {},
      "outputs": [
        {
          "name": "stdout",
          "output_type": "stream",
          "text": [
            "Model: \"model_2\"\n",
            "__________________________________________________________________________________________________\n",
            " Layer (type)                   Output Shape         Param #     Connected to                     \n",
            "==================================================================================================\n",
            " input_2 (InputLayer)           [(None, None)]       0           []                               \n",
            "                                                                                                  \n",
            " embedding_1 (Embedding)        (None, None, 64)     506048      ['input_2[0][0]']                \n",
            "                                                                                                  \n",
            " input_3 (InputLayer)           [(None, 64)]         0           []                               \n",
            "                                                                                                  \n",
            " input_4 (InputLayer)           [(None, 64)]         0           []                               \n",
            "                                                                                                  \n",
            " lstm_1 (LSTM)                  [(None, None, 64),   33024       ['embedding_1[1][0]',            \n",
            "                                 (None, 64),                      'input_3[0][0]',                \n",
            "                                 (None, 64)]                      'input_4[0][0]']                \n",
            "                                                                                                  \n",
            " dense (Dense)                  (None, None, 7907)   513955      ['lstm_1[1][0]']                 \n",
            "                                                                                                  \n",
            "==================================================================================================\n",
            "Total params: 1,053,027\n",
            "Trainable params: 1,053,027\n",
            "Non-trainable params: 0\n",
            "__________________________________________________________________________________________________\n"
          ]
        }
      ],
      "source": [
        "decoder_model.summary()"
      ]
    },
    {
      "cell_type": "code",
      "execution_count": 33,
      "metadata": {
        "id": "ga64fRPtKDZr"
      },
      "outputs": [],
      "source": [
        "def decode_sequence(input_seq):\n",
        "    # 입력으로부터 인코더의 상태를 얻음\n",
        "    states_value = encoder_model.predict(input_seq)\n",
        "\n",
        "    # <SOS>에 해당하는 정수 생성\n",
        "    target_seq = np.zeros((1,1))\n",
        "    target_seq[0, 0] = tar_to_index['<sos>']\n",
        "\n",
        "    stop_condition = False\n",
        "    decoded_sentence = ''\n",
        "\n",
        "    # stop_condition이 True가 될 때까지 루프 반복\n",
        "    # 구현의 간소화를 위해서 이 함수는 배치 크기를 1로 가정합니다.\n",
        "    while not stop_condition:\n",
        "        # 이점 시점의 상태 states_value를 현 시점의 초기 상태로 사용\n",
        "        output_tokens, h, c = decoder_model.predict([target_seq] + states_value)\n",
        "\n",
        "        # 예측 결과를 단어로 변환\n",
        "        sampled_token_index = np.argmax(output_tokens[0, -1, :])\n",
        "        sampled_char = index_to_tar[sampled_token_index]\n",
        "\n",
        "        # 현재 시점의 예측 단어를 예측 문장에 추가\n",
        "        decoded_sentence += ' '+sampled_char\n",
        "\n",
        "        # <eos>에 도달하거나 정해진 길이를 넘으면 중단.\n",
        "        if (sampled_char == '<eos>' or\n",
        "            len(decoded_sentence) > 50):\n",
        "            stop_condition = True\n",
        "\n",
        "        # 현재 시점의 예측 결과를 다음 시점의 입력으로 사용하기 위해 저장\n",
        "        target_seq = np.zeros((1,1))\n",
        "        target_seq[0, 0] = sampled_token_index\n",
        "\n",
        "        # 현재 시점의 상태를 다음 시점의 상태로 사용하기 위해 저장\n",
        "        states_value = [h, c]\n",
        "\n",
        "    return decoded_sentence"
      ]
    },
    {
      "cell_type": "code",
      "execution_count": 34,
      "metadata": {
        "id": "WJTnaYOfKEdz"
      },
      "outputs": [],
      "source": [
        "# 원문의 정수 시퀀스를 텍스트 시퀀스로 변환\n",
        "def seq_to_src(input_seq):\n",
        "    sentence = ''\n",
        "    for encoded_word in input_seq:\n",
        "        if(encoded_word!=0):\n",
        "            sentence = sentence + index_to_src[encoded_word] + ' '\n",
        "    return sentence\n",
        "\n",
        "# 번역문의 정수 시퀀스를 텍스트 시퀀스로 변환\n",
        "def seq_to_tar(input_seq):\n",
        "    sentence = ''\n",
        "    for encoded_word in input_seq:\n",
        "        if(encoded_word!=0 and encoded_word!=tar_to_index['<sos>'] and encoded_word!=tar_to_index['<eos>']):\n",
        "            sentence = sentence + index_to_tar[encoded_word] + ' '\n",
        "    return sentence"
      ]
    },
    {
      "cell_type": "code",
      "execution_count": 35,
      "metadata": {
        "colab": {
          "base_uri": "https://localhost:8080/"
        },
        "id": "M1LBy-nMKFNr",
        "outputId": "f0e3838c-2a64-4eb8-ac75-a2009881b5a7"
      },
      "outputs": [
        {
          "name": "stdout",
          "output_type": "stream",
          "text": [
            "1/1 [==============================] - 1s 514ms/step\n",
            "1/1 [==============================] - 0s 156ms/step\n",
            "1/1 [==============================] - 0s 10ms/step\n",
            "1/1 [==============================] - 0s 10ms/step\n",
            "1/1 [==============================] - 0s 9ms/step\n",
            "1/1 [==============================] - 0s 9ms/step\n",
            "1/1 [==============================] - 0s 9ms/step\n",
            "1/1 [==============================] - 0s 10ms/step\n",
            "1/1 [==============================] - 0s 9ms/step\n",
            "입력문장 : i retired in . \n",
            "정답문장 : j ai pris ma retraite en . \n",
            "번역문장 : je suis tombe a la retraite . \n",
            "--------------------------------------------------\n",
            "1/1 [==============================] - 0s 9ms/step\n",
            "1/1 [==============================] - 0s 10ms/step\n",
            "1/1 [==============================] - 0s 10ms/step\n",
            "1/1 [==============================] - 0s 10ms/step\n",
            "1/1 [==============================] - 0s 10ms/step\n",
            "1/1 [==============================] - 0s 9ms/step\n",
            "1/1 [==============================] - 0s 9ms/step\n",
            "입력문장 : i found you . \n",
            "정답문장 : je t ai trouve . \n",
            "번역문장 : je vous ai trouve . \n",
            "--------------------------------------------------\n",
            "1/1 [==============================] - 0s 9ms/step\n",
            "1/1 [==============================] - 0s 10ms/step\n",
            "1/1 [==============================] - 0s 10ms/step\n",
            "1/1 [==============================] - 0s 10ms/step\n",
            "1/1 [==============================] - 0s 10ms/step\n",
            "1/1 [==============================] - 0s 10ms/step\n",
            "1/1 [==============================] - 0s 10ms/step\n",
            "1/1 [==============================] - 0s 9ms/step\n",
            "입력문장 : i have many discs . \n",
            "정답문장 : j ai beaucoup de disques . \n",
            "번역문장 : j ai beaucoup de disques . \n",
            "--------------------------------------------------\n",
            "1/1 [==============================] - 0s 9ms/step\n",
            "1/1 [==============================] - 0s 10ms/step\n",
            "1/1 [==============================] - 0s 10ms/step\n",
            "1/1 [==============================] - 0s 10ms/step\n",
            "1/1 [==============================] - 0s 10ms/step\n",
            "입력문장 : i m shivering . \n",
            "정답문장 : je tremble . \n",
            "번역문장 : je tremble . \n",
            "--------------------------------------------------\n",
            "1/1 [==============================] - 0s 9ms/step\n",
            "1/1 [==============================] - 0s 10ms/step\n",
            "1/1 [==============================] - 0s 10ms/step\n",
            "1/1 [==============================] - 0s 10ms/step\n",
            "1/1 [==============================] - 0s 10ms/step\n",
            "1/1 [==============================] - 0s 10ms/step\n",
            "1/1 [==============================] - 0s 10ms/step\n",
            "1/1 [==============================] - 0s 9ms/step\n",
            "1/1 [==============================] - 0s 9ms/step\n",
            "입력문장 : i often hiccup . \n",
            "정답문장 : j ai souvent le hoquet . \n",
            "번역문장 : je fais que j ai gagne . \n",
            "--------------------------------------------------\n"
          ]
        }
      ],
      "source": [
        "for seq_index in [3, 50, 100, 300, 1001]:\n",
        "    input_seq = encoder_input_train[seq_index: seq_index + 1]\n",
        "    decoded_sentence = decode_sequence(input_seq)\n",
        "    \n",
        "    print(\"입력문장 :\", seq_to_src(encoder_input_train[seq_index]))\n",
        "    print(\"정답문장 :\", seq_to_tar(decoder_input_train[seq_index]))\n",
        "    print(\"번역문장 :\", decoded_sentence[1:-5])\n",
        "    print(\"-\"*50)"
      ]
    },
    {
      "cell_type": "code",
      "execution_count": 36,
      "metadata": {
        "colab": {
          "base_uri": "https://localhost:8080/"
        },
        "id": "jVYHVHiGcg9v",
        "outputId": "f7c174e2-76eb-46ec-dcc9-eb779854cabb"
      },
      "outputs": [
        {
          "name": "stdout",
          "output_type": "stream",
          "text": [
            "1/1 [==============================] - 0s 9ms/step\n",
            "1/1 [==============================] - 0s 10ms/step\n",
            "1/1 [==============================] - 0s 10ms/step\n",
            "1/1 [==============================] - 0s 10ms/step\n",
            "1/1 [==============================] - 0s 10ms/step\n",
            "1/1 [==============================] - 0s 10ms/step\n",
            "1/1 [==============================] - 0s 10ms/step\n",
            "1/1 [==============================] - 0s 10ms/step\n",
            "1/1 [==============================] - 0s 10ms/step\n",
            "입력문장 : tom is childish . \n",
            "정답문장 : tom est immature . \n",
            "번역문장 : tom est en train de danser . \n",
            "--------------------------------------------------\n",
            "1/1 [==============================] - 0s 9ms/step\n",
            "1/1 [==============================] - 0s 10ms/step\n",
            "1/1 [==============================] - 0s 10ms/step\n",
            "1/1 [==============================] - 0s 10ms/step\n",
            "1/1 [==============================] - 0s 10ms/step\n",
            "1/1 [==============================] - 0s 10ms/step\n",
            "1/1 [==============================] - 0s 10ms/step\n",
            "1/1 [==============================] - 0s 10ms/step\n",
            "1/1 [==============================] - 0s 10ms/step\n",
            "1/1 [==============================] - 0s 10ms/step\n",
            "입력문장 : i have needs . \n",
            "정답문장 : j ai des besoins . \n",
            "번역문장 : il me faut que j en arriere . \n",
            "--------------------------------------------------\n",
            "1/1 [==============================] - 0s 9ms/step\n",
            "1/1 [==============================] - 0s 10ms/step\n",
            "1/1 [==============================] - 0s 10ms/step\n",
            "1/1 [==============================] - 0s 10ms/step\n",
            "1/1 [==============================] - 0s 10ms/step\n",
            "1/1 [==============================] - 0s 10ms/step\n",
            "1/1 [==============================] - 0s 10ms/step\n",
            "입력문장 : do as you want . \n",
            "정답문장 : fais comme ca te chante . \n",
            "번역문장 : fais comme tu veux . \n",
            "--------------------------------------------------\n",
            "1/1 [==============================] - 0s 10ms/step\n",
            "1/1 [==============================] - 0s 11ms/step\n",
            "1/1 [==============================] - 0s 11ms/step\n",
            "1/1 [==============================] - 0s 12ms/step\n",
            "1/1 [==============================] - 0s 10ms/step\n",
            "입력문장 : brace yourselves . \n",
            "정답문장 : accrochez vous . \n",
            "번역문장 : preparez vous . \n",
            "--------------------------------------------------\n",
            "1/1 [==============================] - 0s 10ms/step\n",
            "1/1 [==============================] - 0s 10ms/step\n",
            "1/1 [==============================] - 0s 10ms/step\n",
            "1/1 [==============================] - 0s 10ms/step\n",
            "1/1 [==============================] - 0s 10ms/step\n",
            "1/1 [==============================] - 0s 10ms/step\n",
            "1/1 [==============================] - 0s 10ms/step\n",
            "입력문장 : tom hates french . \n",
            "정답문장 : tom deteste le francais . \n",
            "번역문장 : tom deteste le francais . \n",
            "--------------------------------------------------\n"
          ]
        }
      ],
      "source": [
        "for seq_index in [3, 50, 100, 300, 1001]:\n",
        "    input_seq = encoder_input_test[seq_index: seq_index + 1]\n",
        "    decoded_sentence = decode_sequence(input_seq)\n",
        "    \n",
        "    print(\"입력문장 :\", seq_to_src(encoder_input_test[seq_index]))\n",
        "    print(\"정답문장 :\", seq_to_tar(decoder_input_test[seq_index]))\n",
        "    print(\"번역문장 :\", decoded_sentence[1:-5])\n",
        "    print(\"-\"*50)"
      ]
    }
  ],
  "metadata": {
    "accelerator": "GPU",
    "colab": {
      "collapsed_sections": [],
      "machine_shape": "hm",
      "name": "Word-level 번역기(Neural Machine Translation).ipynb",
      "provenance": []
    },
    "kernelspec": {
      "display_name": "Python 3",
      "name": "python3"
    },
    "language_info": {
      "codemirror_mode": {
        "name": "ipython",
        "version": 3
      },
      "file_extension": ".py",
      "mimetype": "text/x-python",
      "name": "python",
      "nbconvert_exporter": "python",
      "pygments_lexer": "ipython3",
      "version": "3.8.10"
    }
  },
  "nbformat": 4,
  "nbformat_minor": 0
}
