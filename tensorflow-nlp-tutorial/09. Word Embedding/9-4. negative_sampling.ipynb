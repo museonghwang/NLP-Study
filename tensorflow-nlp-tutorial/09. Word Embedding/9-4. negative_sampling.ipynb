{
  "cells": [
    {
      "attachments": {},
      "cell_type": "markdown",
      "metadata": {
        "id": "huQb0vF0HSOs"
      },
      "source": [
        "이 자료는 위키독스 딥 러닝을 이용한 자연어 처리 입문의 네거티브 샘플링 구현하기 튜토리얼입니다.  \n",
        "\n",
        "링크 : https://wikidocs.net/69141  \n",
        "\n",
        "2021년 10월 14일에 마지막으로 테스트되었습니다."
      ]
    },
    {
      "attachments": {},
      "cell_type": "markdown",
      "metadata": {
        "id": "tnUhr3DtFhku"
      },
      "source": [
        "# 1. 20뉴스그룹 데이터 전처리하기"
      ]
    },
    {
      "cell_type": "code",
      "execution_count": 1,
      "metadata": {
        "id": "zk8aRsZDEXkd"
      },
      "outputs": [],
      "source": [
        "import pandas as pd\n",
        "import numpy as np\n",
        "import nltk\n",
        "from nltk.corpus import stopwords\n",
        "from sklearn.datasets import fetch_20newsgroups\n",
        "from tensorflow.keras.preprocessing.text import Tokenizer"
      ]
    },
    {
      "cell_type": "code",
      "execution_count": 2,
      "metadata": {
        "colab": {
          "base_uri": "https://localhost:8080/"
        },
        "id": "VKtuMmdK3aY6",
        "outputId": "68eebfc1-e5a0-459f-8324-deec8213b69a"
      },
      "outputs": [
        {
          "name": "stdout",
          "output_type": "stream",
          "text": [
            "총 샘플 수 : 11314\n"
          ]
        }
      ],
      "source": [
        "dataset = fetch_20newsgroups(\n",
        "    shuffle=True,\n",
        "    random_state=1,\n",
        "    remove=('headers', 'footers', 'quotes')\n",
        ")\n",
        "\n",
        "documents = dataset.data\n",
        "print('총 샘플 수 :',len(documents))"
      ]
    },
    {
      "cell_type": "code",
      "execution_count": 3,
      "metadata": {
        "id": "4tUNn_k16NPH"
      },
      "outputs": [
        {
          "name": "stderr",
          "output_type": "stream",
          "text": [
            "<ipython-input-3-b4124dfb5e6a>:3: FutureWarning: The default value of regex will change from True to False in a future version.\n",
            "  news_df['clean_doc'] = news_df['document'].str.replace(\"[^a-zA-Z]\", \" \")\n"
          ]
        }
      ],
      "source": [
        "news_df = pd.DataFrame({'document':documents})\n",
        "# 특수 문자 제거\n",
        "news_df['clean_doc'] = news_df['document'].str.replace(\"[^a-zA-Z]\", \" \")\n",
        "# 길이가 3이하인 단어는 제거 (길이가 짧은 단어 제거)\n",
        "news_df['clean_doc'] = news_df['clean_doc'].apply(lambda x: ' '.join([w for w in x.split() if len(w)>3]))\n",
        "# 전체 단어에 대한 소문자 변환\n",
        "news_df['clean_doc'] = news_df['clean_doc'].apply(lambda x: x.lower())"
      ]
    },
    {
      "cell_type": "code",
      "execution_count": 4,
      "metadata": {
        "colab": {
          "base_uri": "https://localhost:8080/",
          "height": 203
        },
        "id": "muG9xzOs6Oac",
        "outputId": "3fa4908c-6328-49d5-a4a4-7d691188b039"
      },
      "outputs": [
        {
          "data": {
            "text/html": [
              "<div>\n",
              "<style scoped>\n",
              "    .dataframe tbody tr th:only-of-type {\n",
              "        vertical-align: middle;\n",
              "    }\n",
              "\n",
              "    .dataframe tbody tr th {\n",
              "        vertical-align: top;\n",
              "    }\n",
              "\n",
              "    .dataframe thead th {\n",
              "        text-align: right;\n",
              "    }\n",
              "</style>\n",
              "<table border=\"1\" class=\"dataframe\">\n",
              "  <thead>\n",
              "    <tr style=\"text-align: right;\">\n",
              "      <th></th>\n",
              "      <th>document</th>\n",
              "      <th>clean_doc</th>\n",
              "    </tr>\n",
              "  </thead>\n",
              "  <tbody>\n",
              "    <tr>\n",
              "      <th>0</th>\n",
              "      <td>Well i'm not sure about the story nad it did s...</td>\n",
              "      <td>well sure about story seem biased what disagre...</td>\n",
              "    </tr>\n",
              "    <tr>\n",
              "      <th>1</th>\n",
              "      <td>\\n\\n\\n\\n\\n\\n\\nYeah, do you expect people to re...</td>\n",
              "      <td>yeah expect people read actually accept hard a...</td>\n",
              "    </tr>\n",
              "    <tr>\n",
              "      <th>2</th>\n",
              "      <td>Although I realize that principle is not one o...</td>\n",
              "      <td>although realize that principle your strongest...</td>\n",
              "    </tr>\n",
              "    <tr>\n",
              "      <th>3</th>\n",
              "      <td>Notwithstanding all the legitimate fuss about ...</td>\n",
              "      <td>notwithstanding legitimate fuss about this pro...</td>\n",
              "    </tr>\n",
              "    <tr>\n",
              "      <th>4</th>\n",
              "      <td>Well, I will have to change the scoring on my ...</td>\n",
              "      <td>well will have change scoring playoff pool unf...</td>\n",
              "    </tr>\n",
              "  </tbody>\n",
              "</table>\n",
              "</div>"
            ],
            "text/plain": [
              "                                            document  \\\n",
              "0  Well i'm not sure about the story nad it did s...   \n",
              "1  \\n\\n\\n\\n\\n\\n\\nYeah, do you expect people to re...   \n",
              "2  Although I realize that principle is not one o...   \n",
              "3  Notwithstanding all the legitimate fuss about ...   \n",
              "4  Well, I will have to change the scoring on my ...   \n",
              "\n",
              "                                           clean_doc  \n",
              "0  well sure about story seem biased what disagre...  \n",
              "1  yeah expect people read actually accept hard a...  \n",
              "2  although realize that principle your strongest...  \n",
              "3  notwithstanding legitimate fuss about this pro...  \n",
              "4  well will have change scoring playoff pool unf...  "
            ]
          },
          "execution_count": 4,
          "metadata": {},
          "output_type": "execute_result"
        }
      ],
      "source": [
        "news_df.head()"
      ]
    },
    {
      "cell_type": "code",
      "execution_count": 5,
      "metadata": {
        "colab": {
          "base_uri": "https://localhost:8080/"
        },
        "id": "KYuAfJNf6Rhd",
        "outputId": "6c98f92d-aac1-49dc-f39e-53d71ae9be06"
      },
      "outputs": [
        {
          "data": {
            "text/plain": [
              "False"
            ]
          },
          "execution_count": 5,
          "metadata": {},
          "output_type": "execute_result"
        }
      ],
      "source": [
        "news_df.isnull().values.any()"
      ]
    },
    {
      "cell_type": "code",
      "execution_count": 6,
      "metadata": {
        "id": "Hx01GnG16uMS"
      },
      "outputs": [],
      "source": [
        "news_df.replace(\"\", float(\"NaN\"), inplace=True)"
      ]
    },
    {
      "cell_type": "code",
      "execution_count": 7,
      "metadata": {
        "colab": {
          "base_uri": "https://localhost:8080/"
        },
        "id": "5Pw5BIic6Sia",
        "outputId": "7ad6d8b4-74e6-4fd7-b2c6-87f1b7873a29"
      },
      "outputs": [
        {
          "data": {
            "text/plain": [
              "True"
            ]
          },
          "execution_count": 7,
          "metadata": {},
          "output_type": "execute_result"
        }
      ],
      "source": [
        "news_df.isnull().values.any()"
      ]
    },
    {
      "cell_type": "code",
      "execution_count": 8,
      "metadata": {
        "id": "EF4dk9kQ6Vt_"
      },
      "outputs": [],
      "source": [
        "news_df.dropna(inplace=True)"
      ]
    },
    {
      "cell_type": "code",
      "execution_count": 9,
      "metadata": {
        "colab": {
          "base_uri": "https://localhost:8080/"
        },
        "id": "8oY9zFwj6xpG",
        "outputId": "0c0c0513-dffd-428c-d3b7-b665c9e62efe"
      },
      "outputs": [
        {
          "name": "stdout",
          "output_type": "stream",
          "text": [
            "총 샘플 수 : 10995\n"
          ]
        }
      ],
      "source": [
        "print('총 샘플 수 :', len(news_df))"
      ]
    },
    {
      "cell_type": "code",
      "execution_count": 10,
      "metadata": {
        "id": "M1vPJR0P6y0v"
      },
      "outputs": [],
      "source": [
        "stop_words = stopwords.words('english') # NLTK로부터 불용어를 받아옵니다.\n",
        "tokenized_doc = news_df['clean_doc'].apply(lambda x: x.split()) # 토큰화\n",
        "\n",
        "# 불용어를 제거합니다.\n",
        "tokenized_doc = tokenized_doc.apply(lambda x: [item for item in x if item not in stop_words])"
      ]
    },
    {
      "cell_type": "code",
      "execution_count": 11,
      "metadata": {
        "id": "NfY-JEAv6z-r"
      },
      "outputs": [],
      "source": [
        "tokenized_doc = tokenized_doc.to_list()"
      ]
    },
    {
      "cell_type": "code",
      "execution_count": 12,
      "metadata": {
        "id": "oMaIyDW961FN"
      },
      "outputs": [],
      "source": [
        "# 단어가 1개 이하인 경우 중심 단어, 주변 단어가 존재하지 않으므로 불가.\n",
        "drop_train = [index for index, sentence in enumerate(tokenized_doc) if len(sentence) <= 1]"
      ]
    },
    {
      "cell_type": "code",
      "execution_count": 13,
      "metadata": {
        "colab": {
          "base_uri": "https://localhost:8080/"
        },
        "id": "Gb5xmVlu62FX",
        "outputId": "a7907cce-eead-4f86-cdb7-798020c3487c"
      },
      "outputs": [
        {
          "name": "stdout",
          "output_type": "stream",
          "text": [
            "[44, 260, 353, 1651, 1839, 2321, 2336, 2371, 2862, 2963, 3290, 3387, 3395, 3396, 3421, 3563, 3591, 3713, 3874, 3897, 4180, 4524, 4587, 4617, 4947, 4970, 5129, 5525, 6015, 6227, 6652, 6723, 6883, 7080, 7956, 8000, 8156, 8212, 8283, 8588, 8867, 8903, 9045, 9555, 9696, 10439, 10447, 10564, 10707, 10730, 10750, 10838, 10896, 10908, 10967]\n"
          ]
        }
      ],
      "source": [
        "print(drop_train)"
      ]
    },
    {
      "cell_type": "code",
      "execution_count": 14,
      "metadata": {
        "colab": {
          "base_uri": "https://localhost:8080/"
        },
        "id": "g7ep1JeY63LT",
        "outputId": "c5d20711-9934-4c07-d8aa-da3434db2352"
      },
      "outputs": [
        {
          "name": "stderr",
          "output_type": "stream",
          "text": [
            "/usr/local/lib/python3.8/dist-packages/numpy/lib/function_base.py:5071: VisibleDeprecationWarning: Creating an ndarray from ragged nested sequences (which is a list-or-tuple of lists-or-tuples-or ndarrays with different lengths or shapes) is deprecated. If you meant to do this, you must specify 'dtype=object' when creating the ndarray.\n",
            "  arr = asarray(arr)\n"
          ]
        }
      ],
      "source": [
        "tokenized_doc = np.delete(tokenized_doc, drop_train, axis=0)"
      ]
    },
    {
      "cell_type": "code",
      "execution_count": 15,
      "metadata": {
        "colab": {
          "base_uri": "https://localhost:8080/"
        },
        "id": "lb0RfjFO64VR",
        "outputId": "428c544f-8cb0-4530-9399-e8089e10697d"
      },
      "outputs": [
        {
          "name": "stdout",
          "output_type": "stream",
          "text": [
            "총 샘플 수 : 10940\n"
          ]
        }
      ],
      "source": [
        "print('총 샘플 수 :', len(tokenized_doc))"
      ]
    },
    {
      "cell_type": "code",
      "execution_count": 16,
      "metadata": {
        "id": "3IKvWstG65f4"
      },
      "outputs": [],
      "source": [
        "tokenizer = Tokenizer()\n",
        "tokenizer.fit_on_texts(tokenized_doc)\n",
        "\n",
        "word2idx = tokenizer.word_index\n",
        "idx2word = {value : key for key, value in word2idx.items()}\n",
        "encoded = tokenizer.texts_to_sequences(tokenized_doc)"
      ]
    },
    {
      "cell_type": "code",
      "execution_count": 17,
      "metadata": {
        "colab": {
          "base_uri": "https://localhost:8080/"
        },
        "id": "zX3mAwbr69C9",
        "outputId": "b072bdce-a53c-4a51-9940-429aa9e5402a"
      },
      "outputs": [
        {
          "name": "stdout",
          "output_type": "stream",
          "text": [
            "[[9, 59, 603, 207, 3278, 1495, 474, 702, 9470, 13686, 5533, 15227, 702, 442, 702, 70, 1148, 1095, 1036, 20294, 984, 705, 4294, 702, 217, 207, 1979, 15228, 13686, 4865, 4520, 87, 1530, 6, 52, 149, 581, 661, 4406, 4988, 4866, 1920, 755, 10668, 1102, 7837, 442, 957, 10669, 634, 51, 228, 2669, 4989, 178, 66, 222, 4521, 6066, 68, 4295], [1026, 532, 2, 60, 98, 582, 107, 800, 23, 79, 4522, 333, 7838, 864, 421, 3825, 458, 6488, 458, 2700, 4730, 333, 23, 9, 4731, 7262, 186, 310, 146, 170, 642, 1260, 107, 33568, 13, 985, 33569, 33570, 9471, 11491], [262, 1036, 2223, 7839, 387, 1, 36, 3, 4, 69, 345, 901, 944, 20, 709, 6, 1662, 24704, 20295, 223, 40, 409, 52, 170, 585, 345, 189, 901, 944, 9, 1036, 1, 24, 901, 944, 1188, 222, 42, 125, 3279, 20295, 223, 1, 1037, 66, 3, 3278, 641, 295, 116, 8994, 1027, 258, 604, 218, 135, 3280, 71, 12465, 11492, 223], [8530, 1430, 11493, 1241, 13, 185, 42, 605, 271, 4627, 958, 340, 1921, 191, 3517, 2071, 33571, 51, 1514, 363, 1674, 3050, 20296, 33572, 8165, 340, 92, 113, 1328, 277, 1308, 62, 279, 6067, 3135, 3462, 548, 722, 35, 1420, 1269, 1128, 381, 75, 310, 1155, 25, 109, 69, 30, 4121, 718, 410, 255, 85, 512, 5892, 9472, 4523, 11, 2581, 1751, 61, 33573, 5112, 20297], [9, 185, 1531, 2204, 2517, 729, 7, 18, 303, 121, 1531, 479, 2413, 260, 1593, 310, 10, 2134, 6489, 1261, 6490, 6733, 55, 4296, 397, 5534]]\n"
          ]
        }
      ],
      "source": [
        "print(encoded[:5])"
      ]
    },
    {
      "cell_type": "code",
      "execution_count": 18,
      "metadata": {
        "colab": {
          "base_uri": "https://localhost:8080/"
        },
        "id": "jghLyuFpE-I7",
        "outputId": "5969b5b8-a041-4c7d-fb55-4ce508d907d2"
      },
      "outputs": [
        {
          "name": "stdout",
          "output_type": "stream",
          "text": [
            "단어 집합의 크기 : 64277\n"
          ]
        }
      ],
      "source": [
        "vocab_size = len(word2idx) + 1 \n",
        "print('단어 집합의 크기 :', vocab_size)"
      ]
    },
    {
      "cell_type": "code",
      "execution_count": 19,
      "metadata": {
        "id": "riWSoMB1FBv1"
      },
      "outputs": [],
      "source": [
        "from tensorflow.keras.preprocessing.sequence import skipgrams"
      ]
    },
    {
      "cell_type": "code",
      "execution_count": 20,
      "metadata": {
        "colab": {
          "base_uri": "https://localhost:8080/"
        },
        "id": "gwWVeev67CH6",
        "outputId": "e467a7c2-31f4-4f82-d578-065ff7e49111"
      },
      "outputs": [],
      "source": [
        "# 네거티브 샘플링\n",
        "skip_grams = [skipgrams(sample, vocabulary_size=vocab_size, window_size=10) for sample in encoded[:10]]"
      ]
    },
    {
      "cell_type": "code",
      "execution_count": 21,
      "metadata": {},
      "outputs": [
        {
          "name": "stdout",
          "output_type": "stream",
          "text": [
            "(power (68), government (51)) -> 1\n",
            "(least (87), mysite (51574)) -> 0\n",
            "(described (984), reputation (5533)) -> 1\n",
            "(seem (207), outbreak (5696)) -> 0\n",
            "(statement (474), media (702)) -> 1\n"
          ]
        }
      ],
      "source": [
        "# 첫번째 샘플인 skip_grams[0] 내 skipgrams로 형성된 데이터셋 확인\n",
        "pairs, labels = skip_grams[0][0], skip_grams[0][1]\n",
        "for i in range(5):\n",
        "    print(\"({:s} ({:d}), {:s} ({:d})) -> {:d}\".format(\n",
        "          idx2word[pairs[i][0]], pairs[i][0], \n",
        "          idx2word[pairs[i][1]], pairs[i][1], \n",
        "          labels[i]))"
      ]
    },
    {
      "cell_type": "code",
      "execution_count": 22,
      "metadata": {
        "colab": {
          "base_uri": "https://localhost:8080/"
        },
        "id": "HWaQyteV7EX8",
        "outputId": "b8035dbe-8da2-4904-b093-ca7d67a585a8"
      },
      "outputs": [
        {
          "name": "stdout",
          "output_type": "stream",
          "text": [
            "10\n"
          ]
        }
      ],
      "source": [
        "print(len(skip_grams))"
      ]
    },
    {
      "cell_type": "code",
      "execution_count": 23,
      "metadata": {
        "colab": {
          "base_uri": "https://localhost:8080/"
        },
        "id": "Evk-a7Ej7FjF",
        "outputId": "7a470bda-1bdf-4958-ea6f-bbe0c3ff874d"
      },
      "outputs": [
        {
          "name": "stdout",
          "output_type": "stream",
          "text": [
            "2220\n",
            "2220\n"
          ]
        }
      ],
      "source": [
        "# 첫번째 샘플에 대해서 생긴 pairs와 labels\n",
        "print(len(pairs))\n",
        "print(len(labels))"
      ]
    },
    {
      "cell_type": "code",
      "execution_count": 24,
      "metadata": {
        "id": "bzaa4pXV7IjN"
      },
      "outputs": [],
      "source": [
        "skip_grams = [skipgrams(sample, vocabulary_size=vocab_size, window_size=10) for sample in encoded]"
      ]
    },
    {
      "attachments": {},
      "cell_type": "markdown",
      "metadata": {
        "id": "WjZzZGfcFfD8"
      },
      "source": [
        "# 2. Skip-Gram with Negative Sampling(SGNS) 구현하기"
      ]
    },
    {
      "cell_type": "code",
      "execution_count": 25,
      "metadata": {
        "id": "N9mZQEjxFlFK"
      },
      "outputs": [],
      "source": [
        "from tensorflow.keras.models import Sequential, Model\n",
        "from tensorflow.keras.layers import Embedding, Reshape, Activation, Input\n",
        "from tensorflow.keras.layers import Dot\n",
        "from tensorflow.keras.utils import plot_model\n",
        "from IPython.display import SVG"
      ]
    },
    {
      "cell_type": "code",
      "execution_count": 26,
      "metadata": {
        "id": "y4YLPMJzF-R1"
      },
      "outputs": [],
      "source": [
        "embedding_dim = 100"
      ]
    },
    {
      "cell_type": "code",
      "execution_count": 27,
      "metadata": {
        "id": "R_nmYoBSF750"
      },
      "outputs": [],
      "source": [
        "# 중심 단어를 위한 임베딩 테이블\n",
        "w_inputs = Input(shape=(1, ), dtype='int32')\n",
        "word_embedding = Embedding(vocab_size, embedding_dim)(w_inputs)\n",
        "\n",
        "# 주변 단어를 위한 임베딩 테이블\n",
        "c_inputs = Input(shape=(1, ), dtype='int32')\n",
        "context_embedding  = Embedding(vocab_size, embedding_dim)(c_inputs)"
      ]
    },
    {
      "cell_type": "code",
      "execution_count": 28,
      "metadata": {
        "id": "sYNFTL3NGGfG"
      },
      "outputs": [],
      "source": [
        "dot_product = Dot(axes=2)([word_embedding, context_embedding])\n",
        "dot_product = Reshape((1,), input_shape=(1, 1))(dot_product)\n",
        "output = Activation('sigmoid')(dot_product)"
      ]
    },
    {
      "cell_type": "code",
      "execution_count": 29,
      "metadata": {
        "colab": {
          "base_uri": "https://localhost:8080/",
          "height": 938
        },
        "id": "Z86_CursGH2T",
        "outputId": "884f9480-5636-49e6-9eea-c0c8aac1451c"
      },
      "outputs": [
        {
          "name": "stdout",
          "output_type": "stream",
          "text": [
            "Model: \"model\"\n",
            "__________________________________________________________________________________________________\n",
            " Layer (type)                   Output Shape         Param #     Connected to                     \n",
            "==================================================================================================\n",
            " input_1 (InputLayer)           [(None, 1)]          0           []                               \n",
            "                                                                                                  \n",
            " input_2 (InputLayer)           [(None, 1)]          0           []                               \n",
            "                                                                                                  \n",
            " embedding (Embedding)          (None, 1, 100)       6427700     ['input_1[0][0]']                \n",
            "                                                                                                  \n",
            " embedding_1 (Embedding)        (None, 1, 100)       6427700     ['input_2[0][0]']                \n",
            "                                                                                                  \n",
            " dot (Dot)                      (None, 1, 1)         0           ['embedding[0][0]',              \n",
            "                                                                  'embedding_1[0][0]']            \n",
            "                                                                                                  \n",
            " reshape (Reshape)              (None, 1)            0           ['dot[0][0]']                    \n",
            "                                                                                                  \n",
            " activation (Activation)        (None, 1)            0           ['reshape[0][0]']                \n",
            "                                                                                                  \n",
            "==================================================================================================\n",
            "Total params: 12,855,400\n",
            "Trainable params: 12,855,400\n",
            "Non-trainable params: 0\n",
            "__________________________________________________________________________________________________\n"
          ]
        },
        {
          "data": {
            "image/png": "[encoded data removed]",
            "text/plain": [
              "<IPython.core.display.Image object>"
            ]
          },
          "execution_count": 29,
          "metadata": {},
          "output_type": "execute_result"
        }
      ],
      "source": [
        "model = Model(inputs=[w_inputs, c_inputs], outputs=output)\n",
        "model.summary()\n",
        "model.compile(loss='binary_crossentropy', optimizer='adam')\n",
        "plot_model(model, to_file='skip_gram.png', show_shapes=True, show_layer_names=True, rankdir='TB')"
      ]
    },
    {
      "cell_type": "code",
      "execution_count": 30,
      "metadata": {
        "colab": {
          "base_uri": "https://localhost:8080/"
        },
        "id": "zIw7eIquGNjL",
        "outputId": "10db2a25-b36f-43c0-c53c-12b8b08b291e"
      },
      "outputs": [
        {
          "name": "stdout",
          "output_type": "stream",
          "text": [
            "Epoch : 1 Loss : 4626.981844887137\n",
            "Epoch : 2 Loss : 3665.3362488895655\n",
            "Epoch : 3 Loss : 3505.8999227024615\n",
            "Epoch : 4 Loss : 3313.1815411988646\n",
            "Epoch : 5 Loss : 3090.51806515269\n",
            "Epoch : 6 Loss : 2854.1424025101587\n",
            "Epoch : 7 Loss : 2647.802926401724\n",
            "Epoch : 8 Loss : 2477.3305542107555\n",
            "Epoch : 9 Loss : 2327.644738064613\n"
          ]
        }
      ],
      "source": [
        "for epoch in range(1, 10):\n",
        "    loss = 0\n",
        "    for _, elem in enumerate(skip_grams):\n",
        "        first_elem = np.array(list(zip(*elem[0]))[0], dtype='int32')\n",
        "        second_elem = np.array(list(zip(*elem[0]))[1], dtype='int32')\n",
        "        labels = np.array(elem[1], dtype='int32')\n",
        "        X = [first_elem, second_elem]\n",
        "        Y = labels\n",
        "        loss += model.train_on_batch(X,Y)  \n",
        "    print('Epoch :', epoch, 'Loss :', loss)"
      ]
    },
    {
      "attachments": {},
      "cell_type": "markdown",
      "metadata": {
        "id": "vLZ2rDt1GQjY"
      },
      "source": [
        "# 3. 결과 확인하기"
      ]
    },
    {
      "cell_type": "code",
      "execution_count": 31,
      "metadata": {
        "id": "-TXPsv0NGUIj"
      },
      "outputs": [],
      "source": [
        "import gensim"
      ]
    },
    {
      "cell_type": "code",
      "execution_count": 32,
      "metadata": {
        "id": "kpCk5Ut34HYC"
      },
      "outputs": [],
      "source": [
        "f = open('vectors.txt' ,'w')\n",
        "f.write('{} {}\\n'.format(vocab_size-1, embedding_dim))\n",
        "vectors = model.get_weights()[0]\n",
        "for word, i in tokenizer.word_index.items():\n",
        "    f.write('{} {}\\n'.format(word, ' '.join(map(str, list(vectors[i, :])))))\n",
        "f.close()"
      ]
    },
    {
      "cell_type": "code",
      "execution_count": 33,
      "metadata": {
        "id": "EILs91hd4Kea"
      },
      "outputs": [],
      "source": [
        "w2v = gensim.models.KeyedVectors.load_word2vec_format('./vectors.txt', binary=False)"
      ]
    },
    {
      "cell_type": "code",
      "execution_count": 34,
      "metadata": {
        "colab": {
          "base_uri": "https://localhost:8080/"
        },
        "id": "tE36GGiX9vDc",
        "outputId": "ef0c84dd-0acd-4c0d-815d-baef2d554a07"
      },
      "outputs": [
        {
          "data": {
            "text/plain": [
              "[('infection', 0.6975768804550171),\n",
              " ('intestinal', 0.6435999870300293),\n",
              " ('inflammation', 0.6353795528411865),\n",
              " ('diseases', 0.6294456124305725),\n",
              " ('patients', 0.6278392672538757),\n",
              " ('candida', 0.6135035157203674),\n",
              " ('systemic', 0.6041629910469055),\n",
              " ('chronic', 0.5998706221580505),\n",
              " ('migraine', 0.5968449711799622),\n",
              " ('symptoms', 0.5910621881484985)]"
            ]
          },
          "execution_count": 34,
          "metadata": {},
          "output_type": "execute_result"
        }
      ],
      "source": [
        "w2v.most_similar(positive=['disease'])"
      ]
    },
    {
      "cell_type": "code",
      "execution_count": 35,
      "metadata": {
        "colab": {
          "base_uri": "https://localhost:8080/"
        },
        "id": "k6FiqwjobX8n",
        "outputId": "1f631a3d-29f0-4b93-94be-972cb9f3751d"
      },
      "outputs": [
        {
          "data": {
            "text/plain": [
              "[('massacred', 0.7330883145332336),\n",
              " ('civilians', 0.726263701915741),\n",
              " ('shelling', 0.7134998440742493),\n",
              " ('refugees', 0.712714672088623),\n",
              " ('brutally', 0.7074486613273621),\n",
              " ('towns', 0.6952769160270691),\n",
              " ('massacre', 0.6930119395256042),\n",
              " ('snipers', 0.6848074793815613),\n",
              " ('azarbaijan', 0.6819743514060974),\n",
              " ('fighters', 0.6770718097686768)]"
            ]
          },
          "execution_count": 35,
          "metadata": {},
          "output_type": "execute_result"
        }
      ],
      "source": [
        "w2v.most_similar(positive=['soldiers'])"
      ]
    },
    {
      "cell_type": "code",
      "execution_count": 36,
      "metadata": {
        "colab": {
          "base_uri": "https://localhost:8080/"
        },
        "id": "CIZpxu_79wWU",
        "outputId": "04670189-e16e-40ae-af11-3762fb284667"
      },
      "outputs": [
        {
          "data": {
            "text/plain": [
              "[('damages', 0.5372452735900879),\n",
              " ('court', 0.5066943764686584),\n",
              " ('brutality', 0.49538081884384155),\n",
              " ('democratic', 0.4885564148426056),\n",
              " ('illegally', 0.4825240671634674),\n",
              " ('deprivation', 0.4776268005371094),\n",
              " ('authorize', 0.4710679054260254),\n",
              " ('enemy', 0.4705543518066406),\n",
              " ('refusal', 0.46288490295410156),\n",
              " ('rifles', 0.4595275819301605)]"
            ]
          },
          "execution_count": 36,
          "metadata": {},
          "output_type": "execute_result"
        }
      ],
      "source": [
        "w2v.most_similar(positive=['police'])"
      ]
    },
    {
      "cell_type": "code",
      "execution_count": 37,
      "metadata": {
        "colab": {
          "base_uri": "https://localhost:8080/"
        },
        "id": "jHhfL_JtfU_R",
        "outputId": "fbe976f9-d01b-41c1-d5c7-39c445113aa9"
      },
      "outputs": [
        {
          "data": {
            "text/plain": [
              "[('betrayed', 0.6657158732414246),\n",
              " ('districts', 0.6575151085853577),\n",
              " ('nichols', 0.6299615502357483),\n",
              " ('harassed', 0.628355860710144),\n",
              " ('racked', 0.6282691359519958),\n",
              " ('tzeghagrons', 0.6266265511512756),\n",
              " ('hairenik', 0.6266023516654968),\n",
              " ('caucasus', 0.619964063167572),\n",
              " ('yerevan', 0.6187404990196228),\n",
              " ('laughter', 0.6154467463493347)]"
            ]
          },
          "execution_count": 37,
          "metadata": {},
          "output_type": "execute_result"
        }
      ],
      "source": [
        "w2v.most_similar(positive=['hero'])"
      ]
    },
    {
      "cell_type": "code",
      "execution_count": 38,
      "metadata": {
        "colab": {
          "base_uri": "https://localhost:8080/"
        },
        "id": "sExcUtpFt4Wm",
        "outputId": "0ba5b036-ec49-4863-d920-20cefdc7bcd5"
      },
      "outputs": [
        {
          "data": {
            "text/plain": [
              "[('sharpened', 0.5512747168540955),\n",
              " ('pathfinder', 0.5506775975227356),\n",
              " ('inline', 0.5288227200508118),\n",
              " ('shocks', 0.5259482264518738),\n",
              " ('rear', 0.4990272521972656),\n",
              " ('brake', 0.47791412472724915),\n",
              " ('rebuilt', 0.47202664613723755),\n",
              " ('slip', 0.4708540439605713),\n",
              " ('trunk', 0.47066107392311096),\n",
              " ('fairing', 0.4700755178928375)]"
            ]
          },
          "execution_count": 38,
          "metadata": {},
          "output_type": "execute_result"
        }
      ],
      "source": [
        "w2v.most_similar(positive=['engine'])"
      ]
    },
    {
      "cell_type": "code",
      "execution_count": 39,
      "metadata": {
        "colab": {
          "base_uri": "https://localhost:8080/"
        },
        "id": "TErCpfXIuOZM",
        "outputId": "0423aaf8-0b85-48d5-e78f-3d26313e7287"
      },
      "outputs": [
        {
          "data": {
            "text/plain": [
              "[('patient', 0.5729305744171143),\n",
              " ('disease', 0.5609087347984314),\n",
              " ('intestinal', 0.532063901424408),\n",
              " ('infection', 0.5251743197441101),\n",
              " ('sumatriptin', 0.514649510383606),\n",
              " ('infections', 0.5072507262229919),\n",
              " ('seizures', 0.5061989426612854),\n",
              " ('antibiotics', 0.4987868666648865),\n",
              " ('patients', 0.497864693403244),\n",
              " ('migraine', 0.4913448691368103)]"
            ]
          },
          "execution_count": 39,
          "metadata": {},
          "output_type": "execute_result"
        }
      ],
      "source": [
        "w2v.most_similar(positive=['doctor'])"
      ]
    }
  ],
  "metadata": {
    "colab": {
      "collapsed_sections": [],
      "name": "negative sampling.ipynb",
      "provenance": []
    },
    "kernelspec": {
      "display_name": "Python 3",
      "name": "python3"
    },
    "language_info": {
      "codemirror_mode": {
        "name": "ipython",
        "version": 3
      },
      "file_extension": ".py",
      "mimetype": "text/x-python",
      "name": "python",
      "nbconvert_exporter": "python",
      "pygments_lexer": "ipython3",
      "version": "3.8.10"
    }
  },
  "nbformat": 4,
  "nbformat_minor": 0
}
