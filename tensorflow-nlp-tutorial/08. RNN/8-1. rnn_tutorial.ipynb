{
  "cells": [
    {
      "cell_type": "markdown",
      "metadata": {
        "id": "xK8cIZid0rfZ"
      },
      "source": [
        "이 자료는 위키독스 딥 러닝을 이용한 자연어 처리 입문의 RNN 튜토리얼 자료입니다.  \n",
        "링크 : https://wikidocs.net/22886"
      ]
    },
    {
      "cell_type": "markdown",
      "metadata": {
        "id": "BvuJfthH0xe4"
      },
      "source": [
        "2021년 10월 12일에 마지막으로 테스트되었습니다."
      ]
    },
    {
      "cell_type": "code",
      "execution_count": 1,
      "metadata": {
        "id": "S639UltKzueE"
      },
      "outputs": [],
      "source": [
        "import tensorflow as tf"
      ]
    },
    {
      "cell_type": "code",
      "execution_count": 2,
      "metadata": {
        "colab": {
          "base_uri": "https://localhost:8080/",
          "height": 35
        },
        "id": "rO3_m3bJzwWj",
        "outputId": "c95d7ba3-b9c7-429b-e84a-714b275d89ba"
      },
      "outputs": [
        {
          "data": {
            "text/plain": [
              "'2.9.3'"
            ]
          },
          "execution_count": 2,
          "metadata": {},
          "output_type": "execute_result"
        }
      ],
      "source": [
        "tf.__version__"
      ]
    },
    {
      "cell_type": "markdown",
      "metadata": {
        "id": "_ov6pkzS4D71"
      },
      "source": [
        "# 1. 케라스(Keras)로 RNN 구현하기"
      ]
    },
    {
      "cell_type": "code",
      "execution_count": 3,
      "metadata": {
        "id": "LpTBZ2UFzo23"
      },
      "outputs": [],
      "source": [
        "from tensorflow.keras.models import Sequential\n",
        "from tensorflow.keras.layers import SimpleRNN"
      ]
    },
    {
      "cell_type": "code",
      "execution_count": 4,
      "metadata": {
        "colab": {
          "base_uri": "https://localhost:8080/"
        },
        "id": "SFgIfrB9zvQs",
        "outputId": "4f88204c-8fb6-4847-f3ff-e21391f7e198"
      },
      "outputs": [
        {
          "name": "stdout",
          "output_type": "stream",
          "text": [
            "Model: \"sequential\"\n",
            "_________________________________________________________________\n",
            " Layer (type)                Output Shape              Param #   \n",
            "=================================================================\n",
            " simple_rnn (SimpleRNN)      (None, 3)                 42        \n",
            "                                                                 \n",
            "=================================================================\n",
            "Total params: 42\n",
            "Trainable params: 42\n",
            "Non-trainable params: 0\n",
            "_________________________________________________________________\n"
          ]
        }
      ],
      "source": [
        "model = Sequential()\n",
        "model.add(SimpleRNN(3, input_shape=(2, 10)))\n",
        "# model.add(SimpleRNN(3, input_length=2, input_dim=10))와 동일\n",
        "model.summary()"
      ]
    },
    {
      "cell_type": "code",
      "execution_count": 5,
      "metadata": {
        "colab": {
          "base_uri": "https://localhost:8080/"
        },
        "id": "dqlw7nfCz3nb",
        "outputId": "a48b61c7-c086-490a-b7f8-e2a210372774"
      },
      "outputs": [
        {
          "name": "stdout",
          "output_type": "stream",
          "text": [
            "Model: \"sequential_1\"\n",
            "_________________________________________________________________\n",
            " Layer (type)                Output Shape              Param #   \n",
            "=================================================================\n",
            " simple_rnn_1 (SimpleRNN)    (8, 3)                    42        \n",
            "                                                                 \n",
            "=================================================================\n",
            "Total params: 42\n",
            "Trainable params: 42\n",
            "Non-trainable params: 0\n",
            "_________________________________________________________________\n"
          ]
        }
      ],
      "source": [
        "model = Sequential()\n",
        "model.add(SimpleRNN(3, batch_input_shape=(8, 2, 10)))\n",
        "model.summary()"
      ]
    },
    {
      "cell_type": "code",
      "execution_count": 6,
      "metadata": {
        "colab": {
          "base_uri": "https://localhost:8080/"
        },
        "id": "7sj_f1kFz587",
        "outputId": "dc128051-fad8-498c-9d2b-050a5a5a8c4c"
      },
      "outputs": [
        {
          "name": "stdout",
          "output_type": "stream",
          "text": [
            "Model: \"sequential_2\"\n",
            "_________________________________________________________________\n",
            " Layer (type)                Output Shape              Param #   \n",
            "=================================================================\n",
            " simple_rnn_2 (SimpleRNN)    (8, 2, 3)                 42        \n",
            "                                                                 \n",
            "=================================================================\n",
            "Total params: 42\n",
            "Trainable params: 42\n",
            "Non-trainable params: 0\n",
            "_________________________________________________________________\n"
          ]
        }
      ],
      "source": [
        "model = Sequential()\n",
        "model.add(SimpleRNN(3, batch_input_shape=(8, 2, 10), return_sequences=True))\n",
        "model.summary()"
      ]
    },
    {
      "cell_type": "markdown",
      "metadata": {
        "id": "kxdcbKcg4GRM"
      },
      "source": [
        "# 2. 파이썬으로 RNN 구현하기"
      ]
    },
    {
      "cell_type": "code",
      "execution_count": 7,
      "metadata": {
        "id": "Y71ozMgbz7IK"
      },
      "outputs": [],
      "source": [
        "import numpy as np\n",
        "\n",
        "hidden_size = 8 # 은닉 상태의 크기. 메모리 셀의 용량이다.\n",
        "timesteps = 10 # 시점의 수. NLP에서는 보통 문장의 길이가 된다.\n",
        "input_dim = 4 # 입력의 차원. NLP에서는 보통 단어 벡터의 차원이 된다.\n",
        "\n",
        "inputs = np.random.random((timesteps, input_dim)) # 입력에 해당되는 2D 텐서\n",
        "\n",
        "# 은닉 상태의 크기 hidden_size로 은닉 상태를 만듬.\n",
        "hidden_state_t = np.zeros((hidden_size,)) # 초기 은닉 상태는 0(벡터)로 초기화"
      ]
    },
    {
      "cell_type": "code",
      "execution_count": 8,
      "metadata": {},
      "outputs": [
        {
          "name": "stdout",
          "output_type": "stream",
          "text": [
            "(10, 4)\n"
          ]
        }
      ],
      "source": [
        "print(np.shape(inputs))"
      ]
    },
    {
      "cell_type": "code",
      "execution_count": 9,
      "metadata": {
        "colab": {
          "base_uri": "https://localhost:8080/"
        },
        "id": "NZDTC6tZz9QK",
        "outputId": "22db3df2-496e-4a0b-a3c1-a9c84697f5fa"
      },
      "outputs": [
        {
          "name": "stdout",
          "output_type": "stream",
          "text": [
            "[0. 0. 0. 0. 0. 0. 0. 0.]\n"
          ]
        }
      ],
      "source": [
        "# 은닉 상태의 크기 hidden_size로 은닉 상태를 만듬.\n",
        "# # 8의 크기를 가지는 은닉 상태. 현재는 초기 은닉 상태로 모든 차원이 0의 값을 가짐.\n",
        "print(hidden_state_t)"
      ]
    },
    {
      "cell_type": "code",
      "execution_count": 10,
      "metadata": {
        "id": "ImKrteYJz-3S"
      },
      "outputs": [],
      "source": [
        "Wx = np.random.random((hidden_size, input_dim))  # (8, 4)크기의 2D 텐서 생성. 입력에 대한 가중치.\n",
        "Wh = np.random.random((hidden_size, hidden_size)) # (8, 8)크기의 2D 텐서 생성. 은닉 상태에 대한 가중치.\n",
        "b = np.random.random((hidden_size,)) # (8,)크기의 1D 텐서 생성. 이 값은 편향(bias)."
      ]
    },
    {
      "cell_type": "code",
      "execution_count": 11,
      "metadata": {
        "colab": {
          "base_uri": "https://localhost:8080/"
        },
        "id": "98HJ6fWx0D4L",
        "outputId": "c77b8a17-b720-4ee7-bf54-31463eb49f33"
      },
      "outputs": [
        {
          "name": "stdout",
          "output_type": "stream",
          "text": [
            "(8, 4)\n",
            "(8, 8)\n",
            "(8,)\n"
          ]
        }
      ],
      "source": [
        "print(np.shape(Wx)) # 은닉 상태의 크기 × 입력의 차원\n",
        "print(np.shape(Wh)) # 은닉 상태의 크기 × 은닉 상태의 크기\n",
        "print(np.shape(b)) # 은닉 상태의 크기"
      ]
    },
    {
      "cell_type": "code",
      "execution_count": 12,
      "metadata": {
        "colab": {
          "base_uri": "https://localhost:8080/"
        },
        "id": "V3WoECPn0E37",
        "outputId": "124aecb8-67e9-46a1-c0a5-e8e9f2acef51"
      },
      "outputs": [
        {
          "name": "stdout",
          "output_type": "stream",
          "text": [
            "(1, 8)\n",
            "(2, 8)\n",
            "(3, 8)\n",
            "(4, 8)\n",
            "(5, 8)\n",
            "(6, 8)\n",
            "(7, 8)\n",
            "(8, 8)\n",
            "(9, 8)\n",
            "(10, 8)\n",
            "[[0.94187713 0.88301099 0.97160341 0.93337546 0.92813526 0.97164946\n",
            "  0.98770055 0.98278864]\n",
            " [0.9999918  0.99980783 0.99976874 0.99985423 0.99999235 0.99999377\n",
            "  0.99995606 0.99999983]\n",
            " [0.99994635 0.99936128 0.99954817 0.99961235 0.99998108 0.99996063\n",
            "  0.99955818 0.99999932]\n",
            " [0.99996239 0.99968535 0.99980347 0.99986062 0.99999258 0.99998787\n",
            "  0.99986686 0.99999949]\n",
            " [0.99999694 0.99990582 0.99990432 0.99993414 0.99999745 0.99999842\n",
            "  0.99998523 0.99999995]\n",
            " [0.99999052 0.99975881 0.9997321  0.99982355 0.99999364 0.99999131\n",
            "  0.99994722 0.99999977]\n",
            " [0.99999645 0.99983231 0.99977873 0.99983593 0.99999453 0.99999549\n",
            "  0.99996604 0.99999993]\n",
            " [0.99998743 0.99981741 0.99989635 0.99991191 0.99999583 0.99999628\n",
            "  0.99995034 0.99999986]\n",
            " [0.99997848 0.99963128 0.99929415 0.99964794 0.99998358 0.99996629\n",
            "  0.99977297 0.99999956]\n",
            " [0.99996879 0.99949154 0.99963281 0.99966269 0.99998464 0.99997542\n",
            "  0.99970914 0.99999963]]\n"
          ]
        }
      ],
      "source": [
        "total_hidden_states = []\n",
        "\n",
        "# 메모리 셀 동작\n",
        "for input_t in inputs: # 각 시점에 따라서 입력값이 입력됨.\n",
        "    output_t = np.tanh(np.dot(Wx, input_t) + np.dot(Wh, hidden_state_t) + b) # Wx * Xt + Wh * Ht-1 + b(bias)\n",
        "    total_hidden_states.append(list(output_t)) # 각 시점의 은닉 상태의 값을 계속해서 축적\n",
        "    print(np.shape(total_hidden_states)) # 각 시점 t별 메모리 셀의 출력의 크기는 (timestep, output_dim)\n",
        "    hidden_state_t = output_t\n",
        "\n",
        "total_hidden_states = np.stack(total_hidden_states, axis = 0) \n",
        "# 출력 시 값을 깔끔하게 해준다.\n",
        "\n",
        "print(total_hidden_states) # (timesteps, output_dim)의 크기. 이 경우 (10, 8)의 크기를 가지는 메모리 셀의 2D 텐서를 출력."
      ]
    },
    {
      "cell_type": "markdown",
      "metadata": {
        "id": "T7fSXI9Q4KSJ"
      },
      "source": [
        "# 3. 깊은 순환 신경망(Deep Recurrent Neural Network)\n"
      ]
    },
    {
      "cell_type": "code",
      "execution_count": 13,
      "metadata": {
        "colab": {
          "base_uri": "https://localhost:8080/"
        },
        "id": "QM4rA7cC0F57",
        "outputId": "daaa16d4-82a6-4de2-e5ed-b9b8c83daae0"
      },
      "outputs": [
        {
          "name": "stdout",
          "output_type": "stream",
          "text": [
            "Model: \"sequential_3\"\n",
            "_________________________________________________________________\n",
            " Layer (type)                Output Shape              Param #   \n",
            "=================================================================\n",
            " simple_rnn_3 (SimpleRNN)    (None, 10, 8)             112       \n",
            "                                                                 \n",
            " simple_rnn_4 (SimpleRNN)    (None, 10, 8)             136       \n",
            "                                                                 \n",
            "=================================================================\n",
            "Total params: 248\n",
            "Trainable params: 248\n",
            "Non-trainable params: 0\n",
            "_________________________________________________________________\n"
          ]
        }
      ],
      "source": [
        "hidden_size = 8\n",
        "\n",
        "model = Sequential()\n",
        "model.add(SimpleRNN(hidden_size, input_length=10, input_dim=5, return_sequences=True))\n",
        "model.add(SimpleRNN(hidden_size, return_sequences=True))\n",
        "model.summary()"
      ]
    },
    {
      "cell_type": "markdown",
      "metadata": {
        "id": "YVQAXIb04NHm"
      },
      "source": [
        "# 4. 양방향 순환 신경망(Bidirectional Recurrent Neural Network)"
      ]
    },
    {
      "cell_type": "code",
      "execution_count": 14,
      "metadata": {
        "id": "vR4QCpPs0ZAU"
      },
      "outputs": [],
      "source": [
        "from tensorflow.keras.layers import Bidirectional"
      ]
    },
    {
      "cell_type": "code",
      "execution_count": 15,
      "metadata": {
        "colab": {
          "base_uri": "https://localhost:8080/"
        },
        "id": "75ceRQ5l0Hx6",
        "outputId": "9ff32833-6493-4cb5-c163-96c55c10b055"
      },
      "outputs": [
        {
          "name": "stdout",
          "output_type": "stream",
          "text": [
            "Model: \"sequential_4\"\n",
            "_________________________________________________________________\n",
            " Layer (type)                Output Shape              Param #   \n",
            "=================================================================\n",
            " bidirectional (Bidirectiona  (None, 10, 16)           224       \n",
            " l)                                                              \n",
            "                                                                 \n",
            "=================================================================\n",
            "Total params: 224\n",
            "Trainable params: 224\n",
            "Non-trainable params: 0\n",
            "_________________________________________________________________\n"
          ]
        }
      ],
      "source": [
        "hidden_size = 8\n",
        "timesteps = 10\n",
        "input_dim = 5\n",
        "\n",
        "model = Sequential()\n",
        "model.add(Bidirectional(SimpleRNN(hidden_size, return_sequences=True), input_shape=(timesteps, input_dim)))\n",
        "model.summary()"
      ]
    },
    {
      "cell_type": "code",
      "execution_count": 16,
      "metadata": {
        "colab": {
          "base_uri": "https://localhost:8080/"
        },
        "id": "AeKbgcKJ0dFr",
        "outputId": "e9a6e000-6a75-4c26-d91a-757f130c3fb0"
      },
      "outputs": [
        {
          "name": "stdout",
          "output_type": "stream",
          "text": [
            "Model: \"sequential_5\"\n",
            "_________________________________________________________________\n",
            " Layer (type)                Output Shape              Param #   \n",
            "=================================================================\n",
            " bidirectional_1 (Bidirectio  (None, 10, 16)           224       \n",
            " nal)                                                            \n",
            "                                                                 \n",
            " bidirectional_2 (Bidirectio  (None, 10, 16)           400       \n",
            " nal)                                                            \n",
            "                                                                 \n",
            " bidirectional_3 (Bidirectio  (None, 10, 16)           400       \n",
            " nal)                                                            \n",
            "                                                                 \n",
            " bidirectional_4 (Bidirectio  (None, 10, 16)           400       \n",
            " nal)                                                            \n",
            "                                                                 \n",
            "=================================================================\n",
            "Total params: 1,424\n",
            "Trainable params: 1,424\n",
            "Non-trainable params: 0\n",
            "_________________________________________________________________\n"
          ]
        }
      ],
      "source": [
        "model = Sequential()\n",
        "model.add(Bidirectional(SimpleRNN(hidden_size, return_sequences = True), input_shape=(timesteps, input_dim)))\n",
        "model.add(Bidirectional(SimpleRNN(hidden_size, return_sequences = True)))\n",
        "model.add(Bidirectional(SimpleRNN(hidden_size, return_sequences = True)))\n",
        "model.add(Bidirectional(SimpleRNN(hidden_size, return_sequences = True)))\n",
        "model.summary()"
      ]
    }
  ],
  "metadata": {
    "colab": {
      "collapsed_sections": [],
      "name": "RNN tutorial.ipynb",
      "provenance": []
    },
    "kernelspec": {
      "display_name": "Python 3",
      "name": "python3"
    },
    "language_info": {
      "codemirror_mode": {
        "name": "ipython",
        "version": 3
      },
      "file_extension": ".py",
      "mimetype": "text/x-python",
      "name": "python",
      "nbconvert_exporter": "python",
      "pygments_lexer": "ipython3",
      "version": "3.8.10"
    }
  },
  "nbformat": 4,
  "nbformat_minor": 0
}
