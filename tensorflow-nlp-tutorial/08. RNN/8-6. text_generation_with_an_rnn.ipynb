{
  "cells": [
    {
      "cell_type": "markdown",
      "metadata": {
        "id": "nQfDeXC5GJEs"
      },
      "source": [
        "이 자료는 위키독스 딥 러닝을 이용한 자연어 처리 입문의 RNN을 이용하여 텍스트 생성하기의 튜토리얼입니다.  \n",
        "\n",
        "링크 : https://wikidocs.net/45101"
      ]
    },
    {
      "cell_type": "markdown",
      "metadata": {
        "id": "Ohqrvu9vGMaa"
      },
      "source": [
        "2021년 10월 13일에 테스트되었습니다."
      ]
    },
    {
      "attachments": {},
      "cell_type": "markdown",
      "metadata": {},
      "source": [
        "다 대 일(many-to-one) 구조의 RNN을 사용하여 문맥을 반영해서 텍스트를 생성하는 모델을 만들어봅시다."
      ]
    },
    {
      "cell_type": "markdown",
      "metadata": {
        "id": "-mwvomP9GHUz"
      },
      "source": [
        "# 1. RNN을 이용하여 텍스트 생성하기"
      ]
    },
    {
      "attachments": {},
      "cell_type": "markdown",
      "metadata": {},
      "source": [
        "예를 들어서 '경마장에 있는 말이 뛰고 있다'와 '그의 말이 법이다'와 '가는 말이 고와야 오는 말이 곱다'라는 세 가지 문장이 있다고 해봅시다. 모델이 문맥을 학습할 수 있도록 전체 문장의 앞의 단어들을 전부 고려하여 학습하도록 데이터를 재구성한다면 아래와 같이 총 11개의 샘플이 구성됩니다.\n",
        "\n",
        "| samples | X | y |\n",
        "| :----   | :--- | :--- |\n",
        "| 1 | 경마장에 | 있는 |\n",
        "| 2 | 경마장에 있는 | 말이 |\n",
        "| 3 | 경마장에 있는 말이 | 뛰고 |\n",
        "| 4 | 경마장에 있는 말이 뛰고 | 있다 |\n",
        "| 5 | 그의 | 말이 |\n",
        "| 6 | 그의 말이 | 법이다 |\n",
        "| 7 | 가는 | 말이 |\n",
        "| 8 | 가는 말이 | 고와야 |\n",
        "| 9 | 가는 말이 고와야 | 오는 |\n",
        "| 10 | 가는 말이 고와야 오는 | 말이 |\n",
        "| 11 | 가는 말이 고와야 오는 말이 | 곱다 |"
      ]
    },
    {
      "attachments": {},
      "cell_type": "markdown",
      "metadata": {},
      "source": [
        "### 1) 데이터에 대한 이해와 전처리"
      ]
    },
    {
      "cell_type": "code",
      "execution_count": 1,
      "metadata": {
        "id": "S4uTNOaoD1bU"
      },
      "outputs": [],
      "source": [
        "import numpy as np\n",
        "from tensorflow.keras.preprocessing.text import Tokenizer\n",
        "from tensorflow.keras.preprocessing.sequence import pad_sequences\n",
        "from tensorflow.keras.utils import to_categorical"
      ]
    },
    {
      "attachments": {},
      "cell_type": "markdown",
      "metadata": {},
      "source": [
        "우선 예제로 언급한 3개의 한국어 문장을 저장합니다."
      ]
    },
    {
      "cell_type": "code",
      "execution_count": 2,
      "metadata": {
        "id": "HAiu_PerD3Hf"
      },
      "outputs": [],
      "source": [
        "text = \"\"\"경마장에 있는 말이 뛰고 있다\\n\n",
        "그의 말이 법이다\\n\n",
        "가는 말이 고와야 오는 말이 곱다\\n\"\"\""
      ]
    },
    {
      "attachments": {},
      "cell_type": "markdown",
      "metadata": {},
      "source": [
        "단어 집합을 생성하고 크기를 확인해보겠습니다. 단어 집합의 크기를 저장할 때는 케라스 토크나이저의 정수 인코딩은 인덱스가 1부터 시작하지만, 패딩을 위한 0을 고려하여 +1을 해줍니다."
      ]
    },
    {
      "cell_type": "code",
      "execution_count": 3,
      "metadata": {
        "colab": {
          "base_uri": "https://localhost:8080/"
        },
        "id": "xdHAkPfHD75-",
        "outputId": "6f3624ea-421a-47af-b2e6-8bbadcf13ac8"
      },
      "outputs": [
        {
          "name": "stdout",
          "output_type": "stream",
          "text": [
            "단어 집합의 크기 : 12\n"
          ]
        }
      ],
      "source": [
        "tokenizer = Tokenizer()\n",
        "tokenizer.fit_on_texts([text])\n",
        "vocab_size = len(tokenizer.word_index) + 1\n",
        "print('단어 집합의 크기 : %d' % vocab_size)"
      ]
    },
    {
      "attachments": {},
      "cell_type": "markdown",
      "metadata": {},
      "source": [
        "각 단어와 단어에 부여된 정수 인덱스를 출력해보겠습니다."
      ]
    },
    {
      "cell_type": "code",
      "execution_count": 4,
      "metadata": {
        "colab": {
          "base_uri": "https://localhost:8080/"
        },
        "id": "rjSPtvilD9hO",
        "outputId": "ad393403-8ee8-4ea0-811b-e1ae458c2ce0"
      },
      "outputs": [
        {
          "name": "stdout",
          "output_type": "stream",
          "text": [
            "{'말이': 1, '경마장에': 2, '있는': 3, '뛰고': 4, '있다': 5, '그의': 6, '법이다': 7, '가는': 8, '고와야': 9, '오는': 10, '곱다': 11}\n"
          ]
        }
      ],
      "source": [
        "print(tokenizer.word_index)"
      ]
    },
    {
      "attachments": {},
      "cell_type": "markdown",
      "metadata": {},
      "source": [
        "훈련 데이터를 만들어보겠습니다."
      ]
    },
    {
      "cell_type": "code",
      "execution_count": 5,
      "metadata": {
        "colab": {
          "base_uri": "https://localhost:8080/"
        },
        "id": "yxtpUv8fEJim",
        "outputId": "46a71b7f-43fd-4d92-bccc-ddcc3e86c617"
      },
      "outputs": [
        {
          "name": "stdout",
          "output_type": "stream",
          "text": [
            "학습에 사용할 샘플의 개수: 11\n"
          ]
        }
      ],
      "source": [
        "sequences = list()\n",
        "for line in text.split('\\n'): # Wn을 기준으로 문장 토큰화\n",
        "    encoded = tokenizer.texts_to_sequences([line])[0]\n",
        "    for i in range(1, len(encoded)):\n",
        "        sequence = encoded[:i+1]\n",
        "        sequences.append(sequence)\n",
        "\n",
        "print('학습에 사용할 샘플의 개수: %d' % len(sequences))"
      ]
    },
    {
      "attachments": {},
      "cell_type": "markdown",
      "metadata": {},
      "source": [
        "샘플의 개수는 총 11개가 나옵니다. 전체 샘플을 출력해봅시다."
      ]
    },
    {
      "cell_type": "code",
      "execution_count": 6,
      "metadata": {
        "colab": {
          "base_uri": "https://localhost:8080/"
        },
        "id": "Sn3ScsVyEKbO",
        "outputId": "65676236-4127-4dfa-dc17-b16be772151f"
      },
      "outputs": [
        {
          "name": "stdout",
          "output_type": "stream",
          "text": [
            "[[2, 3], [2, 3, 1], [2, 3, 1, 4], [2, 3, 1, 4, 5], [6, 1], [6, 1, 7], [8, 1], [8, 1, 9], [8, 1, 9, 10], [8, 1, 9, 10, 1], [8, 1, 9, 10, 1, 11]]\n"
          ]
        }
      ],
      "source": [
        "print(sequences)"
      ]
    },
    {
      "attachments": {},
      "cell_type": "markdown",
      "metadata": {},
      "source": [
        "위의 데이터는 아직 레이블로 사용될 단어를 분리하지 않은 훈련 데이터입니다. [2, 3]은 [경마장에, 있는]에 해당되며 [2, 3, 1]은 [경마장에, 있는, 말이]에 해당됩니다. 전체 훈련 데이터에 대해서 맨 우측에 있는 단어에 대해서만 레이블로 분리해야 합니다.\n",
        "\n",
        "우선 전체 샘플에 대해서 길이를 일치시켜 줍니다. 가장 긴 샘플의 길이를 기준으로 합니다. 현재 육안으로 봤을 때, 길이가 가장 긴 샘플은 [8, 1, 9, 10, 1, 11]이고 길이는 6입니다. 이를 코드로는 다음과 같이 구할 수 있습니다."
      ]
    },
    {
      "cell_type": "code",
      "execution_count": 7,
      "metadata": {
        "colab": {
          "base_uri": "https://localhost:8080/"
        },
        "id": "2WQk_gFlELvO",
        "outputId": "e3ef7950-8881-4d36-88d1-11c132a70c38"
      },
      "outputs": [
        {
          "name": "stdout",
          "output_type": "stream",
          "text": [
            "샘플의 최대 길이 : 6\n"
          ]
        }
      ],
      "source": [
        "max_len = max(len(l) for l in sequences) # 모든 샘플에서 길이가 가장 긴 샘플의 길이 출력\n",
        "print('샘플의 최대 길이 : {}'.format(max_len))"
      ]
    },
    {
      "attachments": {},
      "cell_type": "markdown",
      "metadata": {},
      "source": [
        "전체 훈련 데이터에서 가장 긴 샘플의 길이가 6임을 확인하였습니다. 전체 샘플의 길이를 6으로 패딩합니다."
      ]
    },
    {
      "cell_type": "code",
      "execution_count": 8,
      "metadata": {
        "id": "D9KPYYerEMiO"
      },
      "outputs": [],
      "source": [
        "sequences = pad_sequences(sequences, maxlen=max_len, padding='pre')"
      ]
    },
    {
      "attachments": {},
      "cell_type": "markdown",
      "metadata": {},
      "source": [
        "pad_sequences()는 모든 샘플에 대해서 0을 사용하여 길이를 맞춰줍니다. maxlen의 값으로 6을 주면 모든 샘플의 길이를 6으로 맞춰주며, padding의 인자로 'pre'를 주면 길이가 6보다 짧은 샘플의 앞에 0으로 채웁니다. 전체 훈련 데이터를 출력해봅니다."
      ]
    },
    {
      "cell_type": "code",
      "execution_count": 9,
      "metadata": {
        "colab": {
          "base_uri": "https://localhost:8080/"
        },
        "id": "H9dK4VDuENZW",
        "outputId": "9d0fadd1-ed2f-46c1-f97b-cc090e1f1b89"
      },
      "outputs": [
        {
          "name": "stdout",
          "output_type": "stream",
          "text": [
            "[[ 0  0  0  0  2  3]\n",
            " [ 0  0  0  2  3  1]\n",
            " [ 0  0  2  3  1  4]\n",
            " [ 0  2  3  1  4  5]\n",
            " [ 0  0  0  0  6  1]\n",
            " [ 0  0  0  6  1  7]\n",
            " [ 0  0  0  0  8  1]\n",
            " [ 0  0  0  8  1  9]\n",
            " [ 0  0  8  1  9 10]\n",
            " [ 0  8  1  9 10  1]\n",
            " [ 8  1  9 10  1 11]]\n"
          ]
        }
      ],
      "source": [
        "print(sequences)"
      ]
    },
    {
      "attachments": {},
      "cell_type": "markdown",
      "metadata": {},
      "source": [
        "길이가 6보다 짧은 모든 샘플에 대해서 앞에 0을 채워서 모든 샘플의 길이를 6으로 바꿨습니다. 이제 각 샘플의 마지막 단어를 레이블로 분리합시다. 레이블의 분리는 Numpy를 이용해서 가능합니다. 리스트의 마지막 값을 제외하고 저장한 것은 X, 리스트의 마지막 값만 저장한 것은 y. 이는 레이블에 해당됩니다."
      ]
    },
    {
      "cell_type": "code",
      "execution_count": 10,
      "metadata": {
        "id": "8Vu99bIZEOFG"
      },
      "outputs": [],
      "source": [
        "sequences = np.array(sequences)\n",
        "X = sequences[:,:-1]\n",
        "y = sequences[:,-1]"
      ]
    },
    {
      "attachments": {},
      "cell_type": "markdown",
      "metadata": {},
      "source": [
        "분리된 X와 y에 대해서 출력해보면 다음과 같습니다."
      ]
    },
    {
      "cell_type": "code",
      "execution_count": 11,
      "metadata": {
        "colab": {
          "base_uri": "https://localhost:8080/"
        },
        "id": "U63gl8GMEPeG",
        "outputId": "30400821-5953-4af9-fc7c-4bdb6fa8ef2b"
      },
      "outputs": [
        {
          "name": "stdout",
          "output_type": "stream",
          "text": [
            "[[ 0  0  0  0  2]\n",
            " [ 0  0  0  2  3]\n",
            " [ 0  0  2  3  1]\n",
            " [ 0  2  3  1  4]\n",
            " [ 0  0  0  0  6]\n",
            " [ 0  0  0  6  1]\n",
            " [ 0  0  0  0  8]\n",
            " [ 0  0  0  8  1]\n",
            " [ 0  0  8  1  9]\n",
            " [ 0  8  1  9 10]\n",
            " [ 8  1  9 10  1]]\n"
          ]
        }
      ],
      "source": [
        "print(X)"
      ]
    },
    {
      "cell_type": "code",
      "execution_count": 12,
      "metadata": {
        "colab": {
          "base_uri": "https://localhost:8080/"
        },
        "id": "11m6JFDBEWTe",
        "outputId": "6c529596-ae93-48f3-d2fa-b17d0d8c7d6f"
      },
      "outputs": [
        {
          "name": "stdout",
          "output_type": "stream",
          "text": [
            "[ 3  1  4  5  1  7  1  9 10  1 11]\n"
          ]
        }
      ],
      "source": [
        "print(y) # 모든 샘플에 대한 레이블 출력"
      ]
    },
    {
      "attachments": {},
      "cell_type": "markdown",
      "metadata": {},
      "source": [
        "레이블이 분리되었습니다. RNN 모델에 훈련 데이터를 훈련 시키기 전에 레이블에 대해서 원-핫 인코딩을 수행합니다."
      ]
    },
    {
      "cell_type": "code",
      "execution_count": 13,
      "metadata": {
        "id": "W3bLeTb1EXSe"
      },
      "outputs": [],
      "source": [
        "y = to_categorical(y, num_classes=vocab_size)"
      ]
    },
    {
      "attachments": {},
      "cell_type": "markdown",
      "metadata": {},
      "source": [
        "원-핫 인코딩이 수행되었는지 출력합니다."
      ]
    },
    {
      "cell_type": "code",
      "execution_count": 14,
      "metadata": {
        "colab": {
          "base_uri": "https://localhost:8080/"
        },
        "id": "rgaGRDAeEYY-",
        "outputId": "c610a783-951b-4a2a-b3d7-be9b4721f565"
      },
      "outputs": [
        {
          "name": "stdout",
          "output_type": "stream",
          "text": [
            "[[0. 0. 0. 1. 0. 0. 0. 0. 0. 0. 0. 0.]\n",
            " [0. 1. 0. 0. 0. 0. 0. 0. 0. 0. 0. 0.]\n",
            " [0. 0. 0. 0. 1. 0. 0. 0. 0. 0. 0. 0.]\n",
            " [0. 0. 0. 0. 0. 1. 0. 0. 0. 0. 0. 0.]\n",
            " [0. 1. 0. 0. 0. 0. 0. 0. 0. 0. 0. 0.]\n",
            " [0. 0. 0. 0. 0. 0. 0. 1. 0. 0. 0. 0.]\n",
            " [0. 1. 0. 0. 0. 0. 0. 0. 0. 0. 0. 0.]\n",
            " [0. 0. 0. 0. 0. 0. 0. 0. 0. 1. 0. 0.]\n",
            " [0. 0. 0. 0. 0. 0. 0. 0. 0. 0. 1. 0.]\n",
            " [0. 1. 0. 0. 0. 0. 0. 0. 0. 0. 0. 0.]\n",
            " [0. 0. 0. 0. 0. 0. 0. 0. 0. 0. 0. 1.]]\n"
          ]
        }
      ],
      "source": [
        "print(y)"
      ]
    },
    {
      "attachments": {},
      "cell_type": "markdown",
      "metadata": {},
      "source": [
        "정상적으로 원-핫 인코딩이 수행된 것을 볼 수 있습니다."
      ]
    },
    {
      "attachments": {},
      "cell_type": "markdown",
      "metadata": {},
      "source": [
        "### 2) 모델 설계하기"
      ]
    },
    {
      "attachments": {},
      "cell_type": "markdown",
      "metadata": {},
      "source": [
        "RNN 모델에 데이터를 훈련시킵니다."
      ]
    },
    {
      "cell_type": "code",
      "execution_count": 15,
      "metadata": {
        "id": "QbsqMkBKEZIe"
      },
      "outputs": [],
      "source": [
        "from tensorflow.keras.models import Sequential\n",
        "from tensorflow.keras.layers import Embedding, Dense, SimpleRNN"
      ]
    },
    {
      "attachments": {},
      "cell_type": "markdown",
      "metadata": {},
      "source": [
        "하이퍼파라미터인 임베딩 벡터의 차원은 10, 은닉 상태의 크기는 32입니다. 다 대 일 구조의 RNN을 사용합니다. 전결합층(Fully Connected Layer)을 출력층으로 단어 집합 크기만큼의 뉴런을 배치하여 모델을 설계합니다. 해당 모델은 마지막 시점에서 모든 가능한 단어 중 하나의 단어를 예측하는 다중 클래스 분류 문제를 수행하는 모델입니다. 다중 클래스 분류 문제의 경우, 출력층에 소프트맥스 회귀를 사용해야 하므로 활성화 함수로는 소프트맥스 함수를 사용하고, 손실 함수로 크로스 엔트로피 함수를 사용하여 200 에포크를 수행합니다."
      ]
    },
    {
      "cell_type": "code",
      "execution_count": 16,
      "metadata": {
        "colab": {
          "base_uri": "https://localhost:8080/"
        },
        "id": "da3yM5cTEeNn",
        "outputId": "6591ded1-0296-4e22-8e23-4ab3be797f1d"
      },
      "outputs": [
        {
          "name": "stdout",
          "output_type": "stream",
          "text": [
            "Epoch 1/200\n",
            "1/1 - 1s - loss: 2.4579 - accuracy: 0.2727 - 763ms/epoch - 763ms/step\n",
            "Epoch 2/200\n",
            "1/1 - 0s - loss: 2.4427 - accuracy: 0.4545 - 4ms/epoch - 4ms/step\n",
            "Epoch 3/200\n",
            "1/1 - 0s - loss: 2.4272 - accuracy: 0.4545 - 5ms/epoch - 5ms/step\n",
            "Epoch 4/200\n",
            "1/1 - 0s - loss: 2.4113 - accuracy: 0.5455 - 5ms/epoch - 5ms/step\n",
            "Epoch 5/200\n",
            "1/1 - 0s - loss: 2.3949 - accuracy: 0.5455 - 5ms/epoch - 5ms/step\n",
            "Epoch 6/200\n",
            "1/1 - 0s - loss: 2.3778 - accuracy: 0.5455 - 5ms/epoch - 5ms/step\n",
            "Epoch 7/200\n",
            "1/1 - 0s - loss: 2.3600 - accuracy: 0.4545 - 4ms/epoch - 4ms/step\n",
            "Epoch 8/200\n",
            "1/1 - 0s - loss: 2.3412 - accuracy: 0.4545 - 8ms/epoch - 8ms/step\n",
            "Epoch 9/200\n",
            "1/1 - 0s - loss: 2.3215 - accuracy: 0.3636 - 4ms/epoch - 4ms/step\n",
            "Epoch 10/200\n",
            "1/1 - 0s - loss: 2.3007 - accuracy: 0.3636 - 3ms/epoch - 3ms/step\n",
            "Epoch 11/200\n",
            "1/1 - 0s - loss: 2.2788 - accuracy: 0.3636 - 3ms/epoch - 3ms/step\n",
            "Epoch 12/200\n",
            "1/1 - 0s - loss: 2.2557 - accuracy: 0.3636 - 5ms/epoch - 5ms/step\n",
            "Epoch 13/200\n",
            "1/1 - 0s - loss: 2.2314 - accuracy: 0.3636 - 4ms/epoch - 4ms/step\n",
            "Epoch 14/200\n",
            "1/1 - 0s - loss: 2.2059 - accuracy: 0.3636 - 4ms/epoch - 4ms/step\n",
            "Epoch 15/200\n",
            "1/1 - 0s - loss: 2.1794 - accuracy: 0.3636 - 7ms/epoch - 7ms/step\n",
            "Epoch 16/200\n",
            "1/1 - 0s - loss: 2.1519 - accuracy: 0.3636 - 8ms/epoch - 8ms/step\n",
            "Epoch 17/200\n",
            "1/1 - 0s - loss: 2.1235 - accuracy: 0.3636 - 7ms/epoch - 7ms/step\n",
            "Epoch 18/200\n",
            "1/1 - 0s - loss: 2.0946 - accuracy: 0.3636 - 4ms/epoch - 4ms/step\n",
            "Epoch 19/200\n",
            "1/1 - 0s - loss: 2.0653 - accuracy: 0.3636 - 4ms/epoch - 4ms/step\n",
            "Epoch 20/200\n",
            "1/1 - 0s - loss: 2.0363 - accuracy: 0.3636 - 4ms/epoch - 4ms/step\n",
            "Epoch 21/200\n",
            "1/1 - 0s - loss: 2.0080 - accuracy: 0.3636 - 4ms/epoch - 4ms/step\n",
            "Epoch 22/200\n",
            "1/1 - 0s - loss: 1.9807 - accuracy: 0.3636 - 5ms/epoch - 5ms/step\n",
            "Epoch 23/200\n",
            "1/1 - 0s - loss: 1.9552 - accuracy: 0.3636 - 3ms/epoch - 3ms/step\n",
            "Epoch 24/200\n",
            "1/1 - 0s - loss: 1.9319 - accuracy: 0.3636 - 5ms/epoch - 5ms/step\n",
            "Epoch 25/200\n",
            "1/1 - 0s - loss: 1.9112 - accuracy: 0.3636 - 4ms/epoch - 4ms/step\n",
            "Epoch 26/200\n",
            "1/1 - 0s - loss: 1.8935 - accuracy: 0.3636 - 4ms/epoch - 4ms/step\n",
            "Epoch 27/200\n",
            "1/1 - 0s - loss: 1.8784 - accuracy: 0.3636 - 4ms/epoch - 4ms/step\n",
            "Epoch 28/200\n",
            "1/1 - 0s - loss: 1.8658 - accuracy: 0.3636 - 5ms/epoch - 5ms/step\n",
            "Epoch 29/200\n",
            "1/1 - 0s - loss: 1.8550 - accuracy: 0.3636 - 6ms/epoch - 6ms/step\n",
            "Epoch 30/200\n",
            "1/1 - 0s - loss: 1.8453 - accuracy: 0.3636 - 6ms/epoch - 6ms/step\n",
            "Epoch 31/200\n",
            "1/1 - 0s - loss: 1.8358 - accuracy: 0.3636 - 6ms/epoch - 6ms/step\n",
            "Epoch 32/200\n",
            "1/1 - 0s - loss: 1.8259 - accuracy: 0.3636 - 5ms/epoch - 5ms/step\n",
            "Epoch 33/200\n",
            "1/1 - 0s - loss: 1.8152 - accuracy: 0.3636 - 5ms/epoch - 5ms/step\n",
            "Epoch 34/200\n",
            "1/1 - 0s - loss: 1.8033 - accuracy: 0.3636 - 6ms/epoch - 6ms/step\n",
            "Epoch 35/200\n",
            "1/1 - 0s - loss: 1.7904 - accuracy: 0.3636 - 6ms/epoch - 6ms/step\n",
            "Epoch 36/200\n",
            "1/1 - 0s - loss: 1.7765 - accuracy: 0.3636 - 6ms/epoch - 6ms/step\n",
            "Epoch 37/200\n",
            "1/1 - 0s - loss: 1.7620 - accuracy: 0.3636 - 10ms/epoch - 10ms/step\n",
            "Epoch 38/200\n",
            "1/1 - 0s - loss: 1.7471 - accuracy: 0.3636 - 7ms/epoch - 7ms/step\n",
            "Epoch 39/200\n",
            "1/1 - 0s - loss: 1.7321 - accuracy: 0.3636 - 9ms/epoch - 9ms/step\n",
            "Epoch 40/200\n",
            "1/1 - 0s - loss: 1.7173 - accuracy: 0.3636 - 9ms/epoch - 9ms/step\n",
            "Epoch 41/200\n",
            "1/1 - 0s - loss: 1.7028 - accuracy: 0.3636 - 10ms/epoch - 10ms/step\n",
            "Epoch 42/200\n",
            "1/1 - 0s - loss: 1.6887 - accuracy: 0.3636 - 8ms/epoch - 8ms/step\n",
            "Epoch 43/200\n",
            "1/1 - 0s - loss: 1.6748 - accuracy: 0.4545 - 7ms/epoch - 7ms/step\n",
            "Epoch 44/200\n",
            "1/1 - 0s - loss: 1.6611 - accuracy: 0.4545 - 7ms/epoch - 7ms/step\n",
            "Epoch 45/200\n",
            "1/1 - 0s - loss: 1.6476 - accuracy: 0.4545 - 8ms/epoch - 8ms/step\n",
            "Epoch 46/200\n",
            "1/1 - 0s - loss: 1.6337 - accuracy: 0.4545 - 11ms/epoch - 11ms/step\n",
            "Epoch 47/200\n",
            "1/1 - 0s - loss: 1.6197 - accuracy: 0.4545 - 8ms/epoch - 8ms/step\n",
            "Epoch 48/200\n",
            "1/1 - 0s - loss: 1.6054 - accuracy: 0.4545 - 7ms/epoch - 7ms/step\n",
            "Epoch 49/200\n",
            "1/1 - 0s - loss: 1.5905 - accuracy: 0.4545 - 5ms/epoch - 5ms/step\n",
            "Epoch 50/200\n",
            "1/1 - 0s - loss: 1.5750 - accuracy: 0.4545 - 6ms/epoch - 6ms/step\n",
            "Epoch 51/200\n",
            "1/1 - 0s - loss: 1.5590 - accuracy: 0.5455 - 5ms/epoch - 5ms/step\n",
            "Epoch 52/200\n",
            "1/1 - 0s - loss: 1.5424 - accuracy: 0.5455 - 4ms/epoch - 4ms/step\n",
            "Epoch 53/200\n",
            "1/1 - 0s - loss: 1.5253 - accuracy: 0.5455 - 4ms/epoch - 4ms/step\n",
            "Epoch 54/200\n",
            "1/1 - 0s - loss: 1.5077 - accuracy: 0.5455 - 4ms/epoch - 4ms/step\n",
            "Epoch 55/200\n",
            "1/1 - 0s - loss: 1.4898 - accuracy: 0.5455 - 4ms/epoch - 4ms/step\n",
            "Epoch 56/200\n",
            "1/1 - 0s - loss: 1.4715 - accuracy: 0.5455 - 3ms/epoch - 3ms/step\n",
            "Epoch 57/200\n",
            "1/1 - 0s - loss: 1.4529 - accuracy: 0.5455 - 4ms/epoch - 4ms/step\n",
            "Epoch 58/200\n",
            "1/1 - 0s - loss: 1.4340 - accuracy: 0.5455 - 4ms/epoch - 4ms/step\n",
            "Epoch 59/200\n",
            "1/1 - 0s - loss: 1.4152 - accuracy: 0.5455 - 4ms/epoch - 4ms/step\n",
            "Epoch 60/200\n",
            "1/1 - 0s - loss: 1.3961 - accuracy: 0.5455 - 3ms/epoch - 3ms/step\n",
            "Epoch 61/200\n",
            "1/1 - 0s - loss: 1.3767 - accuracy: 0.5455 - 3ms/epoch - 3ms/step\n",
            "Epoch 62/200\n",
            "1/1 - 0s - loss: 1.3573 - accuracy: 0.5455 - 3ms/epoch - 3ms/step\n",
            "Epoch 63/200\n",
            "1/1 - 0s - loss: 1.3378 - accuracy: 0.5455 - 2ms/epoch - 2ms/step\n",
            "Epoch 64/200\n",
            "1/1 - 0s - loss: 1.3181 - accuracy: 0.5455 - 2ms/epoch - 2ms/step\n",
            "Epoch 65/200\n",
            "1/1 - 0s - loss: 1.2984 - accuracy: 0.5455 - 2ms/epoch - 2ms/step\n",
            "Epoch 66/200\n",
            "1/1 - 0s - loss: 1.2786 - accuracy: 0.5455 - 2ms/epoch - 2ms/step\n",
            "Epoch 67/200\n",
            "1/1 - 0s - loss: 1.2589 - accuracy: 0.5455 - 2ms/epoch - 2ms/step\n",
            "Epoch 68/200\n",
            "1/1 - 0s - loss: 1.2391 - accuracy: 0.5455 - 2ms/epoch - 2ms/step\n",
            "Epoch 69/200\n",
            "1/1 - 0s - loss: 1.2194 - accuracy: 0.5455 - 2ms/epoch - 2ms/step\n",
            "Epoch 70/200\n",
            "1/1 - 0s - loss: 1.1998 - accuracy: 0.6364 - 2ms/epoch - 2ms/step\n",
            "Epoch 71/200\n",
            "1/1 - 0s - loss: 1.1804 - accuracy: 0.6364 - 2ms/epoch - 2ms/step\n",
            "Epoch 72/200\n",
            "1/1 - 0s - loss: 1.1611 - accuracy: 0.6364 - 3ms/epoch - 3ms/step\n",
            "Epoch 73/200\n",
            "1/1 - 0s - loss: 1.1421 - accuracy: 0.6364 - 5ms/epoch - 5ms/step\n",
            "Epoch 74/200\n",
            "1/1 - 0s - loss: 1.1232 - accuracy: 0.6364 - 4ms/epoch - 4ms/step\n",
            "Epoch 75/200\n",
            "1/1 - 0s - loss: 1.1046 - accuracy: 0.6364 - 2ms/epoch - 2ms/step\n",
            "Epoch 76/200\n",
            "1/1 - 0s - loss: 1.0862 - accuracy: 0.6364 - 3ms/epoch - 3ms/step\n",
            "Epoch 77/200\n",
            "1/1 - 0s - loss: 1.0680 - accuracy: 0.6364 - 2ms/epoch - 2ms/step\n",
            "Epoch 78/200\n",
            "1/1 - 0s - loss: 1.0501 - accuracy: 0.6364 - 5ms/epoch - 5ms/step\n",
            "Epoch 79/200\n",
            "1/1 - 0s - loss: 1.0324 - accuracy: 0.6364 - 5ms/epoch - 5ms/step\n",
            "Epoch 80/200\n",
            "1/1 - 0s - loss: 1.0148 - accuracy: 0.6364 - 5ms/epoch - 5ms/step\n",
            "Epoch 81/200\n",
            "1/1 - 0s - loss: 0.9975 - accuracy: 0.6364 - 6ms/epoch - 6ms/step\n",
            "Epoch 82/200\n",
            "1/1 - 0s - loss: 0.9805 - accuracy: 0.6364 - 2ms/epoch - 2ms/step\n",
            "Epoch 83/200\n",
            "1/1 - 0s - loss: 0.9636 - accuracy: 0.6364 - 3ms/epoch - 3ms/step\n",
            "Epoch 84/200\n",
            "1/1 - 0s - loss: 0.9470 - accuracy: 0.7273 - 3ms/epoch - 3ms/step\n",
            "Epoch 85/200\n",
            "1/1 - 0s - loss: 0.9306 - accuracy: 0.7273 - 2ms/epoch - 2ms/step\n",
            "Epoch 86/200\n",
            "1/1 - 0s - loss: 0.9143 - accuracy: 0.7273 - 4ms/epoch - 4ms/step\n",
            "Epoch 87/200\n",
            "1/1 - 0s - loss: 0.8983 - accuracy: 0.7273 - 5ms/epoch - 5ms/step\n",
            "Epoch 88/200\n",
            "1/1 - 0s - loss: 0.8824 - accuracy: 0.7273 - 5ms/epoch - 5ms/step\n",
            "Epoch 89/200\n",
            "1/1 - 0s - loss: 0.8668 - accuracy: 0.7273 - 3ms/epoch - 3ms/step\n",
            "Epoch 90/200\n",
            "1/1 - 0s - loss: 0.8513 - accuracy: 0.7273 - 12ms/epoch - 12ms/step\n",
            "Epoch 91/200\n",
            "1/1 - 0s - loss: 0.8361 - accuracy: 0.7273 - 12ms/epoch - 12ms/step\n",
            "Epoch 92/200\n",
            "1/1 - 0s - loss: 0.8210 - accuracy: 0.7273 - 6ms/epoch - 6ms/step\n",
            "Epoch 93/200\n",
            "1/1 - 0s - loss: 0.8061 - accuracy: 0.7273 - 5ms/epoch - 5ms/step\n",
            "Epoch 94/200\n",
            "1/1 - 0s - loss: 0.7915 - accuracy: 0.7273 - 4ms/epoch - 4ms/step\n",
            "Epoch 95/200\n",
            "1/1 - 0s - loss: 0.7770 - accuracy: 0.7273 - 4ms/epoch - 4ms/step\n",
            "Epoch 96/200\n",
            "1/1 - 0s - loss: 0.7627 - accuracy: 0.8182 - 11ms/epoch - 11ms/step\n",
            "Epoch 97/200\n",
            "1/1 - 0s - loss: 0.7486 - accuracy: 0.8182 - 10ms/epoch - 10ms/step\n",
            "Epoch 98/200\n",
            "1/1 - 0s - loss: 0.7347 - accuracy: 0.8182 - 6ms/epoch - 6ms/step\n",
            "Epoch 99/200\n",
            "1/1 - 0s - loss: 0.7211 - accuracy: 0.8182 - 3ms/epoch - 3ms/step\n",
            "Epoch 100/200\n",
            "1/1 - 0s - loss: 0.7076 - accuracy: 0.9091 - 3ms/epoch - 3ms/step\n",
            "Epoch 101/200\n",
            "1/1 - 0s - loss: 0.6944 - accuracy: 0.9091 - 4ms/epoch - 4ms/step\n",
            "Epoch 102/200\n",
            "1/1 - 0s - loss: 0.6813 - accuracy: 0.9091 - 6ms/epoch - 6ms/step\n",
            "Epoch 103/200\n",
            "1/1 - 0s - loss: 0.6686 - accuracy: 0.9091 - 3ms/epoch - 3ms/step\n",
            "Epoch 104/200\n",
            "1/1 - 0s - loss: 0.6559 - accuracy: 0.9091 - 3ms/epoch - 3ms/step\n",
            "Epoch 105/200\n",
            "1/1 - 0s - loss: 0.6435 - accuracy: 0.9091 - 3ms/epoch - 3ms/step\n",
            "Epoch 106/200\n",
            "1/1 - 0s - loss: 0.6313 - accuracy: 0.9091 - 3ms/epoch - 3ms/step\n",
            "Epoch 107/200\n",
            "1/1 - 0s - loss: 0.6195 - accuracy: 0.9091 - 3ms/epoch - 3ms/step\n",
            "Epoch 108/200\n",
            "1/1 - 0s - loss: 0.6078 - accuracy: 0.9091 - 3ms/epoch - 3ms/step\n",
            "Epoch 109/200\n",
            "1/1 - 0s - loss: 0.5964 - accuracy: 0.9091 - 5ms/epoch - 5ms/step\n",
            "Epoch 110/200\n",
            "1/1 - 0s - loss: 0.5852 - accuracy: 0.9091 - 3ms/epoch - 3ms/step\n",
            "Epoch 111/200\n",
            "1/1 - 0s - loss: 0.5741 - accuracy: 0.9091 - 2ms/epoch - 2ms/step\n",
            "Epoch 112/200\n",
            "1/1 - 0s - loss: 0.5634 - accuracy: 0.9091 - 2ms/epoch - 2ms/step\n",
            "Epoch 113/200\n",
            "1/1 - 0s - loss: 0.5529 - accuracy: 0.9091 - 2ms/epoch - 2ms/step\n",
            "Epoch 114/200\n",
            "1/1 - 0s - loss: 0.5426 - accuracy: 0.9091 - 2ms/epoch - 2ms/step\n",
            "Epoch 115/200\n",
            "1/1 - 0s - loss: 0.5326 - accuracy: 0.9091 - 2ms/epoch - 2ms/step\n",
            "Epoch 116/200\n",
            "1/1 - 0s - loss: 0.5228 - accuracy: 0.9091 - 2ms/epoch - 2ms/step\n",
            "Epoch 117/200\n",
            "1/1 - 0s - loss: 0.5132 - accuracy: 0.9091 - 2ms/epoch - 2ms/step\n",
            "Epoch 118/200\n",
            "1/1 - 0s - loss: 0.5039 - accuracy: 0.9091 - 2ms/epoch - 2ms/step\n",
            "Epoch 119/200\n",
            "1/1 - 0s - loss: 0.4948 - accuracy: 0.9091 - 2ms/epoch - 2ms/step\n",
            "Epoch 120/200\n",
            "1/1 - 0s - loss: 0.4859 - accuracy: 0.9091 - 2ms/epoch - 2ms/step\n",
            "Epoch 121/200\n",
            "1/1 - 0s - loss: 0.4773 - accuracy: 0.9091 - 4ms/epoch - 4ms/step\n",
            "Epoch 122/200\n",
            "1/1 - 0s - loss: 0.4688 - accuracy: 0.9091 - 3ms/epoch - 3ms/step\n",
            "Epoch 123/200\n",
            "1/1 - 0s - loss: 0.4605 - accuracy: 0.9091 - 5ms/epoch - 5ms/step\n",
            "Epoch 124/200\n",
            "1/1 - 0s - loss: 0.4525 - accuracy: 0.9091 - 5ms/epoch - 5ms/step\n",
            "Epoch 125/200\n",
            "1/1 - 0s - loss: 0.4446 - accuracy: 0.9091 - 3ms/epoch - 3ms/step\n",
            "Epoch 126/200\n",
            "1/1 - 0s - loss: 0.4370 - accuracy: 0.9091 - 3ms/epoch - 3ms/step\n",
            "Epoch 127/200\n",
            "1/1 - 0s - loss: 0.4295 - accuracy: 0.9091 - 3ms/epoch - 3ms/step\n",
            "Epoch 128/200\n",
            "1/1 - 0s - loss: 0.4221 - accuracy: 0.9091 - 3ms/epoch - 3ms/step\n",
            "Epoch 129/200\n",
            "1/1 - 0s - loss: 0.4149 - accuracy: 0.9091 - 6ms/epoch - 6ms/step\n",
            "Epoch 130/200\n",
            "1/1 - 0s - loss: 0.4080 - accuracy: 0.9091 - 7ms/epoch - 7ms/step\n",
            "Epoch 131/200\n",
            "1/1 - 0s - loss: 0.4012 - accuracy: 0.9091 - 4ms/epoch - 4ms/step\n",
            "Epoch 132/200\n",
            "1/1 - 0s - loss: 0.3945 - accuracy: 0.9091 - 4ms/epoch - 4ms/step\n",
            "Epoch 133/200\n",
            "1/1 - 0s - loss: 0.3880 - accuracy: 0.9091 - 4ms/epoch - 4ms/step\n",
            "Epoch 134/200\n",
            "1/1 - 0s - loss: 0.3816 - accuracy: 0.9091 - 4ms/epoch - 4ms/step\n",
            "Epoch 135/200\n",
            "1/1 - 0s - loss: 0.3754 - accuracy: 0.9091 - 6ms/epoch - 6ms/step\n",
            "Epoch 136/200\n",
            "1/1 - 0s - loss: 0.3693 - accuracy: 0.9091 - 4ms/epoch - 4ms/step\n",
            "Epoch 137/200\n",
            "1/1 - 0s - loss: 0.3633 - accuracy: 0.9091 - 5ms/epoch - 5ms/step\n",
            "Epoch 138/200\n",
            "1/1 - 0s - loss: 0.3574 - accuracy: 0.9091 - 4ms/epoch - 4ms/step\n",
            "Epoch 139/200\n",
            "1/1 - 0s - loss: 0.3517 - accuracy: 0.9091 - 6ms/epoch - 6ms/step\n",
            "Epoch 140/200\n",
            "1/1 - 0s - loss: 0.3460 - accuracy: 0.9091 - 5ms/epoch - 5ms/step\n",
            "Epoch 141/200\n",
            "1/1 - 0s - loss: 0.3405 - accuracy: 0.9091 - 7ms/epoch - 7ms/step\n",
            "Epoch 142/200\n",
            "1/1 - 0s - loss: 0.3351 - accuracy: 0.9091 - 8ms/epoch - 8ms/step\n",
            "Epoch 143/200\n",
            "1/1 - 0s - loss: 0.3298 - accuracy: 0.9091 - 9ms/epoch - 9ms/step\n",
            "Epoch 144/200\n",
            "1/1 - 0s - loss: 0.3246 - accuracy: 1.0000 - 12ms/epoch - 12ms/step\n",
            "Epoch 145/200\n",
            "1/1 - 0s - loss: 0.3195 - accuracy: 1.0000 - 9ms/epoch - 9ms/step\n",
            "Epoch 146/200\n",
            "1/1 - 0s - loss: 0.3145 - accuracy: 1.0000 - 9ms/epoch - 9ms/step\n",
            "Epoch 147/200\n",
            "1/1 - 0s - loss: 0.3095 - accuracy: 1.0000 - 9ms/epoch - 9ms/step\n",
            "Epoch 148/200\n",
            "1/1 - 0s - loss: 0.3046 - accuracy: 1.0000 - 8ms/epoch - 8ms/step\n",
            "Epoch 149/200\n",
            "1/1 - 0s - loss: 0.2999 - accuracy: 1.0000 - 10ms/epoch - 10ms/step\n",
            "Epoch 150/200\n",
            "1/1 - 0s - loss: 0.2952 - accuracy: 1.0000 - 8ms/epoch - 8ms/step\n",
            "Epoch 151/200\n",
            "1/1 - 0s - loss: 0.2906 - accuracy: 1.0000 - 8ms/epoch - 8ms/step\n",
            "Epoch 152/200\n",
            "1/1 - 0s - loss: 0.2861 - accuracy: 1.0000 - 11ms/epoch - 11ms/step\n",
            "Epoch 153/200\n",
            "1/1 - 0s - loss: 0.2816 - accuracy: 1.0000 - 9ms/epoch - 9ms/step\n",
            "Epoch 154/200\n",
            "1/1 - 0s - loss: 0.2772 - accuracy: 1.0000 - 9ms/epoch - 9ms/step\n",
            "Epoch 155/200\n",
            "1/1 - 0s - loss: 0.2728 - accuracy: 1.0000 - 6ms/epoch - 6ms/step\n",
            "Epoch 156/200\n",
            "1/1 - 0s - loss: 0.2686 - accuracy: 1.0000 - 5ms/epoch - 5ms/step\n",
            "Epoch 157/200\n",
            "1/1 - 0s - loss: 0.2644 - accuracy: 1.0000 - 3ms/epoch - 3ms/step\n",
            "Epoch 158/200\n",
            "1/1 - 0s - loss: 0.2602 - accuracy: 1.0000 - 3ms/epoch - 3ms/step\n",
            "Epoch 159/200\n",
            "1/1 - 0s - loss: 0.2562 - accuracy: 1.0000 - 5ms/epoch - 5ms/step\n",
            "Epoch 160/200\n",
            "1/1 - 0s - loss: 0.2522 - accuracy: 1.0000 - 3ms/epoch - 3ms/step\n",
            "Epoch 161/200\n",
            "1/1 - 0s - loss: 0.2481 - accuracy: 1.0000 - 4ms/epoch - 4ms/step\n",
            "Epoch 162/200\n",
            "1/1 - 0s - loss: 0.2442 - accuracy: 1.0000 - 3ms/epoch - 3ms/step\n",
            "Epoch 163/200\n",
            "1/1 - 0s - loss: 0.2403 - accuracy: 1.0000 - 6ms/epoch - 6ms/step\n",
            "Epoch 164/200\n",
            "1/1 - 0s - loss: 0.2365 - accuracy: 1.0000 - 4ms/epoch - 4ms/step\n",
            "Epoch 165/200\n",
            "1/1 - 0s - loss: 0.2327 - accuracy: 1.0000 - 5ms/epoch - 5ms/step\n",
            "Epoch 166/200\n",
            "1/1 - 0s - loss: 0.2290 - accuracy: 1.0000 - 5ms/epoch - 5ms/step\n",
            "Epoch 167/200\n",
            "1/1 - 0s - loss: 0.2253 - accuracy: 1.0000 - 4ms/epoch - 4ms/step\n",
            "Epoch 168/200\n",
            "1/1 - 0s - loss: 0.2217 - accuracy: 1.0000 - 4ms/epoch - 4ms/step\n",
            "Epoch 169/200\n",
            "1/1 - 0s - loss: 0.2181 - accuracy: 1.0000 - 3ms/epoch - 3ms/step\n",
            "Epoch 170/200\n",
            "1/1 - 0s - loss: 0.2145 - accuracy: 1.0000 - 3ms/epoch - 3ms/step\n",
            "Epoch 171/200\n",
            "1/1 - 0s - loss: 0.2110 - accuracy: 1.0000 - 3ms/epoch - 3ms/step\n",
            "Epoch 172/200\n",
            "1/1 - 0s - loss: 0.2075 - accuracy: 1.0000 - 5ms/epoch - 5ms/step\n",
            "Epoch 173/200\n",
            "1/1 - 0s - loss: 0.2041 - accuracy: 1.0000 - 3ms/epoch - 3ms/step\n",
            "Epoch 174/200\n",
            "1/1 - 0s - loss: 0.2006 - accuracy: 1.0000 - 4ms/epoch - 4ms/step\n",
            "Epoch 175/200\n",
            "1/1 - 0s - loss: 0.1973 - accuracy: 1.0000 - 3ms/epoch - 3ms/step\n",
            "Epoch 176/200\n",
            "1/1 - 0s - loss: 0.1940 - accuracy: 1.0000 - 3ms/epoch - 3ms/step\n",
            "Epoch 177/200\n",
            "1/1 - 0s - loss: 0.1907 - accuracy: 1.0000 - 2ms/epoch - 2ms/step\n",
            "Epoch 178/200\n",
            "1/1 - 0s - loss: 0.1874 - accuracy: 1.0000 - 2ms/epoch - 2ms/step\n",
            "Epoch 179/200\n",
            "1/1 - 0s - loss: 0.1842 - accuracy: 1.0000 - 2ms/epoch - 2ms/step\n",
            "Epoch 180/200\n",
            "1/1 - 0s - loss: 0.1810 - accuracy: 1.0000 - 2ms/epoch - 2ms/step\n",
            "Epoch 181/200\n",
            "1/1 - 0s - loss: 0.1779 - accuracy: 1.0000 - 2ms/epoch - 2ms/step\n",
            "Epoch 182/200\n",
            "1/1 - 0s - loss: 0.1748 - accuracy: 1.0000 - 3ms/epoch - 3ms/step\n",
            "Epoch 183/200\n",
            "1/1 - 0s - loss: 0.1717 - accuracy: 1.0000 - 3ms/epoch - 3ms/step\n",
            "Epoch 184/200\n",
            "1/1 - 0s - loss: 0.1687 - accuracy: 1.0000 - 2ms/epoch - 2ms/step\n",
            "Epoch 185/200\n",
            "1/1 - 0s - loss: 0.1657 - accuracy: 1.0000 - 2ms/epoch - 2ms/step\n",
            "Epoch 186/200\n",
            "1/1 - 0s - loss: 0.1628 - accuracy: 1.0000 - 5ms/epoch - 5ms/step\n",
            "Epoch 187/200\n",
            "1/1 - 0s - loss: 0.1598 - accuracy: 1.0000 - 3ms/epoch - 3ms/step\n",
            "Epoch 188/200\n",
            "1/1 - 0s - loss: 0.1570 - accuracy: 1.0000 - 3ms/epoch - 3ms/step\n",
            "Epoch 189/200\n",
            "1/1 - 0s - loss: 0.1541 - accuracy: 1.0000 - 6ms/epoch - 6ms/step\n",
            "Epoch 190/200\n",
            "1/1 - 0s - loss: 0.1514 - accuracy: 1.0000 - 5ms/epoch - 5ms/step\n",
            "Epoch 191/200\n",
            "1/1 - 0s - loss: 0.1486 - accuracy: 1.0000 - 4ms/epoch - 4ms/step\n",
            "Epoch 192/200\n",
            "1/1 - 0s - loss: 0.1458 - accuracy: 1.0000 - 4ms/epoch - 4ms/step\n",
            "Epoch 193/200\n",
            "1/1 - 0s - loss: 0.1432 - accuracy: 1.0000 - 3ms/epoch - 3ms/step\n",
            "Epoch 194/200\n",
            "1/1 - 0s - loss: 0.1405 - accuracy: 1.0000 - 4ms/epoch - 4ms/step\n",
            "Epoch 195/200\n",
            "1/1 - 0s - loss: 0.1379 - accuracy: 1.0000 - 4ms/epoch - 4ms/step\n",
            "Epoch 196/200\n",
            "1/1 - 0s - loss: 0.1354 - accuracy: 1.0000 - 4ms/epoch - 4ms/step\n",
            "Epoch 197/200\n",
            "1/1 - 0s - loss: 0.1329 - accuracy: 1.0000 - 7ms/epoch - 7ms/step\n",
            "Epoch 198/200\n",
            "1/1 - 0s - loss: 0.1304 - accuracy: 1.0000 - 5ms/epoch - 5ms/step\n",
            "Epoch 199/200\n",
            "1/1 - 0s - loss: 0.1280 - accuracy: 1.0000 - 7ms/epoch - 7ms/step\n",
            "Epoch 200/200\n",
            "1/1 - 0s - loss: 0.1256 - accuracy: 1.0000 - 6ms/epoch - 6ms/step\n"
          ]
        },
        {
          "data": {
            "text/plain": [
              "<keras.callbacks.History at 0x7feb2c5b0d90>"
            ]
          },
          "execution_count": 16,
          "metadata": {},
          "output_type": "execute_result"
        }
      ],
      "source": [
        "embedding_dim = 10\n",
        "hidden_units = 32\n",
        "\n",
        "model = Sequential()\n",
        "model.add(Embedding(vocab_size, embedding_dim))\n",
        "model.add(SimpleRNN(hidden_units))\n",
        "model.add(Dense(vocab_size, activation='softmax'))\n",
        "model.compile(loss='categorical_crossentropy', optimizer='adam', metrics=['accuracy'])\n",
        "model.fit(X, y, epochs=200, verbose=2)"
      ]
    },
    {
      "attachments": {},
      "cell_type": "markdown",
      "metadata": {},
      "source": [
        "모델이 정확하게 예측하고 있는지 문장을 생성하는 함수를 만들어서 출력해봅시다."
      ]
    },
    {
      "cell_type": "code",
      "execution_count": 17,
      "metadata": {
        "id": "t96dpxgNEl4v"
      },
      "outputs": [],
      "source": [
        "def sentence_generation(model, tokenizer, current_word, n): # 모델, 토크나이저, 현재 단어, 반복할 횟수\n",
        "    init_word = current_word\n",
        "    sentence = ''\n",
        "\n",
        "    # n번 반복\n",
        "    for _ in range(n):\n",
        "        # 현재 단어에 대한 정수 인코딩과 패딩\n",
        "        encoded = tokenizer.texts_to_sequences([current_word])[0]\n",
        "        encoded = pad_sequences([encoded], maxlen=5, padding='pre')\n",
        "        # 입력한 X(현재 단어)에 대해서 Y를 예측하고 Y(예측한 단어)를 result에 저장.\n",
        "        result = model.predict(encoded, verbose=0)\n",
        "        result = np.argmax(result, axis=1)\n",
        "\n",
        "        for word, index in tokenizer.word_index.items(): \n",
        "            # 만약 예측한 단어와 인덱스와 동일한 단어가 있다면 break\n",
        "            if index == result:\n",
        "                break\n",
        "\n",
        "        # 현재 단어 + ' ' + 예측 단어를 현재 단어로 변경\n",
        "        current_word = current_word + ' '  + word\n",
        "\n",
        "        # 예측 단어를 문장에 저장\n",
        "        sentence = sentence + ' ' + word\n",
        "\n",
        "    sentence = init_word + sentence\n",
        "    return sentence"
      ]
    },
    {
      "attachments": {},
      "cell_type": "markdown",
      "metadata": {},
      "source": [
        "입력된 단어로부터 다음 단어를 예측해서 문장을 생성하는 함수를 만들었습니다. '경마장에' 라는 단어 뒤에는 총 4개의 단어가 있으므로 4번 예측해봅시다."
      ]
    },
    {
      "cell_type": "code",
      "execution_count": 18,
      "metadata": {
        "colab": {
          "base_uri": "https://localhost:8080/"
        },
        "id": "jJjBZ6PxE0EX",
        "outputId": "97e43ec0-2ff3-4894-c14e-18574b262c1e"
      },
      "outputs": [
        {
          "name": "stdout",
          "output_type": "stream",
          "text": [
            "경마장에 있는 말이 뛰고 있다\n"
          ]
        }
      ],
      "source": [
        "print(sentence_generation(model, tokenizer, '경마장에', 4))"
      ]
    },
    {
      "cell_type": "code",
      "execution_count": 19,
      "metadata": {
        "colab": {
          "base_uri": "https://localhost:8080/"
        },
        "id": "AOfI9YuUFVv2",
        "outputId": "f68c61c3-7704-454b-fa70-80164c95c627"
      },
      "outputs": [
        {
          "name": "stdout",
          "output_type": "stream",
          "text": [
            "그의 말이 법이다\n"
          ]
        }
      ],
      "source": [
        "print(sentence_generation(model, tokenizer, '그의', 2))"
      ]
    },
    {
      "cell_type": "code",
      "execution_count": 20,
      "metadata": {
        "colab": {
          "base_uri": "https://localhost:8080/"
        },
        "id": "Gl9zEMmzFh9u",
        "outputId": "6bd5632e-62df-446c-d1ce-10a201134835"
      },
      "outputs": [
        {
          "name": "stdout",
          "output_type": "stream",
          "text": [
            "가는 말이 고와야 오는 말이 곱다\n"
          ]
        }
      ],
      "source": [
        "print(sentence_generation(model, tokenizer, '가는', 5))"
      ]
    },
    {
      "attachments": {},
      "cell_type": "markdown",
      "metadata": {},
      "source": [
        "앞의 문맥을 기준으로 '말이' 라는 단어 다음에 나올 단어를 기존의 훈련 데이터와 일치하게 예측함을 보여줍니다. 이 모델은 충분한 훈련 데이터를 갖고 있지 못하므로 위에서 문장의 길이에 맞게 적절하게 예측해야하는 횟수 4, 2, 5를 각각 인자값으로 주었습니다. 이 이상의 숫자를 주면 기계는 '있다', '법이다', '곱다' 다음에 나오는 단어가 무엇인지 배운 적이 없으므로 임의 예측을 합니다. 이번에는 더 많은 훈련 데이터를 가지고 실습해봅시다."
      ]
    },
    {
      "attachments": {},
      "cell_type": "markdown",
      "metadata": {
        "id": "jJtAdaMtGn6T"
      },
      "source": [
        "# 2. LSTM을 이용하여 텍스트 생성하기"
      ]
    },
    {
      "attachments": {},
      "cell_type": "markdown",
      "metadata": {},
      "source": [
        "이번에는 LSTM을 통해 보다 많은 데이터로 텍스트를 생성해보겠습니다. 본질적으로 앞에서 한 것과 동일한 실습입니다."
      ]
    },
    {
      "attachments": {},
      "cell_type": "markdown",
      "metadata": {},
      "source": [
        "### 1) 데이터에 대한 이해와 전처리"
      ]
    },
    {
      "attachments": {},
      "cell_type": "markdown",
      "metadata": {},
      "source": [
        "사용할 데이터는 뉴욕 타임즈 기사의 제목입니다. 아래의 링크에서 ArticlesApril2018.csv 데이터를 다운로드 합니다.\n",
        "\n",
        "파일 다운로드 링크 : https://www.kaggle.com/aashita/nyt-comments"
      ]
    },
    {
      "cell_type": "code",
      "execution_count": 21,
      "metadata": {
        "id": "wCIJkMG5Go1f"
      },
      "outputs": [],
      "source": [
        "import pandas as pd\n",
        "import numpy as np\n",
        "from string import punctuation\n",
        "\n",
        "from tensorflow.keras.preprocessing.text import Tokenizer\n",
        "from tensorflow.keras.preprocessing.sequence import pad_sequences\n",
        "from tensorflow.keras.utils import to_categorical"
      ]
    },
    {
      "attachments": {},
      "cell_type": "markdown",
      "metadata": {},
      "source": [
        "다운로드한 훈련 데이터를 데이터프레임에 저장합니다."
      ]
    },
    {
      "cell_type": "code",
      "execution_count": 22,
      "metadata": {
        "colab": {
          "base_uri": "https://localhost:8080/",
          "height": 653
        },
        "id": "BhA4cyOgGrTP",
        "outputId": "eb3a9763-f7dc-4380-def7-8a864d48352f"
      },
      "outputs": [
        {
          "data": {
            "text/html": [
              "<div>\n",
              "<style scoped>\n",
              "    .dataframe tbody tr th:only-of-type {\n",
              "        vertical-align: middle;\n",
              "    }\n",
              "\n",
              "    .dataframe tbody tr th {\n",
              "        vertical-align: top;\n",
              "    }\n",
              "\n",
              "    .dataframe thead th {\n",
              "        text-align: right;\n",
              "    }\n",
              "</style>\n",
              "<table border=\"1\" class=\"dataframe\">\n",
              "  <thead>\n",
              "    <tr style=\"text-align: right;\">\n",
              "      <th></th>\n",
              "      <th>articleID</th>\n",
              "      <th>articleWordCount</th>\n",
              "      <th>byline</th>\n",
              "      <th>documentType</th>\n",
              "      <th>headline</th>\n",
              "      <th>keywords</th>\n",
              "      <th>multimedia</th>\n",
              "      <th>newDesk</th>\n",
              "      <th>printPage</th>\n",
              "      <th>pubDate</th>\n",
              "      <th>sectionName</th>\n",
              "      <th>snippet</th>\n",
              "      <th>source</th>\n",
              "      <th>typeOfMaterial</th>\n",
              "      <th>webURL</th>\n",
              "    </tr>\n",
              "  </thead>\n",
              "  <tbody>\n",
              "    <tr>\n",
              "      <th>0</th>\n",
              "      <td>5adf6684068401528a2aa69b</td>\n",
              "      <td>781</td>\n",
              "      <td>By JOHN BRANCH</td>\n",
              "      <td>article</td>\n",
              "      <td>Former N.F.L. Cheerleaders’ Settlement Offer: ...</td>\n",
              "      <td>['Workplace Hazards and Violations', 'Football...</td>\n",
              "      <td>68</td>\n",
              "      <td>Sports</td>\n",
              "      <td>0</td>\n",
              "      <td>2018-04-24 17:16:49</td>\n",
              "      <td>Pro Football</td>\n",
              "      <td>“I understand that they could meet with us, pa...</td>\n",
              "      <td>The New York Times</td>\n",
              "      <td>News</td>\n",
              "      <td>https://www.nytimes.com/2018/04/24/sports/foot...</td>\n",
              "    </tr>\n",
              "    <tr>\n",
              "      <th>1</th>\n",
              "      <td>5adf653f068401528a2aa697</td>\n",
              "      <td>656</td>\n",
              "      <td>By LISA FRIEDMAN</td>\n",
              "      <td>article</td>\n",
              "      <td>E.P.A. to Unveil a New Rule. Its Effect: Less ...</td>\n",
              "      <td>['Environmental Protection Agency', 'Pruitt, S...</td>\n",
              "      <td>68</td>\n",
              "      <td>Climate</td>\n",
              "      <td>0</td>\n",
              "      <td>2018-04-24 17:11:21</td>\n",
              "      <td>Unknown</td>\n",
              "      <td>The agency plans to publish a new regulation T...</td>\n",
              "      <td>The New York Times</td>\n",
              "      <td>News</td>\n",
              "      <td>https://www.nytimes.com/2018/04/24/climate/epa...</td>\n",
              "    </tr>\n",
              "    <tr>\n",
              "      <th>2</th>\n",
              "      <td>5adf4626068401528a2aa628</td>\n",
              "      <td>2427</td>\n",
              "      <td>By PETE WELLS</td>\n",
              "      <td>article</td>\n",
              "      <td>The New Noma, Explained</td>\n",
              "      <td>['Restaurants', 'Noma (Copenhagen, Restaurant)...</td>\n",
              "      <td>66</td>\n",
              "      <td>Dining</td>\n",
              "      <td>0</td>\n",
              "      <td>2018-04-24 14:58:44</td>\n",
              "      <td>Unknown</td>\n",
              "      <td>What’s it like to eat at the second incarnatio...</td>\n",
              "      <td>The New York Times</td>\n",
              "      <td>News</td>\n",
              "      <td>https://www.nytimes.com/2018/04/24/dining/noma...</td>\n",
              "    </tr>\n",
              "    <tr>\n",
              "      <th>3</th>\n",
              "      <td>5adf40d2068401528a2aa619</td>\n",
              "      <td>626</td>\n",
              "      <td>By JULIE HIRSCHFELD DAVIS and PETER BAKER</td>\n",
              "      <td>article</td>\n",
              "      <td>Unknown</td>\n",
              "      <td>['Macron, Emmanuel (1977- )', 'Trump, Donald J...</td>\n",
              "      <td>68</td>\n",
              "      <td>Washington</td>\n",
              "      <td>0</td>\n",
              "      <td>2018-04-24 14:35:57</td>\n",
              "      <td>Europe</td>\n",
              "      <td>President Trump welcomed President Emmanuel Ma...</td>\n",
              "      <td>The New York Times</td>\n",
              "      <td>News</td>\n",
              "      <td>https://www.nytimes.com/2018/04/24/world/europ...</td>\n",
              "    </tr>\n",
              "    <tr>\n",
              "      <th>4</th>\n",
              "      <td>5adf3d64068401528a2aa60f</td>\n",
              "      <td>815</td>\n",
              "      <td>By IAN AUSTEN and DAN BILEFSKY</td>\n",
              "      <td>article</td>\n",
              "      <td>Unknown</td>\n",
              "      <td>['Toronto, Ontario, Attack (April, 2018)', 'Mu...</td>\n",
              "      <td>68</td>\n",
              "      <td>Foreign</td>\n",
              "      <td>0</td>\n",
              "      <td>2018-04-24 14:21:21</td>\n",
              "      <td>Canada</td>\n",
              "      <td>Alek Minassian, 25, a resident of Toronto’s Ri...</td>\n",
              "      <td>The New York Times</td>\n",
              "      <td>News</td>\n",
              "      <td>https://www.nytimes.com/2018/04/24/world/canad...</td>\n",
              "    </tr>\n",
              "  </tbody>\n",
              "</table>\n",
              "</div>"
            ],
            "text/plain": [
              "                  articleID  articleWordCount  \\\n",
              "0  5adf6684068401528a2aa69b               781   \n",
              "1  5adf653f068401528a2aa697               656   \n",
              "2  5adf4626068401528a2aa628              2427   \n",
              "3  5adf40d2068401528a2aa619               626   \n",
              "4  5adf3d64068401528a2aa60f               815   \n",
              "\n",
              "                                      byline documentType  \\\n",
              "0                             By JOHN BRANCH      article   \n",
              "1                           By LISA FRIEDMAN      article   \n",
              "2                              By PETE WELLS      article   \n",
              "3  By JULIE HIRSCHFELD DAVIS and PETER BAKER      article   \n",
              "4             By IAN AUSTEN and DAN BILEFSKY      article   \n",
              "\n",
              "                                            headline  \\\n",
              "0  Former N.F.L. Cheerleaders’ Settlement Offer: ...   \n",
              "1  E.P.A. to Unveil a New Rule. Its Effect: Less ...   \n",
              "2                            The New Noma, Explained   \n",
              "3                                            Unknown   \n",
              "4                                            Unknown   \n",
              "\n",
              "                                            keywords  multimedia     newDesk  \\\n",
              "0  ['Workplace Hazards and Violations', 'Football...          68      Sports   \n",
              "1  ['Environmental Protection Agency', 'Pruitt, S...          68     Climate   \n",
              "2  ['Restaurants', 'Noma (Copenhagen, Restaurant)...          66      Dining   \n",
              "3  ['Macron, Emmanuel (1977- )', 'Trump, Donald J...          68  Washington   \n",
              "4  ['Toronto, Ontario, Attack (April, 2018)', 'Mu...          68     Foreign   \n",
              "\n",
              "   printPage              pubDate   sectionName  \\\n",
              "0          0  2018-04-24 17:16:49  Pro Football   \n",
              "1          0  2018-04-24 17:11:21       Unknown   \n",
              "2          0  2018-04-24 14:58:44       Unknown   \n",
              "3          0  2018-04-24 14:35:57        Europe   \n",
              "4          0  2018-04-24 14:21:21        Canada   \n",
              "\n",
              "                                             snippet              source  \\\n",
              "0  “I understand that they could meet with us, pa...  The New York Times   \n",
              "1  The agency plans to publish a new regulation T...  The New York Times   \n",
              "2  What’s it like to eat at the second incarnatio...  The New York Times   \n",
              "3  President Trump welcomed President Emmanuel Ma...  The New York Times   \n",
              "4  Alek Minassian, 25, a resident of Toronto’s Ri...  The New York Times   \n",
              "\n",
              "  typeOfMaterial                                             webURL  \n",
              "0           News  https://www.nytimes.com/2018/04/24/sports/foot...  \n",
              "1           News  https://www.nytimes.com/2018/04/24/climate/epa...  \n",
              "2           News  https://www.nytimes.com/2018/04/24/dining/noma...  \n",
              "3           News  https://www.nytimes.com/2018/04/24/world/europ...  \n",
              "4           News  https://www.nytimes.com/2018/04/24/world/canad...  "
            ]
          },
          "execution_count": 22,
          "metadata": {},
          "output_type": "execute_result"
        }
      ],
      "source": [
        "df = pd.read_csv('./dataset/ArticlesApril2018.csv')\n",
        "df.head()"
      ]
    },
    {
      "attachments": {},
      "cell_type": "markdown",
      "metadata": {},
      "source": [
        "열의 개수가 굉장히 많기 때문에 한 눈에 보기 어렵습니다. 어떤 열이 있고, 열이 총 몇 개가 있는지 출력해봅시다."
      ]
    },
    {
      "cell_type": "code",
      "execution_count": 23,
      "metadata": {
        "colab": {
          "base_uri": "https://localhost:8080/"
        },
        "id": "zMugfN6GGtNH",
        "outputId": "a6db3092-c0d1-4b90-952d-577501647ff9"
      },
      "outputs": [
        {
          "name": "stdout",
          "output_type": "stream",
          "text": [
            "열의 개수:  15\n",
            "Index(['articleID', 'articleWordCount', 'byline', 'documentType', 'headline',\n",
            "       'keywords', 'multimedia', 'newDesk', 'printPage', 'pubDate',\n",
            "       'sectionName', 'snippet', 'source', 'typeOfMaterial', 'webURL'],\n",
            "      dtype='object')\n"
          ]
        }
      ],
      "source": [
        "print('열의 개수: ',len(df.columns))\n",
        "print(df.columns)"
      ]
    },
    {
      "attachments": {},
      "cell_type": "markdown",
      "metadata": {},
      "source": [
        "총 15개의 열이 존재합니다. 여기서 사용할 열은 제목에 해당되는 headline 열입니다. Null 값이 있는지 확인해봅시다."
      ]
    },
    {
      "cell_type": "code",
      "execution_count": 24,
      "metadata": {
        "colab": {
          "base_uri": "https://localhost:8080/"
        },
        "id": "RNK4ABDtGyMH",
        "outputId": "b8ac8eda-6593-4f5a-8277-73fbb953dfd2"
      },
      "outputs": [
        {
          "name": "stdout",
          "output_type": "stream",
          "text": [
            "False\n"
          ]
        }
      ],
      "source": [
        "print(df['headline'].isnull().values.any())"
      ]
    },
    {
      "attachments": {},
      "cell_type": "markdown",
      "metadata": {},
      "source": [
        "Null 값은 별도로 없는 것으로 보입니다. headline 열에서 모든 신문 기사의 제목을 뽑아서 하나의 리스트로 저장해보도록 하겠습니다."
      ]
    },
    {
      "cell_type": "code",
      "execution_count": 25,
      "metadata": {
        "colab": {
          "base_uri": "https://localhost:8080/"
        },
        "id": "EGeLDG7EGz7P",
        "outputId": "55ff7eef-f726-4f41-d787-16f0067af032"
      },
      "outputs": [
        {
          "data": {
            "text/plain": [
              "['Former N.F.L. Cheerleaders’ Settlement Offer: $1 and a Meeting With Goodell',\n",
              " 'E.P.A. to Unveil a New Rule. Its Effect: Less Science in Policymaking.',\n",
              " 'The New Noma, Explained',\n",
              " 'Unknown',\n",
              " 'Unknown']"
            ]
          },
          "execution_count": 25,
          "metadata": {},
          "output_type": "execute_result"
        }
      ],
      "source": [
        "headline = []\n",
        "# 헤드라인의 값들을 리스트로 저장\n",
        "headline.extend(list(df.headline.values)) \n",
        "headline[:5]"
      ]
    },
    {
      "attachments": {},
      "cell_type": "markdown",
      "metadata": {},
      "source": [
        "headline이라는 리스트에 모든 신문 기사의 제목을 저장했습니다. 저장한 리스트에서 상위 5개만 출력해보았습니다.\n",
        "\n",
        "네번째와 다섯 번째 샘플에 Unknown 값이 들어가있습니다. headline 전체에 걸쳐서 Unknown 값을 가진 샘플이 있을 것으로 추정됩니다. 비록 Null 값은 아니지만 실습에 도움이 되지 않는 노이즈 데이터이므로 제거해줄 필요가 있습니다. 제거하기 전에 현재 샘플의 개수를 확인해보고 제거 전, 후의 샘플의 개수를 비교해봅시다."
      ]
    },
    {
      "cell_type": "code",
      "execution_count": 26,
      "metadata": {
        "colab": {
          "base_uri": "https://localhost:8080/"
        },
        "id": "379FN70HG2XX",
        "outputId": "bae6a114-8d25-461d-c151-bffbded4800c"
      },
      "outputs": [
        {
          "name": "stdout",
          "output_type": "stream",
          "text": [
            "총 샘플의 개수 : 1324\n"
          ]
        }
      ],
      "source": [
        "print('총 샘플의 개수 : {}'.format(len(headline))) # 현재 샘플의 개수"
      ]
    },
    {
      "attachments": {},
      "cell_type": "markdown",
      "metadata": {},
      "source": [
        "노이즈 데이터를 제거하기 전 신문 기사의 제목 샘플은 총 1,324개입니다. Unknown 값을 가진 샘플을 제거합니다."
      ]
    },
    {
      "cell_type": "code",
      "execution_count": 27,
      "metadata": {
        "colab": {
          "base_uri": "https://localhost:8080/"
        },
        "id": "zy8-4-AyG9Hv",
        "outputId": "8bf17e8e-a401-4a12-de70-23dc4abcfded"
      },
      "outputs": [
        {
          "name": "stdout",
          "output_type": "stream",
          "text": [
            "노이즈값 제거 후 샘플의 개수 : 1214\n"
          ]
        }
      ],
      "source": [
        " # Unknown 값을 가진 샘플 제거\n",
        "headline = [word for word in headline if word != \"Unknown\"]\n",
        "print('노이즈값 제거 후 샘플의 개수 : {}'.format(len(headline)))"
      ]
    },
    {
      "attachments": {},
      "cell_type": "markdown",
      "metadata": {},
      "source": [
        "샘플의 수가 1,324에서 1,214로 110개의 샘플이 제거되었는데 기존에 출력했던 5개의 샘플을 출력해봅시다."
      ]
    },
    {
      "cell_type": "code",
      "execution_count": 28,
      "metadata": {},
      "outputs": [
        {
          "data": {
            "text/plain": [
              "['Former N.F.L. Cheerleaders’ Settlement Offer: $1 and a Meeting With Goodell',\n",
              " 'E.P.A. to Unveil a New Rule. Its Effect: Less Science in Policymaking.',\n",
              " 'The New Noma, Explained',\n",
              " 'How a Bag of Texas Dirt  Became a Times Tradition',\n",
              " 'Is School a Place for Self-Expression?']"
            ]
          },
          "execution_count": 28,
          "metadata": {},
          "output_type": "execute_result"
        }
      ],
      "source": [
        "headline[:5]"
      ]
    },
    {
      "attachments": {},
      "cell_type": "markdown",
      "metadata": {},
      "source": [
        "기존에 네번째, 다섯 번째 샘플에서는 Unknown 값이 있었는데 현재는 제거가 되었습니다. 이제 데이터 전처리를 수행합니다. 여기서 선택한 전처리는 구두점 제거와 단어의 소문자화입니다. 전처리를 수행하고, 다시 샘플 5개를 출력합니다.\n",
        "\n"
      ]
    },
    {
      "cell_type": "code",
      "execution_count": 29,
      "metadata": {
        "colab": {
          "base_uri": "https://localhost:8080/"
        },
        "id": "pLGQ7s_2G_3W",
        "outputId": "90283ab8-8a0c-4920-e659-be03e117803d"
      },
      "outputs": [
        {
          "data": {
            "text/plain": [
              "['former nfl cheerleaders settlement offer 1 and a meeting with goodell',\n",
              " 'epa to unveil a new rule its effect less science in policymaking',\n",
              " 'the new noma explained',\n",
              " 'how a bag of texas dirt  became a times tradition',\n",
              " 'is school a place for selfexpression']"
            ]
          },
          "execution_count": 29,
          "metadata": {},
          "output_type": "execute_result"
        }
      ],
      "source": [
        "def repreprocessing(raw_sentence):\n",
        "    preproceseed_sentence = raw_sentence.encode(\"utf8\").decode(\"ascii\",'ignore')\n",
        "    # 구두점 제거와 동시에 소문자화\n",
        "    return ''.join(word for word in preproceseed_sentence if word not in punctuation).lower()\n",
        "\n",
        "preporcessed_headline = [repreprocessing(x) for x in headline]\n",
        "preporcessed_headline[:5]"
      ]
    },
    {
      "attachments": {},
      "cell_type": "markdown",
      "metadata": {},
      "source": [
        "기존의 출력과 비교하면 모든 단어들이 소문자화되었으며 N.F.L.이나 Cheerleaders’ 등과 같이 기존에 구두점이 붙어있던 단어들에서 구두점이 제거되었습니다. 단어 집합(vocabulary)을 만들고 크기를 확인합니다."
      ]
    },
    {
      "cell_type": "code",
      "execution_count": 30,
      "metadata": {
        "colab": {
          "base_uri": "https://localhost:8080/"
        },
        "id": "18-SLG1YHFb3",
        "outputId": "ea9a9626-9406-4e54-eed7-575601cd8e35"
      },
      "outputs": [
        {
          "name": "stdout",
          "output_type": "stream",
          "text": [
            "단어 집합의 크기 : 3494\n"
          ]
        }
      ],
      "source": [
        "tokenizer = Tokenizer()\n",
        "tokenizer.fit_on_texts(preporcessed_headline)\n",
        "vocab_size = len(tokenizer.word_index) + 1\n",
        "print('단어 집합의 크기 : %d' % vocab_size)"
      ]
    },
    {
      "attachments": {},
      "cell_type": "markdown",
      "metadata": {},
      "source": [
        "총 3,494개의 단어가 존재합니다. 정수 인코딩을 진행하는 동시에 하나의 문장을 여러 줄로 분해하여 훈련 데이터를 구성합니다."
      ]
    },
    {
      "cell_type": "code",
      "execution_count": 31,
      "metadata": {
        "colab": {
          "base_uri": "https://localhost:8080/"
        },
        "id": "_9PRhbYzHmrX",
        "outputId": "d0acbe0e-9034-4626-e08f-40fd3ef3b7ea"
      },
      "outputs": [
        {
          "data": {
            "text/plain": [
              "[[99, 269],\n",
              " [99, 269, 371],\n",
              " [99, 269, 371, 1115],\n",
              " [99, 269, 371, 1115, 582],\n",
              " [99, 269, 371, 1115, 582, 52],\n",
              " [99, 269, 371, 1115, 582, 52, 7],\n",
              " [99, 269, 371, 1115, 582, 52, 7, 2],\n",
              " [99, 269, 371, 1115, 582, 52, 7, 2, 372],\n",
              " [99, 269, 371, 1115, 582, 52, 7, 2, 372, 10],\n",
              " [99, 269, 371, 1115, 582, 52, 7, 2, 372, 10, 1116],\n",
              " [100, 3]]"
            ]
          },
          "execution_count": 31,
          "metadata": {},
          "output_type": "execute_result"
        }
      ],
      "source": [
        "sequences = list()\n",
        "\n",
        "for sentence in preporcessed_headline:\n",
        "\n",
        "    # 각 샘플에 대한 정수 인코딩\n",
        "    encoded = tokenizer.texts_to_sequences([sentence])[0] \n",
        "    for i in range(1, len(encoded)):\n",
        "        sequence = encoded[:i+1]\n",
        "        sequences.append(sequence)\n",
        "\n",
        "sequences[:11]"
      ]
    },
    {
      "attachments": {},
      "cell_type": "markdown",
      "metadata": {},
      "source": [
        "이해를 돕기 위해 출력 결과에 주석을 추가하였습니다. 왜 하나의 문장을 저렇게 나눌까요? 예를 들어 '경마장에 있는 말이 뛰고 있다' 라는 문장 하나가 있을 때, 최종적으로 원하는 훈련 데이터의 형태는 다음과 같습니다. 하나의 단어를 예측하기 위해 이전에 등장한 단어들을 모두 참고하는 것입니다.\n",
        "\n",
        "| samples | X | y |\n",
        "| :----   | :--- | :--- |\n",
        "| 1 | 경마장에 | 있는 |\n",
        "| 2 | 경마장에 있는 | 말이 |\n",
        "| 3 | 경마장에 있는 말이 | 뛰고 |\n",
        "| 4 | 경마장에 있는 말이 뛰고 | 있다 |\n",
        "\n",
        "위의 sequences는 모든 문장을 각 단어가 각 시점(time step)마다 하나씩 추가적으로 등장하는 형태로 만들기는 했지만, 아직 예측할 단어에 해당되는 레이블을 분리하는 작업까지는 수행하지 않은 상태입니다. 어떤 정수가 어떤 단어를 의미하는지 알아보기 위해 인덱스로부터 단어를 찾는 index_to_word를 만듭니다."
      ]
    },
    {
      "cell_type": "code",
      "execution_count": 32,
      "metadata": {
        "colab": {
          "base_uri": "https://localhost:8080/"
        },
        "id": "uB9VhghgH4Uf",
        "outputId": "8d4f09e4-dea3-4b53-cb78-780d12129bd5"
      },
      "outputs": [
        {
          "name": "stdout",
          "output_type": "stream",
          "text": [
            "빈도수 상위 582번 단어 : offer\n"
          ]
        }
      ],
      "source": [
        "index_to_word = {}\n",
        "for key, value in tokenizer.word_index.items(): # 인덱스를 단어로 바꾸기 위해 index_to_word를 생성\n",
        "    index_to_word[value] = key\n",
        "\n",
        "print('빈도수 상위 582번 단어 : {}'.format(index_to_word[582]))"
      ]
    },
    {
      "attachments": {},
      "cell_type": "markdown",
      "metadata": {},
      "source": [
        "582이라는 인덱스를 가진 단어는 본래 offer라는 단어였습니다. 원한다면 다른 숫자로도 시도해보세요. 이제 y 데이터를 분리하기 전에 전체 샘플의 길이를 동일하게 만드는 패딩 작업을 수행합니다. 패딩 작업을 수행하기 전에 가장 긴 샘플의 길이를 확인합니다."
      ]
    },
    {
      "cell_type": "code",
      "execution_count": 33,
      "metadata": {
        "colab": {
          "base_uri": "https://localhost:8080/"
        },
        "id": "1DFDdcHXIO03",
        "outputId": "2d1e7948-f77f-4afb-d7d6-7659dbb67108"
      },
      "outputs": [
        {
          "name": "stdout",
          "output_type": "stream",
          "text": [
            "샘플의 최대 길이 : 24\n"
          ]
        }
      ],
      "source": [
        "max_len = max(len(l) for l in sequences)\n",
        "print('샘플의 최대 길이 : {}'.format(max_len))"
      ]
    },
    {
      "attachments": {},
      "cell_type": "markdown",
      "metadata": {},
      "source": [
        "가장 긴 샘플의 길이인 24로 모든 샘플의 길이를 패딩하겠습니다."
      ]
    },
    {
      "cell_type": "code",
      "execution_count": 34,
      "metadata": {
        "colab": {
          "base_uri": "https://localhost:8080/"
        },
        "id": "gI_BNPqGIUNv",
        "outputId": "3a4fed40-3ecc-4f19-b079-c65af8fe9d80"
      },
      "outputs": [
        {
          "name": "stdout",
          "output_type": "stream",
          "text": [
            "[[   0    0    0    0    0    0    0    0    0    0    0    0    0    0\n",
            "     0    0    0    0    0    0    0    0   99  269]\n",
            " [   0    0    0    0    0    0    0    0    0    0    0    0    0    0\n",
            "     0    0    0    0    0    0    0   99  269  371]\n",
            " [   0    0    0    0    0    0    0    0    0    0    0    0    0    0\n",
            "     0    0    0    0    0    0   99  269  371 1115]]\n"
          ]
        }
      ],
      "source": [
        "sequences = pad_sequences(sequences, maxlen=max_len, padding='pre')\n",
        "print(sequences[:3])"
      ]
    },
    {
      "attachments": {},
      "cell_type": "markdown",
      "metadata": {},
      "source": [
        "padding='pre'를 설정하여 샘플의 길이가 24보다 짧은 경우에 앞에 0으로 패딩되었습니다. 이제 맨 우측 단어만 레이블로 분리합니다."
      ]
    },
    {
      "cell_type": "code",
      "execution_count": 35,
      "metadata": {
        "id": "AS_Xeb68IW7n"
      },
      "outputs": [],
      "source": [
        "sequences = np.array(sequences)\n",
        "X = sequences[:,:-1]\n",
        "y = sequences[:,-1]"
      ]
    },
    {
      "cell_type": "code",
      "execution_count": 36,
      "metadata": {
        "colab": {
          "base_uri": "https://localhost:8080/"
        },
        "id": "hQxwog4tIZOn",
        "outputId": "28b61b65-245b-41f5-e30e-71459dd4aa1b"
      },
      "outputs": [
        {
          "name": "stdout",
          "output_type": "stream",
          "text": [
            "[[  0   0   0   0   0   0   0   0   0   0   0   0   0   0   0   0   0   0\n",
            "    0   0   0   0  99]\n",
            " [  0   0   0   0   0   0   0   0   0   0   0   0   0   0   0   0   0   0\n",
            "    0   0   0  99 269]\n",
            " [  0   0   0   0   0   0   0   0   0   0   0   0   0   0   0   0   0   0\n",
            "    0   0  99 269 371]]\n"
          ]
        }
      ],
      "source": [
        "print(X[:3])"
      ]
    },
    {
      "attachments": {},
      "cell_type": "markdown",
      "metadata": {},
      "source": [
        "훈련 데이터 X에서 3개의 샘플만 출력해보았는데, 맨 우측에 있던 정수값 269, 371, 1115가 사라진 것을 볼 수 있습니다. 뿐만 아니라, 각 샘플의 길이가 24에서 23으로 줄었습니다."
      ]
    },
    {
      "cell_type": "code",
      "execution_count": 37,
      "metadata": {
        "colab": {
          "base_uri": "https://localhost:8080/"
        },
        "id": "ymQ9On9bIZ8f",
        "outputId": "b5dbd0d1-e98a-4660-c11d-7bc5cfbc9eac"
      },
      "outputs": [
        {
          "name": "stdout",
          "output_type": "stream",
          "text": [
            "[ 269  371 1115]\n"
          ]
        }
      ],
      "source": [
        "print(y[:3])"
      ]
    },
    {
      "attachments": {},
      "cell_type": "markdown",
      "metadata": {},
      "source": [
        "훈련 데이터 y 중 3개의 샘플만 출력해보았는데, 기존 훈련 데이터에서 맨 우측에 있던 정수들이 별도로 저장되었습니다."
      ]
    },
    {
      "cell_type": "code",
      "execution_count": 38,
      "metadata": {
        "id": "BfI0f9ChIbbP"
      },
      "outputs": [],
      "source": [
        "y = to_categorical(y, num_classes=vocab_size)"
      ]
    },
    {
      "attachments": {},
      "cell_type": "markdown",
      "metadata": {},
      "source": [
        "레이블 데이터 y에 대해서 원-핫 인코딩을 수행하였습니다. 이제 모델을 설계합니다."
      ]
    },
    {
      "attachments": {},
      "cell_type": "markdown",
      "metadata": {},
      "source": [
        "### 2) 모델 설계하기"
      ]
    },
    {
      "cell_type": "code",
      "execution_count": 39,
      "metadata": {
        "id": "HqNmAdYJIcUP"
      },
      "outputs": [],
      "source": [
        "from tensorflow.keras.models import Sequential\n",
        "from tensorflow.keras.layers import Embedding, Dense, LSTM"
      ]
    },
    {
      "attachments": {},
      "cell_type": "markdown",
      "metadata": {},
      "source": [
        "하이퍼파라미터인 임베딩 벡터의 차원은 10, 은닉 상태의 크기는 128입니다. 다 대 일 구조의 LSTM을 사용합니다. 전결합층(Fully Connected Layer)을 출력층으로 단어 집합 크기만큼의 뉴런을 배치하여 모델을 설계합니다. 해당 모델은 마지막 시점에서 모든 가능한 단어 중 하나의 단어를 예측하는 다중 클래스 분류 문제를 수행하는 모델입니다. 다중 클래스 분류 문제의 경우, 출력층에 소프트맥스 회귀를 사용해야 하므로 활성화 함수로는 소프트맥스 함수를 사용하고, 손실 함수로 크로스 엔트로피 함수를 사용하여 200 에포크를 수행합니다."
      ]
    },
    {
      "cell_type": "code",
      "execution_count": 40,
      "metadata": {
        "colab": {
          "base_uri": "https://localhost:8080/"
        },
        "id": "dUQE1WpzIkDP",
        "outputId": "8090a020-4647-4290-b3b5-11e03a4ae846"
      },
      "outputs": [
        {
          "name": "stdout",
          "output_type": "stream",
          "text": [
            "Epoch 1/200\n",
            "244/244 - 3s - loss: 7.6561 - accuracy: 0.0293 - 3s/epoch - 13ms/step\n",
            "Epoch 2/200\n",
            "244/244 - 2s - loss: 7.1172 - accuracy: 0.0310 - 2s/epoch - 9ms/step\n",
            "Epoch 3/200\n",
            "244/244 - 2s - loss: 6.9871 - accuracy: 0.0345 - 2s/epoch - 9ms/step\n",
            "Epoch 4/200\n",
            "244/244 - 2s - loss: 6.8709 - accuracy: 0.0419 - 2s/epoch - 8ms/step\n",
            "Epoch 5/200\n",
            "244/244 - 2s - loss: 6.7315 - accuracy: 0.0437 - 2s/epoch - 8ms/step\n",
            "Epoch 6/200\n",
            "244/244 - 2s - loss: 6.5668 - accuracy: 0.0449 - 2s/epoch - 8ms/step\n",
            "Epoch 7/200\n",
            "244/244 - 2s - loss: 6.3783 - accuracy: 0.0510 - 2s/epoch - 8ms/step\n",
            "Epoch 8/200\n",
            "244/244 - 2s - loss: 6.1876 - accuracy: 0.0549 - 2s/epoch - 8ms/step\n",
            "Epoch 9/200\n",
            "244/244 - 2s - loss: 5.9963 - accuracy: 0.0632 - 2s/epoch - 8ms/step\n",
            "Epoch 10/200\n",
            "244/244 - 2s - loss: 5.8154 - accuracy: 0.0643 - 2s/epoch - 8ms/step\n",
            "Epoch 11/200\n",
            "244/244 - 2s - loss: 5.6443 - accuracy: 0.0682 - 2s/epoch - 8ms/step\n",
            "Epoch 12/200\n",
            "244/244 - 2s - loss: 5.4829 - accuracy: 0.0746 - 2s/epoch - 9ms/step\n",
            "Epoch 13/200\n",
            "244/244 - 2s - loss: 5.3313 - accuracy: 0.0766 - 2s/epoch - 8ms/step\n",
            "Epoch 14/200\n",
            "244/244 - 2s - loss: 5.1850 - accuracy: 0.0841 - 2s/epoch - 8ms/step\n",
            "Epoch 15/200\n",
            "244/244 - 2s - loss: 5.0474 - accuracy: 0.0905 - 2s/epoch - 9ms/step\n",
            "Epoch 16/200\n",
            "244/244 - 2s - loss: 4.9107 - accuracy: 0.0975 - 2s/epoch - 9ms/step\n",
            "Epoch 17/200\n",
            "244/244 - 2s - loss: 4.7832 - accuracy: 0.1106 - 2s/epoch - 7ms/step\n",
            "Epoch 18/200\n",
            "244/244 - 2s - loss: 4.6560 - accuracy: 0.1205 - 2s/epoch - 8ms/step\n",
            "Epoch 19/200\n",
            "244/244 - 2s - loss: 4.5329 - accuracy: 0.1382 - 2s/epoch - 8ms/step\n",
            "Epoch 20/200\n",
            "244/244 - 2s - loss: 4.4131 - accuracy: 0.1473 - 2s/epoch - 8ms/step\n",
            "Epoch 21/200\n",
            "244/244 - 2s - loss: 4.2961 - accuracy: 0.1644 - 2s/epoch - 8ms/step\n",
            "Epoch 22/200\n",
            "244/244 - 2s - loss: 4.1804 - accuracy: 0.1860 - 2s/epoch - 8ms/step\n",
            "Epoch 23/200\n",
            "244/244 - 2s - loss: 4.0716 - accuracy: 0.2002 - 2s/epoch - 8ms/step\n",
            "Epoch 24/200\n",
            "244/244 - 2s - loss: 3.9615 - accuracy: 0.2180 - 2s/epoch - 9ms/step\n",
            "Epoch 25/200\n",
            "244/244 - 2s - loss: 3.8576 - accuracy: 0.2339 - 2s/epoch - 8ms/step\n",
            "Epoch 26/200\n",
            "244/244 - 2s - loss: 3.7569 - accuracy: 0.2520 - 2s/epoch - 8ms/step\n",
            "Epoch 27/200\n",
            "244/244 - 2s - loss: 3.6586 - accuracy: 0.2672 - 2s/epoch - 8ms/step\n",
            "Epoch 28/200\n",
            "244/244 - 2s - loss: 3.5591 - accuracy: 0.2880 - 2s/epoch - 9ms/step\n",
            "Epoch 29/200\n",
            "244/244 - 2s - loss: 3.4677 - accuracy: 0.3065 - 2s/epoch - 8ms/step\n",
            "Epoch 30/200\n",
            "244/244 - 2s - loss: 3.3778 - accuracy: 0.3192 - 2s/epoch - 8ms/step\n",
            "Epoch 31/200\n",
            "244/244 - 2s - loss: 3.2893 - accuracy: 0.3315 - 2s/epoch - 9ms/step\n",
            "Epoch 32/200\n",
            "244/244 - 2s - loss: 3.2070 - accuracy: 0.3497 - 2s/epoch - 9ms/step\n",
            "Epoch 33/200\n",
            "244/244 - 2s - loss: 3.1241 - accuracy: 0.3669 - 2s/epoch - 8ms/step\n",
            "Epoch 34/200\n",
            "244/244 - 2s - loss: 3.0459 - accuracy: 0.3778 - 2s/epoch - 9ms/step\n",
            "Epoch 35/200\n",
            "244/244 - 2s - loss: 2.9662 - accuracy: 0.3934 - 2s/epoch - 9ms/step\n",
            "Epoch 36/200\n",
            "244/244 - 2s - loss: 2.8954 - accuracy: 0.4102 - 2s/epoch - 8ms/step\n",
            "Epoch 37/200\n",
            "244/244 - 2s - loss: 2.8244 - accuracy: 0.4233 - 2s/epoch - 8ms/step\n",
            "Epoch 38/200\n",
            "244/244 - 2s - loss: 2.7565 - accuracy: 0.4341 - 2s/epoch - 8ms/step\n",
            "Epoch 39/200\n",
            "244/244 - 2s - loss: 2.6872 - accuracy: 0.4459 - 2s/epoch - 9ms/step\n",
            "Epoch 40/200\n",
            "244/244 - 2s - loss: 2.6259 - accuracy: 0.4606 - 2s/epoch - 8ms/step\n",
            "Epoch 41/200\n",
            "244/244 - 2s - loss: 2.5642 - accuracy: 0.4720 - 2s/epoch - 8ms/step\n",
            "Epoch 42/200\n",
            "244/244 - 2s - loss: 2.5011 - accuracy: 0.4846 - 2s/epoch - 9ms/step\n",
            "Epoch 43/200\n",
            "244/244 - 2s - loss: 2.4455 - accuracy: 0.4935 - 2s/epoch - 9ms/step\n",
            "Epoch 44/200\n",
            "244/244 - 2s - loss: 2.3881 - accuracy: 0.5048 - 2s/epoch - 8ms/step\n",
            "Epoch 45/200\n",
            "244/244 - 2s - loss: 2.3334 - accuracy: 0.5156 - 2s/epoch - 8ms/step\n",
            "Epoch 46/200\n",
            "244/244 - 2s - loss: 2.2813 - accuracy: 0.5267 - 2s/epoch - 8ms/step\n",
            "Epoch 47/200\n",
            "244/244 - 2s - loss: 2.2276 - accuracy: 0.5390 - 2s/epoch - 8ms/step\n",
            "Epoch 48/200\n",
            "244/244 - 2s - loss: 2.1771 - accuracy: 0.5477 - 2s/epoch - 8ms/step\n",
            "Epoch 49/200\n",
            "244/244 - 2s - loss: 2.1267 - accuracy: 0.5603 - 2s/epoch - 9ms/step\n",
            "Epoch 50/200\n",
            "244/244 - 2s - loss: 2.0826 - accuracy: 0.5697 - 2s/epoch - 8ms/step\n",
            "Epoch 51/200\n",
            "244/244 - 2s - loss: 2.0337 - accuracy: 0.5816 - 2s/epoch - 9ms/step\n",
            "Epoch 52/200\n",
            "244/244 - 2s - loss: 1.9898 - accuracy: 0.5899 - 2s/epoch - 9ms/step\n",
            "Epoch 53/200\n",
            "244/244 - 2s - loss: 1.9415 - accuracy: 0.6000 - 2s/epoch - 9ms/step\n",
            "Epoch 54/200\n",
            "244/244 - 2s - loss: 1.9015 - accuracy: 0.6103 - 2s/epoch - 8ms/step\n",
            "Epoch 55/200\n",
            "244/244 - 2s - loss: 1.8586 - accuracy: 0.6196 - 2s/epoch - 9ms/step\n",
            "Epoch 56/200\n",
            "244/244 - 2s - loss: 1.8161 - accuracy: 0.6285 - 2s/epoch - 8ms/step\n",
            "Epoch 57/200\n",
            "244/244 - 2s - loss: 1.7779 - accuracy: 0.6345 - 2s/epoch - 8ms/step\n",
            "Epoch 58/200\n",
            "244/244 - 2s - loss: 1.7377 - accuracy: 0.6448 - 2s/epoch - 8ms/step\n",
            "Epoch 59/200\n",
            "244/244 - 2s - loss: 1.7013 - accuracy: 0.6499 - 2s/epoch - 8ms/step\n",
            "Epoch 60/200\n",
            "244/244 - 2s - loss: 1.6625 - accuracy: 0.6647 - 2s/epoch - 8ms/step\n",
            "Epoch 61/200\n",
            "244/244 - 2s - loss: 1.6261 - accuracy: 0.6691 - 2s/epoch - 8ms/step\n",
            "Epoch 62/200\n",
            "244/244 - 2s - loss: 1.5898 - accuracy: 0.6768 - 2s/epoch - 9ms/step\n",
            "Epoch 63/200\n",
            "244/244 - 2s - loss: 1.5545 - accuracy: 0.6854 - 2s/epoch - 8ms/step\n",
            "Epoch 64/200\n",
            "244/244 - 2s - loss: 1.5229 - accuracy: 0.6918 - 2s/epoch - 8ms/step\n",
            "Epoch 65/200\n",
            "244/244 - 2s - loss: 1.4856 - accuracy: 0.6965 - 2s/epoch - 8ms/step\n",
            "Epoch 66/200\n",
            "244/244 - 2s - loss: 1.4536 - accuracy: 0.7096 - 2s/epoch - 8ms/step\n",
            "Epoch 67/200\n",
            "244/244 - 2s - loss: 1.4214 - accuracy: 0.7137 - 2s/epoch - 8ms/step\n",
            "Epoch 68/200\n",
            "244/244 - 2s - loss: 1.3914 - accuracy: 0.7186 - 2s/epoch - 9ms/step\n",
            "Epoch 69/200\n",
            "244/244 - 2s - loss: 1.3605 - accuracy: 0.7274 - 2s/epoch - 8ms/step\n",
            "Epoch 70/200\n",
            "244/244 - 2s - loss: 1.3301 - accuracy: 0.7322 - 2s/epoch - 9ms/step\n",
            "Epoch 71/200\n",
            "244/244 - 2s - loss: 1.3039 - accuracy: 0.7389 - 2s/epoch - 8ms/step\n",
            "Epoch 72/200\n",
            "244/244 - 2s - loss: 1.2734 - accuracy: 0.7477 - 2s/epoch - 9ms/step\n",
            "Epoch 73/200\n",
            "244/244 - 2s - loss: 1.2442 - accuracy: 0.7519 - 2s/epoch - 8ms/step\n",
            "Epoch 74/200\n",
            "244/244 - 2s - loss: 1.2148 - accuracy: 0.7560 - 2s/epoch - 9ms/step\n",
            "Epoch 75/200\n",
            "244/244 - 2s - loss: 1.1881 - accuracy: 0.7619 - 2s/epoch - 8ms/step\n",
            "Epoch 76/200\n",
            "244/244 - 2s - loss: 1.1632 - accuracy: 0.7683 - 2s/epoch - 8ms/step\n",
            "Epoch 77/200\n",
            "244/244 - 2s - loss: 1.1402 - accuracy: 0.7719 - 2s/epoch - 8ms/step\n",
            "Epoch 78/200\n",
            "244/244 - 2s - loss: 1.1144 - accuracy: 0.7811 - 2s/epoch - 8ms/step\n",
            "Epoch 79/200\n",
            "244/244 - 2s - loss: 1.0878 - accuracy: 0.7837 - 2s/epoch - 9ms/step\n",
            "Epoch 80/200\n",
            "244/244 - 2s - loss: 1.0661 - accuracy: 0.7866 - 2s/epoch - 9ms/step\n",
            "Epoch 81/200\n",
            "244/244 - 2s - loss: 1.0438 - accuracy: 0.7908 - 2s/epoch - 8ms/step\n",
            "Epoch 82/200\n",
            "244/244 - 2s - loss: 1.0173 - accuracy: 0.7969 - 2s/epoch - 8ms/step\n",
            "Epoch 83/200\n",
            "244/244 - 2s - loss: 0.9962 - accuracy: 0.8026 - 2s/epoch - 8ms/step\n",
            "Epoch 84/200\n",
            "244/244 - 2s - loss: 0.9786 - accuracy: 0.8049 - 2s/epoch - 8ms/step\n",
            "Epoch 85/200\n",
            "244/244 - 2s - loss: 0.9533 - accuracy: 0.8123 - 2s/epoch - 8ms/step\n",
            "Epoch 86/200\n",
            "244/244 - 2s - loss: 0.9336 - accuracy: 0.8139 - 2s/epoch - 8ms/step\n",
            "Epoch 87/200\n",
            "244/244 - 2s - loss: 0.9137 - accuracy: 0.8187 - 2s/epoch - 8ms/step\n",
            "Epoch 88/200\n",
            "244/244 - 2s - loss: 0.8918 - accuracy: 0.8229 - 2s/epoch - 9ms/step\n",
            "Epoch 89/200\n",
            "244/244 - 2s - loss: 0.8735 - accuracy: 0.8242 - 2s/epoch - 8ms/step\n",
            "Epoch 90/200\n",
            "244/244 - 2s - loss: 0.8546 - accuracy: 0.8304 - 2s/epoch - 8ms/step\n",
            "Epoch 91/200\n",
            "244/244 - 2s - loss: 0.8357 - accuracy: 0.8338 - 2s/epoch - 9ms/step\n",
            "Epoch 92/200\n",
            "244/244 - 2s - loss: 0.8194 - accuracy: 0.8356 - 2s/epoch - 9ms/step\n",
            "Epoch 93/200\n",
            "244/244 - 2s - loss: 0.8010 - accuracy: 0.8389 - 2s/epoch - 9ms/step\n",
            "Epoch 94/200\n",
            "244/244 - 2s - loss: 0.7843 - accuracy: 0.8444 - 2s/epoch - 9ms/step\n",
            "Epoch 95/200\n",
            "244/244 - 2s - loss: 0.7667 - accuracy: 0.8445 - 2s/epoch - 8ms/step\n",
            "Epoch 96/200\n",
            "244/244 - 2s - loss: 0.7501 - accuracy: 0.8506 - 2s/epoch - 8ms/step\n",
            "Epoch 97/200\n",
            "244/244 - 2s - loss: 0.7329 - accuracy: 0.8544 - 2s/epoch - 8ms/step\n",
            "Epoch 98/200\n",
            "244/244 - 2s - loss: 0.7201 - accuracy: 0.8560 - 2s/epoch - 9ms/step\n",
            "Epoch 99/200\n",
            "244/244 - 2s - loss: 0.7035 - accuracy: 0.8585 - 2s/epoch - 8ms/step\n",
            "Epoch 100/200\n",
            "244/244 - 2s - loss: 0.6903 - accuracy: 0.8617 - 2s/epoch - 8ms/step\n",
            "Epoch 101/200\n",
            "244/244 - 2s - loss: 0.6753 - accuracy: 0.8654 - 2s/epoch - 8ms/step\n",
            "Epoch 102/200\n",
            "244/244 - 2s - loss: 0.6594 - accuracy: 0.8674 - 2s/epoch - 8ms/step\n",
            "Epoch 103/200\n",
            "244/244 - 2s - loss: 0.6465 - accuracy: 0.8707 - 2s/epoch - 9ms/step\n",
            "Epoch 104/200\n",
            "244/244 - 2s - loss: 0.6308 - accuracy: 0.8739 - 2s/epoch - 8ms/step\n",
            "Epoch 105/200\n",
            "244/244 - 2s - loss: 0.6206 - accuracy: 0.8754 - 2s/epoch - 8ms/step\n",
            "Epoch 106/200\n",
            "244/244 - 2s - loss: 0.6084 - accuracy: 0.8791 - 2s/epoch - 8ms/step\n",
            "Epoch 107/200\n",
            "244/244 - 2s - loss: 0.5949 - accuracy: 0.8817 - 2s/epoch - 8ms/step\n",
            "Epoch 108/200\n",
            "244/244 - 2s - loss: 0.5825 - accuracy: 0.8818 - 2s/epoch - 9ms/step\n",
            "Epoch 109/200\n",
            "244/244 - 2s - loss: 0.5690 - accuracy: 0.8856 - 2s/epoch - 9ms/step\n",
            "Epoch 110/200\n",
            "244/244 - 2s - loss: 0.5585 - accuracy: 0.8877 - 2s/epoch - 8ms/step\n",
            "Epoch 111/200\n",
            "244/244 - 2s - loss: 0.5493 - accuracy: 0.8906 - 2s/epoch - 8ms/step\n",
            "Epoch 112/200\n",
            "244/244 - 2s - loss: 0.5395 - accuracy: 0.8920 - 2s/epoch - 8ms/step\n",
            "Epoch 113/200\n",
            "244/244 - 2s - loss: 0.5268 - accuracy: 0.8944 - 2s/epoch - 8ms/step\n",
            "Epoch 114/200\n",
            "244/244 - 2s - loss: 0.5173 - accuracy: 0.8948 - 2s/epoch - 9ms/step\n",
            "Epoch 115/200\n",
            "244/244 - 2s - loss: 0.5066 - accuracy: 0.8967 - 2s/epoch - 9ms/step\n",
            "Epoch 116/200\n",
            "244/244 - 2s - loss: 0.4966 - accuracy: 0.8972 - 2s/epoch - 8ms/step\n",
            "Epoch 117/200\n",
            "244/244 - 2s - loss: 0.4888 - accuracy: 0.9000 - 2s/epoch - 8ms/step\n",
            "Epoch 118/200\n",
            "244/244 - 2s - loss: 0.4837 - accuracy: 0.8999 - 2s/epoch - 8ms/step\n",
            "Epoch 119/200\n",
            "244/244 - 2s - loss: 0.4726 - accuracy: 0.9025 - 2s/epoch - 8ms/step\n",
            "Epoch 120/200\n",
            "244/244 - 2s - loss: 0.4611 - accuracy: 0.9035 - 2s/epoch - 8ms/step\n",
            "Epoch 121/200\n",
            "244/244 - 2s - loss: 0.4543 - accuracy: 0.9048 - 2s/epoch - 8ms/step\n",
            "Epoch 122/200\n",
            "244/244 - 2s - loss: 0.4450 - accuracy: 0.9062 - 2s/epoch - 8ms/step\n",
            "Epoch 123/200\n",
            "244/244 - 2s - loss: 0.4389 - accuracy: 0.9061 - 2s/epoch - 8ms/step\n",
            "Epoch 124/200\n",
            "244/244 - 2s - loss: 0.4371 - accuracy: 0.9057 - 2s/epoch - 9ms/step\n",
            "Epoch 125/200\n",
            "244/244 - 2s - loss: 0.4262 - accuracy: 0.9085 - 2s/epoch - 8ms/step\n",
            "Epoch 126/200\n",
            "244/244 - 2s - loss: 0.4173 - accuracy: 0.9107 - 2s/epoch - 9ms/step\n",
            "Epoch 127/200\n",
            "244/244 - 2s - loss: 0.4094 - accuracy: 0.9113 - 2s/epoch - 9ms/step\n",
            "Epoch 128/200\n",
            "244/244 - 2s - loss: 0.4053 - accuracy: 0.9113 - 2s/epoch - 9ms/step\n",
            "Epoch 129/200\n",
            "244/244 - 2s - loss: 0.3987 - accuracy: 0.9103 - 2s/epoch - 8ms/step\n",
            "Epoch 130/200\n",
            "244/244 - 2s - loss: 0.3914 - accuracy: 0.9114 - 2s/epoch - 8ms/step\n",
            "Epoch 131/200\n",
            "244/244 - 2s - loss: 0.3869 - accuracy: 0.9121 - 2s/epoch - 8ms/step\n",
            "Epoch 132/200\n",
            "244/244 - 2s - loss: 0.3812 - accuracy: 0.9114 - 2s/epoch - 9ms/step\n",
            "Epoch 133/200\n",
            "244/244 - 2s - loss: 0.3763 - accuracy: 0.9121 - 2s/epoch - 8ms/step\n",
            "Epoch 134/200\n",
            "244/244 - 2s - loss: 0.3727 - accuracy: 0.9146 - 2s/epoch - 8ms/step\n",
            "Epoch 135/200\n",
            "244/244 - 2s - loss: 0.3679 - accuracy: 0.9140 - 2s/epoch - 8ms/step\n",
            "Epoch 136/200\n",
            "244/244 - 2s - loss: 0.3635 - accuracy: 0.9148 - 2s/epoch - 9ms/step\n",
            "Epoch 137/200\n",
            "244/244 - 2s - loss: 0.3599 - accuracy: 0.9149 - 2s/epoch - 8ms/step\n",
            "Epoch 138/200\n",
            "244/244 - 2s - loss: 0.3541 - accuracy: 0.9145 - 2s/epoch - 8ms/step\n",
            "Epoch 139/200\n",
            "244/244 - 2s - loss: 0.3547 - accuracy: 0.9153 - 2s/epoch - 8ms/step\n",
            "Epoch 140/200\n",
            "244/244 - 2s - loss: 0.3461 - accuracy: 0.9154 - 2s/epoch - 9ms/step\n",
            "Epoch 141/200\n",
            "244/244 - 2s - loss: 0.3398 - accuracy: 0.9168 - 2s/epoch - 8ms/step\n",
            "Epoch 142/200\n",
            "244/244 - 2s - loss: 0.3367 - accuracy: 0.9172 - 2s/epoch - 9ms/step\n",
            "Epoch 143/200\n",
            "244/244 - 2s - loss: 0.3355 - accuracy: 0.9170 - 2s/epoch - 8ms/step\n",
            "Epoch 144/200\n",
            "244/244 - 2s - loss: 0.3304 - accuracy: 0.9153 - 2s/epoch - 8ms/step\n",
            "Epoch 145/200\n",
            "244/244 - 2s - loss: 0.3272 - accuracy: 0.9161 - 2s/epoch - 8ms/step\n",
            "Epoch 146/200\n",
            "244/244 - 2s - loss: 0.3451 - accuracy: 0.9132 - 2s/epoch - 9ms/step\n",
            "Epoch 147/200\n",
            "244/244 - 2s - loss: 0.3338 - accuracy: 0.9154 - 2s/epoch - 8ms/step\n",
            "Epoch 148/200\n",
            "244/244 - 2s - loss: 0.3210 - accuracy: 0.9172 - 2s/epoch - 8ms/step\n",
            "Epoch 149/200\n",
            "244/244 - 2s - loss: 0.3155 - accuracy: 0.9173 - 2s/epoch - 8ms/step\n",
            "Epoch 150/200\n",
            "244/244 - 2s - loss: 0.3127 - accuracy: 0.9167 - 2s/epoch - 8ms/step\n",
            "Epoch 151/200\n",
            "244/244 - 2s - loss: 0.3099 - accuracy: 0.9190 - 2s/epoch - 9ms/step\n",
            "Epoch 152/200\n",
            "244/244 - 2s - loss: 0.3079 - accuracy: 0.9153 - 2s/epoch - 8ms/step\n",
            "Epoch 153/200\n",
            "244/244 - 2s - loss: 0.3071 - accuracy: 0.9172 - 2s/epoch - 8ms/step\n",
            "Epoch 154/200\n",
            "244/244 - 2s - loss: 0.3041 - accuracy: 0.9180 - 2s/epoch - 8ms/step\n",
            "Epoch 155/200\n",
            "244/244 - 2s - loss: 0.3006 - accuracy: 0.9166 - 2s/epoch - 9ms/step\n",
            "Epoch 156/200\n",
            "244/244 - 2s - loss: 0.2994 - accuracy: 0.9161 - 2s/epoch - 9ms/step\n",
            "Epoch 157/200\n",
            "244/244 - 2s - loss: 0.2999 - accuracy: 0.9167 - 2s/epoch - 9ms/step\n",
            "Epoch 158/200\n",
            "244/244 - 2s - loss: 0.3086 - accuracy: 0.9150 - 2s/epoch - 8ms/step\n",
            "Epoch 159/200\n",
            "244/244 - 2s - loss: 0.3252 - accuracy: 0.9123 - 2s/epoch - 8ms/step\n",
            "Epoch 160/200\n",
            "244/244 - 2s - loss: 0.3080 - accuracy: 0.9146 - 2s/epoch - 9ms/step\n",
            "Epoch 161/200\n",
            "244/244 - 2s - loss: 0.2945 - accuracy: 0.9153 - 2s/epoch - 8ms/step\n",
            "Epoch 162/200\n",
            "244/244 - 2s - loss: 0.2904 - accuracy: 0.9173 - 2s/epoch - 8ms/step\n",
            "Epoch 163/200\n",
            "244/244 - 2s - loss: 0.2886 - accuracy: 0.9164 - 2s/epoch - 8ms/step\n",
            "Epoch 164/200\n",
            "244/244 - 2s - loss: 0.2885 - accuracy: 0.9171 - 2s/epoch - 8ms/step\n",
            "Epoch 165/200\n",
            "244/244 - 2s - loss: 0.2875 - accuracy: 0.9158 - 2s/epoch - 8ms/step\n",
            "Epoch 166/200\n",
            "244/244 - 2s - loss: 0.2843 - accuracy: 0.9163 - 2s/epoch - 8ms/step\n",
            "Epoch 167/200\n",
            "244/244 - 2s - loss: 0.2845 - accuracy: 0.9167 - 2s/epoch - 8ms/step\n",
            "Epoch 168/200\n",
            "244/244 - 2s - loss: 0.2834 - accuracy: 0.9161 - 2s/epoch - 9ms/step\n",
            "Epoch 169/200\n",
            "244/244 - 2s - loss: 0.2877 - accuracy: 0.9157 - 2s/epoch - 8ms/step\n",
            "Epoch 170/200\n",
            "244/244 - 2s - loss: 0.2906 - accuracy: 0.9164 - 2s/epoch - 8ms/step\n",
            "Epoch 171/200\n",
            "244/244 - 2s - loss: 0.2897 - accuracy: 0.9166 - 2s/epoch - 8ms/step\n",
            "Epoch 172/200\n",
            "244/244 - 2s - loss: 0.2809 - accuracy: 0.9157 - 2s/epoch - 8ms/step\n",
            "Epoch 173/200\n",
            "244/244 - 2s - loss: 0.2781 - accuracy: 0.9162 - 2s/epoch - 8ms/step\n",
            "Epoch 174/200\n",
            "244/244 - 2s - loss: 0.2764 - accuracy: 0.9176 - 2s/epoch - 8ms/step\n",
            "Epoch 175/200\n",
            "244/244 - 2s - loss: 0.2769 - accuracy: 0.9172 - 2s/epoch - 9ms/step\n",
            "Epoch 176/200\n",
            "244/244 - 2s - loss: 0.2746 - accuracy: 0.9168 - 2s/epoch - 8ms/step\n",
            "Epoch 177/200\n",
            "244/244 - 2s - loss: 0.2754 - accuracy: 0.9167 - 2s/epoch - 8ms/step\n",
            "Epoch 178/200\n",
            "244/244 - 2s - loss: 0.2747 - accuracy: 0.9170 - 2s/epoch - 8ms/step\n",
            "Epoch 179/200\n",
            "244/244 - 2s - loss: 0.2929 - accuracy: 0.9145 - 2s/epoch - 9ms/step\n",
            "Epoch 180/200\n",
            "244/244 - 2s - loss: 0.2826 - accuracy: 0.9154 - 2s/epoch - 9ms/step\n",
            "Epoch 181/200\n",
            "244/244 - 2s - loss: 0.2751 - accuracy: 0.9141 - 2s/epoch - 9ms/step\n",
            "Epoch 182/200\n",
            "244/244 - 2s - loss: 0.2714 - accuracy: 0.9161 - 2s/epoch - 9ms/step\n",
            "Epoch 183/200\n",
            "244/244 - 2s - loss: 0.2710 - accuracy: 0.9173 - 2s/epoch - 8ms/step\n",
            "Epoch 184/200\n",
            "244/244 - 2s - loss: 0.2702 - accuracy: 0.9163 - 2s/epoch - 8ms/step\n",
            "Epoch 185/200\n",
            "244/244 - 2s - loss: 0.2732 - accuracy: 0.9166 - 2s/epoch - 9ms/step\n",
            "Epoch 186/200\n",
            "244/244 - 2s - loss: 0.2715 - accuracy: 0.9166 - 2s/epoch - 9ms/step\n",
            "Epoch 187/200\n",
            "244/244 - 2s - loss: 0.2708 - accuracy: 0.9162 - 2s/epoch - 8ms/step\n",
            "Epoch 188/200\n",
            "244/244 - 2s - loss: 0.2745 - accuracy: 0.9175 - 2s/epoch - 9ms/step\n",
            "Epoch 189/200\n",
            "244/244 - 2s - loss: 0.2712 - accuracy: 0.9163 - 2s/epoch - 8ms/step\n",
            "Epoch 190/200\n",
            "244/244 - 2s - loss: 0.2698 - accuracy: 0.9171 - 2s/epoch - 9ms/step\n",
            "Epoch 191/200\n",
            "244/244 - 2s - loss: 0.2679 - accuracy: 0.9163 - 2s/epoch - 9ms/step\n",
            "Epoch 192/200\n",
            "244/244 - 2s - loss: 0.2654 - accuracy: 0.9176 - 2s/epoch - 9ms/step\n",
            "Epoch 193/200\n",
            "244/244 - 2s - loss: 0.2663 - accuracy: 0.9167 - 2s/epoch - 8ms/step\n",
            "Epoch 194/200\n",
            "244/244 - 2s - loss: 0.2651 - accuracy: 0.9166 - 2s/epoch - 8ms/step\n",
            "Epoch 195/200\n",
            "244/244 - 2s - loss: 0.2658 - accuracy: 0.9170 - 2s/epoch - 8ms/step\n",
            "Epoch 196/200\n",
            "244/244 - 2s - loss: 0.2646 - accuracy: 0.9163 - 2s/epoch - 9ms/step\n",
            "Epoch 197/200\n",
            "244/244 - 2s - loss: 0.2661 - accuracy: 0.9158 - 2s/epoch - 9ms/step\n",
            "Epoch 198/200\n",
            "244/244 - 2s - loss: 0.2654 - accuracy: 0.9161 - 2s/epoch - 9ms/step\n",
            "Epoch 199/200\n",
            "244/244 - 2s - loss: 0.2638 - accuracy: 0.9170 - 2s/epoch - 9ms/step\n",
            "Epoch 200/200\n",
            "244/244 - 2s - loss: 0.2638 - accuracy: 0.9173 - 2s/epoch - 9ms/step\n"
          ]
        },
        {
          "data": {
            "text/plain": [
              "<keras.callbacks.History at 0x7feacc58f0d0>"
            ]
          },
          "execution_count": 40,
          "metadata": {},
          "output_type": "execute_result"
        }
      ],
      "source": [
        "embedding_dim = 10\n",
        "hidden_units = 128\n",
        "\n",
        "model = Sequential()\n",
        "model.add(Embedding(vocab_size, embedding_dim))\n",
        "model.add(LSTM(hidden_units))\n",
        "model.add(Dense(vocab_size, activation='softmax'))\n",
        "model.compile(loss='categorical_crossentropy', optimizer='adam', metrics=['accuracy'])\n",
        "model.fit(X, y, epochs=200, verbose=2)"
      ]
    },
    {
      "attachments": {},
      "cell_type": "markdown",
      "metadata": {},
      "source": [
        "문장을 생성하는 함수 sentence_generation을 만들어서 문장을 생성해봅시다."
      ]
    },
    {
      "cell_type": "code",
      "execution_count": 41,
      "metadata": {
        "id": "J6Lqo_uRIq2X"
      },
      "outputs": [],
      "source": [
        "def sentence_generation(model, tokenizer, current_word, n): # 모델, 토크나이저, 현재 단어, 반복할 횟수\n",
        "    init_word = current_word\n",
        "    sentence = ''\n",
        "\n",
        "    # n번 반복\n",
        "    for _ in range(n):\n",
        "        encoded = tokenizer.texts_to_sequences([current_word])[0]\n",
        "        encoded = pad_sequences([encoded], maxlen=max_len-1, padding='pre')\n",
        "\n",
        "        # 입력한 X(현재 단어)에 대해서 y를 예측하고 y(예측한 단어)를 result에 저장.\n",
        "        result = model.predict(encoded, verbose=0)\n",
        "        result = np.argmax(result, axis=1)\n",
        "\n",
        "        for word, index in tokenizer.word_index.items(): \n",
        "            # 만약 예측한 단어와 인덱스와 동일한 단어가 있다면\n",
        "            if index == result:\n",
        "                break\n",
        "\n",
        "        # 현재 단어 + ' ' + 예측 단어를 현재 단어로 변경\n",
        "        current_word = current_word + ' '  + word\n",
        "\n",
        "        # 예측 단어를 문장에 저장\n",
        "        sentence = sentence + ' ' + word\n",
        "\n",
        "    sentence = init_word + sentence\n",
        "    return sentence"
      ]
    },
    {
      "attachments": {},
      "cell_type": "markdown",
      "metadata": {},
      "source": [
        "임의의 단어 'i'에 대해서 10개의 단어를 추가 생성해봅시다."
      ]
    },
    {
      "cell_type": "code",
      "execution_count": 42,
      "metadata": {
        "colab": {
          "base_uri": "https://localhost:8080/"
        },
        "id": "uAfJZAD4JIUM",
        "outputId": "3a61fef1-8790-48c7-e0b4-cee24472dbde"
      },
      "outputs": [
        {
          "name": "stdout",
          "output_type": "stream",
          "text": [
            "i cant jump ship from facebook yet saudis lash back at\n"
          ]
        }
      ],
      "source": [
        "print(sentence_generation(model, tokenizer, 'i', 10))"
      ]
    },
    {
      "attachments": {},
      "cell_type": "markdown",
      "metadata": {},
      "source": [
        "임의의 단어 'how'에 대해서 10개의 단어를 추가 생성해봅시다."
      ]
    },
    {
      "cell_type": "code",
      "execution_count": 43,
      "metadata": {
        "colab": {
          "base_uri": "https://localhost:8080/"
        },
        "id": "JeXp2oTZJLiS",
        "outputId": "00e7fa2c-821a-4bf1-ada3-736c227865fd"
      },
      "outputs": [
        {
          "name": "stdout",
          "output_type": "stream",
          "text": [
            "how to make a crossword puzzle movement and the old great\n"
          ]
        }
      ],
      "source": [
        "print(sentence_generation(model, tokenizer, 'how', 10))"
      ]
    }
  ],
  "metadata": {
    "accelerator": "GPU",
    "colab": {
      "collapsed_sections": [],
      "machine_shape": "hm",
      "name": "Text generation with an RNN.ipynb",
      "provenance": []
    },
    "kernelspec": {
      "display_name": "Python 3",
      "name": "python3"
    },
    "language_info": {
      "codemirror_mode": {
        "name": "ipython",
        "version": 3
      },
      "file_extension": ".py",
      "mimetype": "text/x-python",
      "name": "python",
      "nbconvert_exporter": "python",
      "pygments_lexer": "ipython3",
      "version": "3.8.10"
    }
  },
  "nbformat": 4,
  "nbformat_minor": 0
}
